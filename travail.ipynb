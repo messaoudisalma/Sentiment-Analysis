{
  "cells": [
    {
      "cell_type": "code",
      "execution_count": 2,
      "metadata": {},
      "outputs": [
        {
          "name": "stdout",
          "output_type": "stream",
          "text": [
            "Requirement already satisfied: pandas in c:\\users\\asus\\appdata\\local\\programs\\python\\python312\\lib\\site-packages (2.2.2)Note: you may need to restart the kernel to use updated packages.\n",
            "\n",
            "Requirement already satisfied: numpy>=1.26.0 in c:\\users\\asus\\appdata\\local\\programs\\python\\python312\\lib\\site-packages (from pandas) (1.26.4)\n",
            "Requirement already satisfied: python-dateutil>=2.8.2 in c:\\users\\asus\\appdata\\roaming\\python\\python312\\site-packages (from pandas) (2.9.0.post0)\n",
            "Requirement already satisfied: pytz>=2020.1 in c:\\users\\asus\\appdata\\local\\programs\\python\\python312\\lib\\site-packages (from pandas) (2024.1)\n",
            "Requirement already satisfied: tzdata>=2022.7 in c:\\users\\asus\\appdata\\local\\programs\\python\\python312\\lib\\site-packages (from pandas) (2024.1)\n",
            "Requirement already satisfied: six>=1.5 in c:\\users\\asus\\appdata\\roaming\\python\\python312\\site-packages (from python-dateutil>=2.8.2->pandas) (1.16.0)\n"
          ]
        }
      ],
      "source": [
        "pip install pandas"
      ]
    },
    {
      "cell_type": "code",
      "execution_count": 3,
      "metadata": {
        "colab": {
          "base_uri": "https://localhost:8080/"
        },
        "id": "VMNs6YEk2NiY",
        "outputId": "6bc58bd1-e130-488c-9d24-2aac03a82361"
      },
      "outputs": [
        {
          "name": "stdout",
          "output_type": "stream",
          "text": [
            "           Comment Date                                            Comment  \\\n",
            "0  2024-05-01T01:08:27Z  لماذا قصيتو المتقاعدين الذين لايتجاوز معاشهم 2...   \n",
            "1  2024-04-30T22:54:03Z    الشيء الايجابي هو انه صايب ديك السنة اللي مهرسة   \n",
            "2  2024-04-26T06:18:38Z  اللهم صل وسلم وبارك على سيدنا محمد وعلى اله وص...   \n",
            "3  2024-04-26T06:18:04Z  المغرب يسير في تقدم وازدهار ونجاح كبير بفضل ال...   \n",
            "4  2024-04-25T14:58:32Z  من نيتكم 😂😂😂😂😂\\nهادي هي اخر مرة تشدو فيها الحكومة   \n",
            "\n",
            "   Likes            Author  Replies     Label  Unnamed: 0  \n",
            "0    0.0  @user-ox8oe1vh4n      0.0  negative         NaN  \n",
            "1    0.0         @pikalati      0.0  positive         NaN  \n",
            "2    1.0  @user-df5np7ts3t      0.0  positive         NaN  \n",
            "3    1.0  @user-df5np7ts3t      0.0  positive         NaN  \n",
            "4    1.0  @user-km5cp4tf9d      0.0    neutre         NaN  \n"
          ]
        }
      ],
      "source": [
        "import pandas as pd\n",
        "\n",
        "# Charger les différents datasets\n",
        "data_1 = pd.read_csv(\"Le360_libel.csv\")\n",
        "data_2 = pd.read_csv(\"amazon_label.csv\")\n",
        "data_3 = pd.read_csv(\"covid_label.csv\")\n",
        "data_4 = pd.read_csv(\"data_det.csv\")\n",
        "data_5 = pd.read_csv(\"data_github.csv\")\n",
        "data_6 = pd.read_csv(\"donnees_Meski_annotees.csv\")\n",
        "data_7 = pd.read_csv(\"donnees_Politique_2M_annotees.csv\")\n",
        "data_8 = pd.read_csv(\"donnees_sawt_annotees.csv\")\n",
        "data_9 = pd.read_csv(\"donnees_simo2_annotees.csv\")\n",
        "data_10 = pd.read_csv(\"donnees_simo_annotees.csv\")\n",
        "data_11 = pd.read_csv(\"donnees_اضرابات_annotees.csv\")\n",
        "data_12 = pd.read_csv(\"father_label.csv\")\n",
        "data_13 = pd.read_csv(\"iftar_label.csv\")\n",
        "data_14 = pd.read_csv(\"moving_label.csv\")\n",
        "data_15 = pd.read_csv(\"shoping_label.csv\")\n",
        "data_16 = pd.read_csv(\"story_label.csv\")\n",
        "data_17 = pd.read_csv(\"tailand2_label.csv\")\n",
        "data_18 = pd.read_csv(\"tailand3_label.csv\")\n",
        "data_19 = pd.read_csv(\"tailand_label.csv\")\n",
        "data_20 = pd.read_csv(\"اضحية_libel.csv\")\n",
        "data_21 = pd.read_csv(\"درس_libel.csv\")\n",
        "data_22 = pd.read_csv(\"مربوح_libel.csv\")\n",
        "data_23 = pd.read_csv(\"amal_label.csv\")\n",
        "data_24 = pd.read_csv(\"donnees_Chaima_annotees.csv\")\n",
        "data_25 = pd.read_csv(\"donnees_rim_annotees.csv\")\n",
        "data_26 = pd.read_csv(\"million_label.csv\")\n",
        "data_27 = pd.read_csv(\"donnees_Machroue_annotees.csv\")\n",
        "data_28 = pd.read_csv(\"donnees_Meski_annotees.csv\")\n",
        "data_29 = pd.read_csv(\"دعم_label.csv\")\n",
        "data_30 = pd.read_csv(\"donnees_Akhanoch_annotees.csv\")\n",
        "data_31 = pd.read_csv(\"prix_label.csv\")\n",
        "data_32 = pd.read_csv(\"colere_label.csv\")\n",
        "data_33 = pd.read_csv(\"data_annotées.csv\")\n",
        "\n",
        "\n",
        "# Concaténer les datasets\n",
        "data = pd.concat([data_1, data_2, data_3, data_4, data_5, data_6, data_7, data_8, data_9, data_10, data_11,\n",
        "                data_12, data_13, data_14, data_15, data_16, data_17, data_18, data_19, data_20, data_21,\n",
        "                data_22, data_23, data_24, data_25, data_26, data_27, data_28, data_29, data_30, data_31, \n",
        "                data_32, data_33], ignore_index=True)\n",
        "\n",
        "# Afficher le nouveau dataset\n",
        "print(data.head())\n",
        "\n",
        "# Sauvegarder le nouveau dataset\n",
        "data.to_csv(\"data.csv\", index=False)\n"
      ]
    },
    {
      "cell_type": "code",
      "execution_count": 4,
      "metadata": {
        "id": "zKTmYD94GL_B"
      },
      "outputs": [],
      "source": [
        "# Supprimer toutes les colonnes sauf \"Comment\" et \"Label\"\n",
        "data = data[['Comment', 'Label']]"
      ]
    },
    {
      "cell_type": "code",
      "execution_count": 5,
      "metadata": {
        "colab": {
          "base_uri": "https://localhost:8080/"
        },
        "id": "ab9nqvVw7IIK",
        "outputId": "7e24fa8b-b4fb-41cc-f76d-92f75da9c024"
      },
      "outputs": [
        {
          "name": "stdout",
          "output_type": "stream",
          "text": [
            "Nombre de lignes dans le dataset : 11598\n"
          ]
        }
      ],
      "source": [
        "# Afficher le nombre de lignes dans le dataset\n",
        "nombre_de_lignes = len(data)\n",
        "print(\"Nombre de lignes dans le dataset :\", nombre_de_lignes)"
      ]
    },
    {
      "cell_type": "code",
      "execution_count": 6,
      "metadata": {},
      "outputs": [
        {
          "name": "stdout",
          "output_type": "stream",
          "text": [
            "Requirement already satisfied: matplotlib in c:\\users\\asus\\appdata\\local\\programs\\python\\python312\\lib\\site-packages (3.9.0)\n",
            "Requirement already satisfied: contourpy>=1.0.1 in c:\\users\\asus\\appdata\\local\\programs\\python\\python312\\lib\\site-packages (from matplotlib) (1.2.1)\n",
            "Requirement already satisfied: cycler>=0.10 in c:\\users\\asus\\appdata\\local\\programs\\python\\python312\\lib\\site-packages (from matplotlib) (0.12.1)\n",
            "Requirement already satisfied: fonttools>=4.22.0 in c:\\users\\asus\\appdata\\local\\programs\\python\\python312\\lib\\site-packages (from matplotlib) (4.51.0)\n",
            "Requirement already satisfied: kiwisolver>=1.3.1 in c:\\users\\asus\\appdata\\local\\programs\\python\\python312\\lib\\site-packages (from matplotlib) (1.4.5)\n",
            "Requirement already satisfied: numpy>=1.23 in c:\\users\\asus\\appdata\\local\\programs\\python\\python312\\lib\\site-packages (from matplotlib) (1.26.4)\n",
            "Requirement already satisfied: packaging>=20.0 in c:\\users\\asus\\appdata\\roaming\\python\\python312\\site-packages (from matplotlib) (24.0)\n",
            "Requirement already satisfied: pillow>=8 in c:\\users\\asus\\appdata\\local\\programs\\python\\python312\\lib\\site-packages (from matplotlib) (10.3.0)\n",
            "Requirement already satisfied: pyparsing>=2.3.1 in c:\\users\\asus\\appdata\\local\\programs\\python\\python312\\lib\\site-packages (from matplotlib) (3.1.2)\n",
            "Requirement already satisfied: python-dateutil>=2.7 in c:\\users\\asus\\appdata\\roaming\\python\\python312\\site-packages (from matplotlib) (2.9.0.post0)\n",
            "Requirement already satisfied: six>=1.5 in c:\\users\\asus\\appdata\\roaming\\python\\python312\\site-packages (from python-dateutil>=2.7->matplotlib) (1.16.0)\n",
            "Note: you may need to restart the kernel to use updated packages.\n"
          ]
        }
      ],
      "source": [
        "pip install matplotlib"
      ]
    },
    {
      "cell_type": "code",
      "execution_count": 7,
      "metadata": {
        "colab": {
          "base_uri": "https://localhost:8080/",
          "height": 565
        },
        "id": "2CIz8SWS722j",
        "outputId": "57d91144-546c-4676-baa6-138c649731ca"
      },
      "outputs": [
        {
          "data": {
            "image/png": "[encoded data removed]",
            "text/plain": [
              "<Figure size 800x600 with 1 Axes>"
            ]
          },
          "metadata": {},
          "output_type": "display_data"
        }
      ],
      "source": [
        "import pandas as pd\n",
        "import matplotlib.pyplot as plt\n",
        "\n",
        "\n",
        "# Compter le nombre de valeurs positives, négatives et neutres dans la colonne \"Label\"\n",
        "label_counts = data[\"Label\"].value_counts()\n",
        "\n",
        "# Créer un graphique à barres\n",
        "plt.figure(figsize=(8, 6))\n",
        "plt.bar(label_counts.index, label_counts.values, color=['green', 'red', 'blue'])\n",
        "\n",
        "# Ajouter les étiquettes de données au-dessus de chaque barre\n",
        "for i, value in enumerate(label_counts.values):\n",
        "    plt.text(i, value, str(value), ha='center', va='bottom')\n",
        "\n",
        "# Ajouter un titre et des étiquettes aux axes\n",
        "plt.title(\"Nombre de valeurs positives, négatives et neutres\")\n",
        "plt.xlabel(\"Label\")\n",
        "plt.ylabel(\"Nombre de valeurs\")\n",
        "\n",
        "# Afficher le graphique\n",
        "plt.show()\n"
      ]
    },
    {
      "cell_type": "code",
      "execution_count": 8,
      "metadata": {
        "colab": {
          "base_uri": "https://localhost:8080/"
        },
        "id": "NvghlOmh8kdx",
        "outputId": "a2d97914-6a94-4fbe-95f9-85f32cff3f63"
      },
      "outputs": [
        {
          "name": "stdout",
          "output_type": "stream",
          "text": [
            "Label\n",
            "negative    4092\n",
            "positive    3304\n",
            "neutre       798\n",
            "deux          11\n",
            "Name: count, dtype: int64\n"
          ]
        },
        {
          "name": "stderr",
          "output_type": "stream",
          "text": [
            "C:\\Users\\asus\\AppData\\Local\\Temp\\ipykernel_8080\\3862482781.py:2: FutureWarning: A value is trying to be set on a copy of a DataFrame or Series through chained assignment using an inplace method.\n",
            "The behavior will change in pandas 3.0. This inplace method will never work because the intermediate object on which we are setting values always behaves as a copy.\n",
            "\n",
            "For example, when doing 'df[col].method(value, inplace=True)', try using 'df.method({col: value}, inplace=True)' or df[col] = df[col].method(value) instead, to perform the operation inplace on the original object.\n",
            "\n",
            "\n",
            "  data[\"Label\"].replace({\"beutre\": \"neutre\", \"postive\": \"positive\", \" positive\":\"positive\", \"n\":\"negative\", \"v\":\"negative\"},\n"
          ]
        }
      ],
      "source": [
        "# Remplacer les valeurs \"beutre\" par \"neutre\" et \"postive\" par \"positive\"\n",
        "data[\"Label\"].replace({\"beutre\": \"neutre\", \"postive\": \"positive\", \" positive\":\"positive\", \"n\":\"negative\", \"v\":\"negative\"}, \n",
        "inplace=True)\n",
        "\n",
        "# Vérifier les modifications\n",
        "print(data[\"Label\"].value_counts())"
      ]
    },
    {
      "cell_type": "code",
      "execution_count": 9,
      "metadata": {
        "colab": {
          "base_uri": "https://localhost:8080/"
        },
        "id": "bD4WwB0t9OFW",
        "outputId": "e5589827-02a9-49dc-c41f-3c60ede879dd"
      },
      "outputs": [
        {
          "name": "stdout",
          "output_type": "stream",
          "text": [
            "                                             Comment     Label\n",
            "0  لماذا قصيتو المتقاعدين الذين لايتجاوز معاشهم 2...  negative\n",
            "1    الشيء الايجابي هو انه صايب ديك السنة اللي مهرسة  positive\n",
            "2  اللهم صل وسلم وبارك على سيدنا محمد وعلى اله وص...  positive\n",
            "3  المغرب يسير في تقدم وازدهار ونجاح كبير بفضل ال...  positive\n",
            "4  محد حكومة بنكيران كنتو نازلين عليهم بالكوميديا...  negative\n"
          ]
        }
      ],
      "source": [
        "# Supprimer les lignes contenant les valeurs \"deux\" ou \"neutre\" dans la colonne \"Label\"\n",
        "data = data[(data['Label'] != 'deux') & (data['Label'] != 'neutre')]\n",
        "\n",
        "# Réinitialiser les index\n",
        "data.reset_index(drop=True, inplace=True)\n",
        "\n",
        "# Vérifier les modifications\n",
        "print(data.head())"
      ]
    },
    {
      "cell_type": "code",
      "execution_count": 10,
      "metadata": {
        "colab": {
          "base_uri": "https://localhost:8080/"
        },
        "id": "hHi65d7O9jnG",
        "outputId": "6016a009-5997-4f95-9975-f05b91395769"
      },
      "outputs": [
        {
          "name": "stdout",
          "output_type": "stream",
          "text": [
            "Nombre de lignes dans le dataset : 10789\n"
          ]
        }
      ],
      "source": [
        "# Afficher le nombre de lignes dans le dataset\n",
        "nombre_de_lignes = len(data)\n",
        "print(\"Nombre de lignes dans le dataset :\", nombre_de_lignes)"
      ]
    },
    {
      "cell_type": "code",
      "execution_count": 11,
      "metadata": {
        "colab": {
          "base_uri": "https://localhost:8080/",
          "height": 565
        },
        "id": "BHfBq3W19rTf",
        "outputId": "b67ef0d9-e79a-4206-9b98-d2c246623dc2"
      },
      "outputs": [
        {
          "data": {
            "image/png": "[encoded data removed]",
            "text/plain": [
              "<Figure size 800x600 with 1 Axes>"
            ]
          },
          "metadata": {},
          "output_type": "display_data"
        }
      ],
      "source": [
        "import pandas as pd\n",
        "import matplotlib.pyplot as plt\n",
        "\n",
        "\n",
        "# Compter le nombre de valeurs positives, négatives dans la colonne \"Label\"\n",
        "label_counts = data[\"Label\"].value_counts()\n",
        "\n",
        "# Créer un graphique à barres\n",
        "plt.figure(figsize=(8, 6))\n",
        "plt.bar(label_counts.index, label_counts.values, color=['green', 'red'])\n",
        "\n",
        "# Ajouter les étiquettes de données au-dessus de chaque barre\n",
        "for i, value in enumerate(label_counts.values):\n",
        "    plt.text(i, value, str(value), ha='center', va='bottom')\n",
        "\n",
        "# Ajouter un titre et des étiquettes aux axes\n",
        "plt.title(\"Nombre de valeurs positives, négatives\")\n",
        "plt.xlabel(\"Label\")\n",
        "plt.ylabel(\"Nombre de valeurs\")\n",
        "\n",
        "# Afficher le graphique\n",
        "plt.show()\n"
      ]
    },
    {
      "cell_type": "code",
      "execution_count": 12,
      "metadata": {
        "colab": {
          "base_uri": "https://localhost:8080/"
        },
        "id": "gG7ZT71v_P7A",
        "outputId": "161ec80d-4c74-483e-8cc0-48cc3a59f62b"
      },
      "outputs": [
        {
          "name": "stdout",
          "output_type": "stream",
          "text": [
            "                                             Comment     Label\n",
            "0  لماذا قصيتو المتقاعدين الذين لايتجاوز معاشهم 2...  negative\n",
            "1    الشيء الايجابي هو انه صايب ديك السنة اللي مهرسة  positive\n",
            "2  اللهم صل وسلم وبارك على سيدنا محمد وعلى اله وص...  positive\n",
            "3  المغرب يسير في تقدم وازدهار ونجاح كبير بفضل ال...  positive\n",
            "4  محد حكومة بنكيران كنتو نازلين عليهم بالكوميديا...  negative\n"
          ]
        }
      ],
      "source": [
        "# Afficher les premières lignes\n",
        "print(data.head())"
      ]
    },
    {
      "cell_type": "code",
      "execution_count": 13,
      "metadata": {
        "id": "3Qubr6xtH0ui"
      },
      "outputs": [],
      "source": [
        "# Vérifier les valeurs manquantes\n",
        "missing_values = data.isnull().sum()"
      ]
    },
    {
      "cell_type": "code",
      "execution_count": 14,
      "metadata": {
        "colab": {
          "base_uri": "https://localhost:8080/"
        },
        "id": "KLRo4I-rH17o",
        "outputId": "aafaff28-142b-4697-8be6-442bf830a528"
      },
      "outputs": [
        {
          "name": "stdout",
          "output_type": "stream",
          "text": [
            "Colonnes avec des valeurs manquantes:\n",
            "Label    3393\n",
            "dtype: int64\n"
          ]
        }
      ],
      "source": [
        "# Afficher les colonnes avec des valeurs manquantes\n",
        "print(\"Colonnes avec des valeurs manquantes:\")\n",
        "print(missing_values[missing_values > 0])"
      ]
    },
    {
      "cell_type": "code",
      "execution_count": 15,
      "metadata": {
        "id": "Si6Ij7vWIgnC"
      },
      "outputs": [],
      "source": [
        "# Supprimer les lignes avec des valeurs manquantes dans la colonne 'Label'\n",
        "data.dropna(subset=['Label'], inplace=True)"
      ]
    },
    {
      "cell_type": "code",
      "execution_count": 16,
      "metadata": {
        "id": "QMsBXvazI3ee"
      },
      "outputs": [],
      "source": [
        "# Réinitialiser l'index du DataFrame\n",
        "data.reset_index(drop=True, inplace=True)"
      ]
    },
    {
      "cell_type": "code",
      "execution_count": 17,
      "metadata": {
        "colab": {
          "base_uri": "https://localhost:8080/"
        },
        "id": "1snhKxpdInnr",
        "outputId": "3ba18f22-e22f-4bb5-9415-d561c9986bcb"
      },
      "outputs": [
        {
          "name": "stdout",
          "output_type": "stream",
          "text": [
            "Colonnes avec des valeurs manquantes après suppression:\n",
            "Series([], dtype: int64)\n"
          ]
        }
      ],
      "source": [
        "# Vérifier à nouveau les valeurs manquantes pour s'assurer qu'elles ont été supprimées\n",
        "missing_values = data.isnull().sum()\n",
        "print(\"Colonnes avec des valeurs manquantes après suppression:\")\n",
        "print(missing_values[missing_values > 0])"
      ]
    },
    {
      "cell_type": "code",
      "execution_count": 18,
      "metadata": {
        "colab": {
          "base_uri": "https://localhost:8080/"
        },
        "id": "4xdam42hI-Ni",
        "outputId": "95defbf6-7cd6-4517-c1b2-db894072a31b"
      },
      "outputs": [
        {
          "name": "stdout",
          "output_type": "stream",
          "text": [
            "Nombre de lignes dans le dataset : 7396\n"
          ]
        }
      ],
      "source": [
        "# Afficher le nombre de lignes dans le dataset\n",
        "nombre_de_lignes = len(data)\n",
        "print(\"Nombre de lignes dans le dataset :\", nombre_de_lignes)"
      ]
    },
    {
      "cell_type": "code",
      "execution_count": 19,
      "metadata": {
        "colab": {
          "base_uri": "https://localhost:8080/"
        },
        "id": "Y4rA37wXNke9",
        "outputId": "c43b7b8e-503f-4db5-91a3-6b0774187acc"
      },
      "outputs": [
        {
          "name": "stdout",
          "output_type": "stream",
          "text": [
            "Première valeur de la colonne 'Comment' : لماذا قصيتو المتقاعدين الذين لايتجاوز معاشهم 2000 درهم\n",
            "حسبنا الله ونعم الوكيل في كل مسؤول ظالم\n"
          ]
        }
      ],
      "source": [
        "# Afficher la valeur de la première ligne de la colonne \"Comment\"\n",
        "premiere_valeur_comment = data_1.iloc[0]['Comment']\n",
        "print(\"Première valeur de la colonne 'Comment' :\", premiere_valeur_comment)"
      ]
    },
    {
      "cell_type": "code",
      "execution_count": 20,
      "metadata": {
        "colab": {
          "base_uri": "https://localhost:8080/"
        },
        "id": "ZQf-eJR3XhnA",
        "outputId": "70c11fb5-358d-42f0-816a-6f65b3a089e9"
      },
      "outputs": [
        {
          "name": "stdout",
          "output_type": "stream",
          "text": [
            "Commentaire avec ponctuation avant nettoyage : اللهم صل وسلم وبارك على سيدنا محمد وعلى اله وصحبه اجمعين رضينا بالله ربا وبالاسلام دينا وبمحمد صلى الله عليه وسلم نبيا و رسولا ♥️🇲🇦🥇♥️💌🇲🇦\n",
            "Commentaire avec ponctuation après nettoyage : اللهم صل وسلم وبارك على سيدنا محمد وعلى اله وصحبه اجمعين رضينا بالله ربا وبالاسلام دينا وبمحمد صلى الله عليه وسلم نبيا و رسولا \n",
            "\n",
            "Commentaire avec liens web avant nettoyage : الاحصائيات الوطنية والدولية خير دليل على حصيلة هذه الحكومة اما فيما يتعلق بالشق الالعن وهو محاولة علمنة المملكة المغربية فهذه هديتي،لكل  من يصدق كذبة علمانية الولايات المتحدة او اسرائيل او الغرب وكل من يصدق هاته الامبرياليات لما تتحدت عن افتقار الدين للحداتة وضرورة التخلي عنه https://youtu.be/F1o6NbMYpBI?si=u_eubSbTf-RTkUUz\n",
            "Commentaire avec liens web après nettoyage : الاحصائيات الوطنية والدولية خير دليل على حصيلة هذه الحكومة اما فيما يتعلق بالشق الالعن وهو محاولة علمنة المملكة المغربية فهذه هديتيلكل  من يصدق كذبة علمانية الولايات المتحدة او اسرائيل او الغرب وكل من يصدق هاته الامبرياليات لما تتحدت عن افتقار الدين للحداتة وضرورة التخلي عنه \n",
            "\n",
            "Commentaire avec chiffres avant nettoyage : لماذا قصيتو المتقاعدين الذين لايتجاوز معاشهم 2000 درهم\n",
            "حسبنا الله ونعم الوكيل في كل مسؤول ظالم\n",
            "Commentaire avec chiffres après nettoyage : لماذا قصيتو المتقاعدين الذين لايتجاوز معاشهم  درهم\n",
            "حسبنا الله ونعم الوكيل في كل مسؤول ظالم\n",
            "\n"
          ]
        }
      ],
      "source": [
        "import re\n",
        "\n",
        "# Fonction pour supprimer les chiffres, les ponctuations et les liens web d'une chaîne de caractères\n",
        "def nettoyer_commentaire(commentaire):\n",
        "    # Supprimer les chiffres\n",
        "    commentaire = re.sub(r'\\d+', '', commentaire)\n",
        "    # Supprimer la ponctuation\n",
        "    commentaire = re.sub(r'[^\\w\\s]', '', commentaire)\n",
        "    # Supprimer les liens web\n",
        "    commentaire = re.sub(r'http\\S+', '', commentaire)\n",
        "    return commentaire\n",
        "\n",
        "# Appliquer la fonction de nettoyage à la colonne \"Comment\" et stocker les résultats dans une nouvelle colonne\n",
        "data['Comment_nettoye'] = data['Comment'].apply(nettoyer_commentaire)\n",
        "\n",
        "# Filtrer les commentaires qui contiennent des ponctuations\n",
        "commentaire_avec_ponctuation = data[data['Comment'].str.contains(r'[^\\w\\s]')]['Comment'].iloc[0]\n",
        "\n",
        "# Filtrer les commentaires qui contiennent des liens web\n",
        "commentaire_avec_liens_web = data[data['Comment'].str.contains(r'http\\S+')]['Comment'].iloc[0]\n",
        "\n",
        "# Filtrer les commentaires qui contiennent des chiffres\n",
        "commentaire_avec_chiffres = data[data['Comment'].str.contains(r'\\d+')]['Comment'].iloc[0]\n",
        "\n",
        "# Afficher les commentaires avant et après le nettoyage\n",
        "print(\"Commentaire avec ponctuation avant nettoyage :\", commentaire_avec_ponctuation)\n",
        "print(\"Commentaire avec ponctuation après nettoyage :\", nettoyer_commentaire(commentaire_avec_ponctuation))\n",
        "print()\n",
        "\n",
        "print(\"Commentaire avec liens web avant nettoyage :\", commentaire_avec_liens_web)\n",
        "print(\"Commentaire avec liens web après nettoyage :\", nettoyer_commentaire(commentaire_avec_liens_web))\n",
        "print()\n",
        "\n",
        "print(\"Commentaire avec chiffres avant nettoyage :\", commentaire_avec_chiffres)\n",
        "print(\"Commentaire avec chiffres après nettoyage :\", nettoyer_commentaire(commentaire_avec_chiffres))\n",
        "print()\n"
      ]
    },
    {
      "cell_type": "code",
      "execution_count": 21,
      "metadata": {
        "colab": {
          "base_uri": "https://localhost:8080/",
          "height": 424
        },
        "id": "yqHPe9J66HOi",
        "outputId": "5ef0d6ef-34d5-475a-bde4-bff24b9276a4"
      },
      "outputs": [
        {
          "data": {
            "text/html": [
              "<div>\n",
              "<style scoped>\n",
              "    .dataframe tbody tr th:only-of-type {\n",
              "        vertical-align: middle;\n",
              "    }\n",
              "\n",
              "    .dataframe tbody tr th {\n",
              "        vertical-align: top;\n",
              "    }\n",
              "\n",
              "    .dataframe thead th {\n",
              "        text-align: right;\n",
              "    }\n",
              "</style>\n",
              "<table border=\"1\" class=\"dataframe\">\n",
              "  <thead>\n",
              "    <tr style=\"text-align: right;\">\n",
              "      <th></th>\n",
              "      <th>Comment</th>\n",
              "      <th>Label</th>\n",
              "      <th>Comment_nettoye</th>\n",
              "    </tr>\n",
              "  </thead>\n",
              "  <tbody>\n",
              "    <tr>\n",
              "      <th>0</th>\n",
              "      <td>لماذا قصيتو المتقاعدين الذين لايتجاوز معاشهم 2...</td>\n",
              "      <td>negative</td>\n",
              "      <td>لماذا قصيتو المتقاعدين الذين لايتجاوز معاشهم  ...</td>\n",
              "    </tr>\n",
              "    <tr>\n",
              "      <th>1</th>\n",
              "      <td>الشيء الايجابي هو انه صايب ديك السنة اللي مهرسة</td>\n",
              "      <td>positive</td>\n",
              "      <td>الشيء الايجابي هو انه صايب ديك السنة اللي مهرسة</td>\n",
              "    </tr>\n",
              "    <tr>\n",
              "      <th>2</th>\n",
              "      <td>اللهم صل وسلم وبارك على سيدنا محمد وعلى اله وص...</td>\n",
              "      <td>positive</td>\n",
              "      <td>اللهم صل وسلم وبارك على سيدنا محمد وعلى اله وص...</td>\n",
              "    </tr>\n",
              "    <tr>\n",
              "      <th>3</th>\n",
              "      <td>المغرب يسير في تقدم وازدهار ونجاح كبير بفضل ال...</td>\n",
              "      <td>positive</td>\n",
              "      <td>المغرب يسير في تقدم وازدهار ونجاح كبير بفضل ال...</td>\n",
              "    </tr>\n",
              "    <tr>\n",
              "      <th>4</th>\n",
              "      <td>محد حكومة بنكيران كنتو نازلين عليهم بالكوميديا...</td>\n",
              "      <td>negative</td>\n",
              "      <td>محد حكومة بنكيران كنتو نازلين عليهم بالكوميديا...</td>\n",
              "    </tr>\n",
              "    <tr>\n",
              "      <th>...</th>\n",
              "      <td>...</td>\n",
              "      <td>...</td>\n",
              "      <td>...</td>\n",
              "    </tr>\n",
              "    <tr>\n",
              "      <th>7391</th>\n",
              "      <td>بقى غير هذا أجي يربني نمشي نتحر حسلي جبلية واف...</td>\n",
              "      <td>negative</td>\n",
              "      <td>بقى غير هذا أجي يربني نمشي نتحر حسلي جبلية واف...</td>\n",
              "    </tr>\n",
              "    <tr>\n",
              "      <th>7392</th>\n",
              "      <td>أنصح أخنوش بأنه عند إعادة تربية المغاربة سيخلق...</td>\n",
              "      <td>negative</td>\n",
              "      <td>أنصح أخنوش بأنه عند إعادة تربية المغاربة سيخلق...</td>\n",
              "    </tr>\n",
              "    <tr>\n",
              "      <th>7393</th>\n",
              "      <td>نعم فقرونا احنا وولادنا حسبيا الله ونعم الوكيل</td>\n",
              "      <td>negative</td>\n",
              "      <td>نعم فقرونا احنا وولادنا حسبيا الله ونعم الوكيل</td>\n",
              "    </tr>\n",
              "    <tr>\n",
              "      <th>7394</th>\n",
              "      <td>راهم كايكذبو على ألناس حسبنا الله ونعم الوكيل</td>\n",
              "      <td>negative</td>\n",
              "      <td>راهم كايكذبو على ألناس حسبنا الله ونعم الوكيل</td>\n",
              "    </tr>\n",
              "    <tr>\n",
              "      <th>7395</th>\n",
              "      <td>الحكومة المغربية عملت ساعة فقط 🤣🤣🤣🤣🤣🤣🤣🤣🤣🤣هادي ...</td>\n",
              "      <td>negative</td>\n",
              "      <td>الحكومة المغربية عملت ساعة فقط هادي حكومة غبية...</td>\n",
              "    </tr>\n",
              "  </tbody>\n",
              "</table>\n",
              "<p>7396 rows × 3 columns</p>\n",
              "</div>"
            ],
            "text/plain": [
              "                                                Comment     Label  \\\n",
              "0     لماذا قصيتو المتقاعدين الذين لايتجاوز معاشهم 2...  negative   \n",
              "1       الشيء الايجابي هو انه صايب ديك السنة اللي مهرسة  positive   \n",
              "2     اللهم صل وسلم وبارك على سيدنا محمد وعلى اله وص...  positive   \n",
              "3     المغرب يسير في تقدم وازدهار ونجاح كبير بفضل ال...  positive   \n",
              "4     محد حكومة بنكيران كنتو نازلين عليهم بالكوميديا...  negative   \n",
              "...                                                 ...       ...   \n",
              "7391  بقى غير هذا أجي يربني نمشي نتحر حسلي جبلية واف...  negative   \n",
              "7392  أنصح أخنوش بأنه عند إعادة تربية المغاربة سيخلق...  negative   \n",
              "7393     نعم فقرونا احنا وولادنا حسبيا الله ونعم الوكيل  negative   \n",
              "7394      راهم كايكذبو على ألناس حسبنا الله ونعم الوكيل  negative   \n",
              "7395  الحكومة المغربية عملت ساعة فقط 🤣🤣🤣🤣🤣🤣🤣🤣🤣🤣هادي ...  negative   \n",
              "\n",
              "                                        Comment_nettoye  \n",
              "0     لماذا قصيتو المتقاعدين الذين لايتجاوز معاشهم  ...  \n",
              "1       الشيء الايجابي هو انه صايب ديك السنة اللي مهرسة  \n",
              "2     اللهم صل وسلم وبارك على سيدنا محمد وعلى اله وص...  \n",
              "3     المغرب يسير في تقدم وازدهار ونجاح كبير بفضل ال...  \n",
              "4     محد حكومة بنكيران كنتو نازلين عليهم بالكوميديا...  \n",
              "...                                                 ...  \n",
              "7391  بقى غير هذا أجي يربني نمشي نتحر حسلي جبلية واف...  \n",
              "7392  أنصح أخنوش بأنه عند إعادة تربية المغاربة سيخلق...  \n",
              "7393     نعم فقرونا احنا وولادنا حسبيا الله ونعم الوكيل  \n",
              "7394      راهم كايكذبو على ألناس حسبنا الله ونعم الوكيل  \n",
              "7395  الحكومة المغربية عملت ساعة فقط هادي حكومة غبية...  \n",
              "\n",
              "[7396 rows x 3 columns]"
            ]
          },
          "execution_count": 21,
          "metadata": {},
          "output_type": "execute_result"
        }
      ],
      "source": [
        "data"
      ]
    },
    {
      "cell_type": "code",
      "execution_count": 22,
      "metadata": {
        "id": "1W_tXl-w9zIz"
      },
      "outputs": [],
      "source": [
        "# Supprimer toutes les colonnes sauf \"Comment_nettoye\" et \"Label\"\n",
        "data = data[['Comment_nettoye', 'Label']]"
      ]
    },
    {
      "cell_type": "code",
      "execution_count": 23,
      "metadata": {
        "colab": {
          "base_uri": "https://localhost:8080/",
          "height": 424
        },
        "id": "2Tqt_6cjE4WG",
        "outputId": "1a07b0fb-eb66-404a-a8d0-9489105a3d26"
      },
      "outputs": [
        {
          "data": {
            "text/html": [
              "<div>\n",
              "<style scoped>\n",
              "    .dataframe tbody tr th:only-of-type {\n",
              "        vertical-align: middle;\n",
              "    }\n",
              "\n",
              "    .dataframe tbody tr th {\n",
              "        vertical-align: top;\n",
              "    }\n",
              "\n",
              "    .dataframe thead th {\n",
              "        text-align: right;\n",
              "    }\n",
              "</style>\n",
              "<table border=\"1\" class=\"dataframe\">\n",
              "  <thead>\n",
              "    <tr style=\"text-align: right;\">\n",
              "      <th></th>\n",
              "      <th>Comment_nettoye</th>\n",
              "      <th>Label</th>\n",
              "    </tr>\n",
              "  </thead>\n",
              "  <tbody>\n",
              "    <tr>\n",
              "      <th>0</th>\n",
              "      <td>لماذا قصيتو المتقاعدين الذين لايتجاوز معاشهم  ...</td>\n",
              "      <td>negative</td>\n",
              "    </tr>\n",
              "    <tr>\n",
              "      <th>1</th>\n",
              "      <td>الشيء الايجابي هو انه صايب ديك السنة اللي مهرسة</td>\n",
              "      <td>positive</td>\n",
              "    </tr>\n",
              "    <tr>\n",
              "      <th>2</th>\n",
              "      <td>اللهم صل وسلم وبارك على سيدنا محمد وعلى اله وص...</td>\n",
              "      <td>positive</td>\n",
              "    </tr>\n",
              "    <tr>\n",
              "      <th>3</th>\n",
              "      <td>المغرب يسير في تقدم وازدهار ونجاح كبير بفضل ال...</td>\n",
              "      <td>positive</td>\n",
              "    </tr>\n",
              "    <tr>\n",
              "      <th>4</th>\n",
              "      <td>محد حكومة بنكيران كنتو نازلين عليهم بالكوميديا...</td>\n",
              "      <td>negative</td>\n",
              "    </tr>\n",
              "    <tr>\n",
              "      <th>...</th>\n",
              "      <td>...</td>\n",
              "      <td>...</td>\n",
              "    </tr>\n",
              "    <tr>\n",
              "      <th>7391</th>\n",
              "      <td>بقى غير هذا أجي يربني نمشي نتحر حسلي جبلية واف...</td>\n",
              "      <td>negative</td>\n",
              "    </tr>\n",
              "    <tr>\n",
              "      <th>7392</th>\n",
              "      <td>أنصح أخنوش بأنه عند إعادة تربية المغاربة سيخلق...</td>\n",
              "      <td>negative</td>\n",
              "    </tr>\n",
              "    <tr>\n",
              "      <th>7393</th>\n",
              "      <td>نعم فقرونا احنا وولادنا حسبيا الله ونعم الوكيل</td>\n",
              "      <td>negative</td>\n",
              "    </tr>\n",
              "    <tr>\n",
              "      <th>7394</th>\n",
              "      <td>راهم كايكذبو على ألناس حسبنا الله ونعم الوكيل</td>\n",
              "      <td>negative</td>\n",
              "    </tr>\n",
              "    <tr>\n",
              "      <th>7395</th>\n",
              "      <td>الحكومة المغربية عملت ساعة فقط هادي حكومة غبية...</td>\n",
              "      <td>negative</td>\n",
              "    </tr>\n",
              "  </tbody>\n",
              "</table>\n",
              "<p>7396 rows × 2 columns</p>\n",
              "</div>"
            ],
            "text/plain": [
              "                                        Comment_nettoye     Label\n",
              "0     لماذا قصيتو المتقاعدين الذين لايتجاوز معاشهم  ...  negative\n",
              "1       الشيء الايجابي هو انه صايب ديك السنة اللي مهرسة  positive\n",
              "2     اللهم صل وسلم وبارك على سيدنا محمد وعلى اله وص...  positive\n",
              "3     المغرب يسير في تقدم وازدهار ونجاح كبير بفضل ال...  positive\n",
              "4     محد حكومة بنكيران كنتو نازلين عليهم بالكوميديا...  negative\n",
              "...                                                 ...       ...\n",
              "7391  بقى غير هذا أجي يربني نمشي نتحر حسلي جبلية واف...  negative\n",
              "7392  أنصح أخنوش بأنه عند إعادة تربية المغاربة سيخلق...  negative\n",
              "7393     نعم فقرونا احنا وولادنا حسبيا الله ونعم الوكيل  negative\n",
              "7394      راهم كايكذبو على ألناس حسبنا الله ونعم الوكيل  negative\n",
              "7395  الحكومة المغربية عملت ساعة فقط هادي حكومة غبية...  negative\n",
              "\n",
              "[7396 rows x 2 columns]"
            ]
          },
          "execution_count": 23,
          "metadata": {},
          "output_type": "execute_result"
        }
      ],
      "source": [
        "data"
      ]
    },
    {
      "cell_type": "markdown",
      "metadata": {
        "id": "yvl0xBB6JKrq"
      },
      "source": [
        "# **Histogramme des étiquettes de sentiment**"
      ]
    },
    {
      "cell_type": "code",
      "execution_count": 24,
      "metadata": {},
      "outputs": [
        {
          "name": "stdout",
          "output_type": "stream",
          "text": [
            "Requirement already satisfied: seaborn in c:\\users\\asus\\appdata\\local\\programs\\python\\python312\\lib\\site-packages (0.13.2)\n",
            "Requirement already satisfied: numpy!=1.24.0,>=1.20 in c:\\users\\asus\\appdata\\local\\programs\\python\\python312\\lib\\site-packages (from seaborn) (1.26.4)\n",
            "Requirement already satisfied: pandas>=1.2 in c:\\users\\asus\\appdata\\local\\programs\\python\\python312\\lib\\site-packages (from seaborn) (2.2.2)\n",
            "Requirement already satisfied: matplotlib!=3.6.1,>=3.4 in c:\\users\\asus\\appdata\\local\\programs\\python\\python312\\lib\\site-packages (from seaborn) (3.9.0)\n",
            "Requirement already satisfied: contourpy>=1.0.1 in c:\\users\\asus\\appdata\\local\\programs\\python\\python312\\lib\\site-packages (from matplotlib!=3.6.1,>=3.4->seaborn) (1.2.1)\n",
            "Requirement already satisfied: cycler>=0.10 in c:\\users\\asus\\appdata\\local\\programs\\python\\python312\\lib\\site-packages (from matplotlib!=3.6.1,>=3.4->seaborn) (0.12.1)\n",
            "Requirement already satisfied: fonttools>=4.22.0 in c:\\users\\asus\\appdata\\local\\programs\\python\\python312\\lib\\site-packages (from matplotlib!=3.6.1,>=3.4->seaborn) (4.51.0)\n",
            "Requirement already satisfied: kiwisolver>=1.3.1 in c:\\users\\asus\\appdata\\local\\programs\\python\\python312\\lib\\site-packages (from matplotlib!=3.6.1,>=3.4->seaborn) (1.4.5)\n",
            "Requirement already satisfied: packaging>=20.0 in c:\\users\\asus\\appdata\\roaming\\python\\python312\\site-packages (from matplotlib!=3.6.1,>=3.4->seaborn) (24.0)\n",
            "Requirement already satisfied: pillow>=8 in c:\\users\\asus\\appdata\\local\\programs\\python\\python312\\lib\\site-packages (from matplotlib!=3.6.1,>=3.4->seaborn) (10.3.0)\n",
            "Requirement already satisfied: pyparsing>=2.3.1 in c:\\users\\asus\\appdata\\local\\programs\\python\\python312\\lib\\site-packages (from matplotlib!=3.6.1,>=3.4->seaborn) (3.1.2)\n",
            "Requirement already satisfied: python-dateutil>=2.7 in c:\\users\\asus\\appdata\\roaming\\python\\python312\\site-packages (from matplotlib!=3.6.1,>=3.4->seaborn) (2.9.0.post0)\n",
            "Requirement already satisfied: pytz>=2020.1 in c:\\users\\asus\\appdata\\local\\programs\\python\\python312\\lib\\site-packages (from pandas>=1.2->seaborn) (2024.1)\n",
            "Requirement already satisfied: tzdata>=2022.7 in c:\\users\\asus\\appdata\\local\\programs\\python\\python312\\lib\\site-packages (from pandas>=1.2->seaborn) (2024.1)\n",
            "Requirement already satisfied: six>=1.5 in c:\\users\\asus\\appdata\\roaming\\python\\python312\\site-packages (from python-dateutil>=2.7->matplotlib!=3.6.1,>=3.4->seaborn) (1.16.0)\n",
            "Note: you may need to restart the kernel to use updated packages.\n"
          ]
        }
      ],
      "source": [
        "pip install seaborn"
      ]
    },
    {
      "cell_type": "code",
      "execution_count": 25,
      "metadata": {
        "colab": {
          "base_uri": "https://localhost:8080/",
          "height": 671
        },
        "id": "GkwNoDPcFufe",
        "outputId": "7d08ad18-5ca1-4c76-ec1f-c98675a912bf"
      },
      "outputs": [
        {
          "name": "stderr",
          "output_type": "stream",
          "text": [
            "C:\\Users\\asus\\AppData\\Local\\Temp\\ipykernel_8080\\505831178.py:7: FutureWarning: \n",
            "\n",
            "Passing `palette` without assigning `hue` is deprecated and will be removed in v0.14.0. Assign the `x` variable to `hue` and set `legend=False` for the same effect.\n",
            "\n",
            "  ax = sns.countplot(x='Label', data=data, palette='viridis')\n"
          ]
        },
        {
          "data": {
            "image/png": "[encoded data removed]",
            "text/plain": [
              "<Figure size 1000x600 with 1 Axes>"
            ]
          },
          "metadata": {},
          "output_type": "display_data"
        }
      ],
      "source": [
        "import pandas as pd\n",
        "import matplotlib.pyplot as plt\n",
        "import seaborn as sns\n",
        "\n",
        "# Afficher la distribution des sentiments\n",
        "plt.figure(figsize=(10, 6))\n",
        "ax = sns.countplot(x='Label', data=data, palette='viridis')\n",
        "\n",
        "# Ajouter des annotations sur les barres\n",
        "for p in ax.patches:\n",
        "    height = p.get_height()\n",
        "    ax.annotate(f'{height}',\n",
        "                xy=(p.get_x() + p.get_width() / 2, height),\n",
        "                xytext=(0, 5),  # décalage de 5 points au-dessus de la barre\n",
        "                textcoords='offset points',\n",
        "                ha='center',\n",
        "                va='bottom')\n",
        "\n",
        "plt.title('Distribution des sentiments')\n",
        "plt.xlabel('Sentiment')\n",
        "plt.ylabel('Nombre de commentaires')\n",
        "plt.show()"
      ]
    },
    {
      "cell_type": "code",
      "execution_count": 26,
      "metadata": {},
      "outputs": [
        {
          "name": "stdout",
          "output_type": "stream",
          "text": [
            "Requirement already satisfied: nltk in c:\\users\\asus\\appdata\\local\\programs\\python\\python312\\lib\\site-packages (3.8.1)\n",
            "Requirement already satisfied: click in c:\\users\\asus\\appdata\\local\\programs\\python\\python312\\lib\\site-packages (from nltk) (8.1.7)\n",
            "Requirement already satisfied: joblib in c:\\users\\asus\\appdata\\local\\programs\\python\\python312\\lib\\site-packages (from nltk) (1.4.2)\n",
            "Requirement already satisfied: regex>=2021.8.3 in c:\\users\\asus\\appdata\\local\\programs\\python\\python312\\lib\\site-packages (from nltk) (2024.5.15)\n",
            "Requirement already satisfied: tqdm in c:\\users\\asus\\appdata\\local\\programs\\python\\python312\\lib\\site-packages (from nltk) (4.66.4)\n",
            "Requirement already satisfied: colorama in c:\\users\\asus\\appdata\\roaming\\python\\python312\\site-packages (from click->nltk) (0.4.6)\n",
            "Note: you may need to restart the kernel to use updated packages.\n"
          ]
        }
      ],
      "source": [
        "pip install nltk"
      ]
    },
    {
      "cell_type": "code",
      "execution_count": 27,
      "metadata": {
        "colab": {
          "base_uri": "https://localhost:8080/"
        },
        "id": "RSQWm1ry6abF",
        "outputId": "e663d3a5-f6d0-4747-8582-c338428902bc"
      },
      "outputs": [
        {
          "name": "stderr",
          "output_type": "stream",
          "text": [
            "[nltk_data] Downloading package stopwords to\n",
            "[nltk_data]     C:\\Users\\asus\\AppData\\Roaming\\nltk_data...\n",
            "[nltk_data]   Package stopwords is already up-to-date!\n",
            "[nltk_data] Downloading package punkt to\n",
            "[nltk_data]     C:\\Users\\asus\\AppData\\Roaming\\nltk_data...\n",
            "[nltk_data]   Package punkt is already up-to-date!\n"
          ]
        },
        {
          "name": "stdout",
          "output_type": "stream",
          "text": [
            "                                     Comment_nettoye  \\\n",
            "0  لماذا قصيتو المتقاعدين الذين لايتجاوز معاشهم  ...   \n",
            "1    الشيء الايجابي هو انه صايب ديك السنة اللي مهرسة   \n",
            "2  اللهم صل وسلم وبارك على سيدنا محمد وعلى اله وص...   \n",
            "3  المغرب يسير في تقدم وازدهار ونجاح كبير بفضل ال...   \n",
            "4  محد حكومة بنكيران كنتو نازلين عليهم بالكوميديا...   \n",
            "\n",
            "                                          clean_text  \n",
            "0  قصيتو المتقاعدين لايتجاوز معاشهم حسبنا الله ون...  \n",
            "1                    الشيء الايجابي صايب السنة مهرسة  \n",
            "2  اللهم صل وسلم وبارك سيدنا محمد وعلى اله وصحبه ...  \n",
            "3  المغرب يسير تقدم وازدهار ونجاح كبير بفضل الله ...  \n",
            "4  محد حكومة بنكيران كنتو نازلين عليهم بالكوميديا...  \n"
          ]
        }
      ],
      "source": [
        "import pandas as pd\n",
        "import nltk\n",
        "from nltk.corpus import stopwords\n",
        "from nltk.tokenize import word_tokenize\n",
        "\n",
        "# Définir les stopwords personnalisés pour le darija marocain\n",
        "darija_stop_words = set([\n",
        "    'و', 'في', 'على', 'من', 'إلى', 'عن', 'أن', 'ب', 'كما', 'مع', 'هذا', 'كان', 'الذي', 'ان', 'لكن', \n",
        "    'غير', 'او', 'لا', 'لم', 'ليست', 'إن', 'كل', 'ما', 'اللي', 'لماذا', 'انه', 'اللذين', 'ديك'\n",
        "    # Ajoutez ici d'autres stopwords spécifiques au darija marocain\n",
        "])\n",
        "\n",
        "# Télécharger les mots d'arrêt en arabe si ce n'est pas déjà fait\n",
        "nltk.download('stopwords')\n",
        "\n",
        "# Obtenir les mots d'arrêt en arabe\n",
        "arabic_stop_words = set(stopwords.words('arabic'))\n",
        "\n",
        "# Combiner les deux ensembles de stopwords\n",
        "combined_stop_words = arabic_stop_words.union(darija_stop_words)\n",
        "\n",
        "# Télécharger les ressources nécessaires de NLTK (tokenizer)\n",
        "nltk.download('punkt')\n",
        "\n",
        "# Fonction pour nettoyer le texte en supprimant les stopwords combinés\n",
        "def clean_text(text):\n",
        "    words = word_tokenize(text)\n",
        "    cleaned_words = [word for word in words if word.lower() not in combined_stop_words]\n",
        "    return ' '.join(cleaned_words)\n",
        "\n",
        "# Appliquer la fonction de nettoyage au texte\n",
        "data['clean_text'] = data['Comment_nettoye'].apply(clean_text)\n",
        "\n",
        "# Afficher les premières lignes pour vérifier le résultat\n",
        "print(data[['Comment_nettoye', 'clean_text']].head())\n"
      ]
    },
    {
      "cell_type": "code",
      "execution_count": 28,
      "metadata": {
        "colab": {
          "base_uri": "https://localhost:8080/",
          "height": 424
        },
        "id": "_f5y8Vxo8WxN",
        "outputId": "1cdbf014-3b53-40da-b224-1c19b78a70e7"
      },
      "outputs": [
        {
          "data": {
            "text/html": [
              "<div>\n",
              "<style scoped>\n",
              "    .dataframe tbody tr th:only-of-type {\n",
              "        vertical-align: middle;\n",
              "    }\n",
              "\n",
              "    .dataframe tbody tr th {\n",
              "        vertical-align: top;\n",
              "    }\n",
              "\n",
              "    .dataframe thead th {\n",
              "        text-align: right;\n",
              "    }\n",
              "</style>\n",
              "<table border=\"1\" class=\"dataframe\">\n",
              "  <thead>\n",
              "    <tr style=\"text-align: right;\">\n",
              "      <th></th>\n",
              "      <th>Comment_nettoye</th>\n",
              "      <th>Label</th>\n",
              "      <th>clean_text</th>\n",
              "    </tr>\n",
              "  </thead>\n",
              "  <tbody>\n",
              "    <tr>\n",
              "      <th>0</th>\n",
              "      <td>لماذا قصيتو المتقاعدين الذين لايتجاوز معاشهم  ...</td>\n",
              "      <td>negative</td>\n",
              "      <td>قصيتو المتقاعدين لايتجاوز معاشهم حسبنا الله ون...</td>\n",
              "    </tr>\n",
              "    <tr>\n",
              "      <th>1</th>\n",
              "      <td>الشيء الايجابي هو انه صايب ديك السنة اللي مهرسة</td>\n",
              "      <td>positive</td>\n",
              "      <td>الشيء الايجابي صايب السنة مهرسة</td>\n",
              "    </tr>\n",
              "    <tr>\n",
              "      <th>2</th>\n",
              "      <td>اللهم صل وسلم وبارك على سيدنا محمد وعلى اله وص...</td>\n",
              "      <td>positive</td>\n",
              "      <td>اللهم صل وسلم وبارك سيدنا محمد وعلى اله وصحبه ...</td>\n",
              "    </tr>\n",
              "    <tr>\n",
              "      <th>3</th>\n",
              "      <td>المغرب يسير في تقدم وازدهار ونجاح كبير بفضل ال...</td>\n",
              "      <td>positive</td>\n",
              "      <td>المغرب يسير تقدم وازدهار ونجاح كبير بفضل الله ...</td>\n",
              "    </tr>\n",
              "    <tr>\n",
              "      <th>4</th>\n",
              "      <td>محد حكومة بنكيران كنتو نازلين عليهم بالكوميديا...</td>\n",
              "      <td>negative</td>\n",
              "      <td>محد حكومة بنكيران كنتو نازلين عليهم بالكوميديا...</td>\n",
              "    </tr>\n",
              "    <tr>\n",
              "      <th>...</th>\n",
              "      <td>...</td>\n",
              "      <td>...</td>\n",
              "      <td>...</td>\n",
              "    </tr>\n",
              "    <tr>\n",
              "      <th>7391</th>\n",
              "      <td>بقى غير هذا أجي يربني نمشي نتحر حسلي جبلية واف...</td>\n",
              "      <td>negative</td>\n",
              "      <td>بقى أجي يربني نمشي نتحر حسلي جبلية وافتخر شكون...</td>\n",
              "    </tr>\n",
              "    <tr>\n",
              "      <th>7392</th>\n",
              "      <td>أنصح أخنوش بأنه عند إعادة تربية المغاربة سيخلق...</td>\n",
              "      <td>negative</td>\n",
              "      <td>أنصح أخنوش بأنه إعادة تربية المغاربة سيخلق تخل...</td>\n",
              "    </tr>\n",
              "    <tr>\n",
              "      <th>7393</th>\n",
              "      <td>نعم فقرونا احنا وولادنا حسبيا الله ونعم الوكيل</td>\n",
              "      <td>negative</td>\n",
              "      <td>فقرونا احنا وولادنا حسبيا الله ونعم الوكيل</td>\n",
              "    </tr>\n",
              "    <tr>\n",
              "      <th>7394</th>\n",
              "      <td>راهم كايكذبو على ألناس حسبنا الله ونعم الوكيل</td>\n",
              "      <td>negative</td>\n",
              "      <td>راهم كايكذبو ألناس حسبنا الله ونعم الوكيل</td>\n",
              "    </tr>\n",
              "    <tr>\n",
              "      <th>7395</th>\n",
              "      <td>الحكومة المغربية عملت ساعة فقط هادي حكومة غبية...</td>\n",
              "      <td>negative</td>\n",
              "      <td>الحكومة المغربية عملت ساعة فقط هادي حكومة غبية...</td>\n",
              "    </tr>\n",
              "  </tbody>\n",
              "</table>\n",
              "<p>7396 rows × 3 columns</p>\n",
              "</div>"
            ],
            "text/plain": [
              "                                        Comment_nettoye     Label  \\\n",
              "0     لماذا قصيتو المتقاعدين الذين لايتجاوز معاشهم  ...  negative   \n",
              "1       الشيء الايجابي هو انه صايب ديك السنة اللي مهرسة  positive   \n",
              "2     اللهم صل وسلم وبارك على سيدنا محمد وعلى اله وص...  positive   \n",
              "3     المغرب يسير في تقدم وازدهار ونجاح كبير بفضل ال...  positive   \n",
              "4     محد حكومة بنكيران كنتو نازلين عليهم بالكوميديا...  negative   \n",
              "...                                                 ...       ...   \n",
              "7391  بقى غير هذا أجي يربني نمشي نتحر حسلي جبلية واف...  negative   \n",
              "7392  أنصح أخنوش بأنه عند إعادة تربية المغاربة سيخلق...  negative   \n",
              "7393     نعم فقرونا احنا وولادنا حسبيا الله ونعم الوكيل  negative   \n",
              "7394      راهم كايكذبو على ألناس حسبنا الله ونعم الوكيل  negative   \n",
              "7395  الحكومة المغربية عملت ساعة فقط هادي حكومة غبية...  negative   \n",
              "\n",
              "                                             clean_text  \n",
              "0     قصيتو المتقاعدين لايتجاوز معاشهم حسبنا الله ون...  \n",
              "1                       الشيء الايجابي صايب السنة مهرسة  \n",
              "2     اللهم صل وسلم وبارك سيدنا محمد وعلى اله وصحبه ...  \n",
              "3     المغرب يسير تقدم وازدهار ونجاح كبير بفضل الله ...  \n",
              "4     محد حكومة بنكيران كنتو نازلين عليهم بالكوميديا...  \n",
              "...                                                 ...  \n",
              "7391  بقى أجي يربني نمشي نتحر حسلي جبلية وافتخر شكون...  \n",
              "7392  أنصح أخنوش بأنه إعادة تربية المغاربة سيخلق تخل...  \n",
              "7393         فقرونا احنا وولادنا حسبيا الله ونعم الوكيل  \n",
              "7394          راهم كايكذبو ألناس حسبنا الله ونعم الوكيل  \n",
              "7395  الحكومة المغربية عملت ساعة فقط هادي حكومة غبية...  \n",
              "\n",
              "[7396 rows x 3 columns]"
            ]
          },
          "execution_count": 28,
          "metadata": {},
          "output_type": "execute_result"
        }
      ],
      "source": [
        "data"
      ]
    },
    {
      "cell_type": "code",
      "execution_count": 29,
      "metadata": {
        "colab": {
          "base_uri": "https://localhost:8080/"
        },
        "id": "PGxIfy5ATcYG",
        "outputId": "bff17f6e-11a1-4c7e-e915-e341b3e42164"
      },
      "outputs": [
        {
          "name": "stdout",
          "output_type": "stream",
          "text": [
            "الله : 2809\n",
            "هاد : 414\n",
            "الشعب : 403\n",
            "تبارك : 334\n",
            "ونعم : 298\n",
            "الوكيل : 296\n",
            "المغرب : 289\n",
            "عليكم : 268\n",
            "الحق : 263\n",
            "والله : 255\n",
            "ديال : 243\n",
            "المغاربة : 227\n",
            "طه : 222\n",
            "شي : 218\n",
            "انا : 208\n",
            "راه : 197\n",
            "اخنوش : 191\n",
            "الحكومة : 185\n",
            "الناس : 180\n",
            "المغربي : 179\n",
            "حسبنا : 175\n",
            "باش : 175\n",
            "شكرا : 167\n",
            "حكومة : 165\n",
            "الى : 161\n",
            "واش : 157\n",
            "فيديو : 155\n",
            "انت : 154\n",
            "الا : 149\n",
            "ماشاء : 146\n",
            "بزاف : 146\n",
            "لله : 145\n",
            "ربي : 145\n",
            "اللهم : 143\n",
            "بالله : 140\n",
            "ناس : 140\n",
            "فيهم : 139\n",
            "ليك : 138\n",
            "ماشي : 130\n",
            "شاء : 127\n",
            "بحال : 120\n",
            "احسن : 119\n",
            "شعب : 119\n",
            "فيك : 115\n",
            "البلاد : 113\n",
            "فيكم : 112\n",
            "ديالك : 106\n",
            "ياسين : 106\n",
            "ياخد : 103\n",
            "علاش : 101\n",
            "هدا : 101\n",
            "علينا : 100\n",
            "نتا : 99\n",
            "حسبي : 99\n",
            "الفيديو : 98\n",
            "الملك : 97\n",
            "كلشي : 93\n",
            "حاجة : 93\n",
            "شحال : 93\n",
            "العالم : 92\n",
            "تحياتي : 90\n",
            "بلا : 85\n",
            "غادي : 84\n",
            "لينا : 84\n",
            "العظيم : 83\n",
            "حنا : 83\n",
            "الخير : 83\n",
            "يجب : 82\n",
            "خاص : 82\n",
            "قوة : 81\n",
            "اي : 81\n",
            "الدعم : 79\n",
            "مبروك : 76\n",
            "فين : 74\n",
            "يارب : 74\n",
            "عليهم : 73\n",
            "شيء : 73\n",
            "حيت : 73\n",
            "هاذ : 71\n",
            "تحية : 70\n",
            "المواطن : 69\n",
            "والو : 69\n",
            "هد : 69\n",
            "الشباب : 69\n",
            "معاك : 67\n",
            "ولاد : 67\n",
            "اما : 66\n",
            "كون : 66\n",
            "رائع : 66\n",
            "خويا : 65\n",
            "حول : 64\n",
            "زوين : 64\n",
            "العلي : 63\n",
            "يوم : 63\n",
            "الي : 62\n",
            "كاين : 61\n",
            "التواضع : 61\n",
            "خير : 60\n",
            "تكون : 60\n",
            "ولد : 60\n"
          ]
        }
      ],
      "source": [
        "from collections import Counter\n",
        "\n",
        "# Concaténer tous les textes en darija\n",
        "all_text = ' '.join(data['clean_text'])\n",
        "\n",
        "# Tokeniser le texte en mots\n",
        "words = all_text.split()\n",
        "\n",
        "# Compter la fréquence de chaque mot\n",
        "word_freq = Counter(words)\n",
        "\n",
        "# Trier les mots par fréquence décroissante\n",
        "sorted_word_freq = sorted(word_freq.items(), key=lambda x: x[1], reverse=True)\n",
        "\n",
        "# Sélectionner les 100 premiers mots\n",
        "top_100_words = sorted_word_freq[:100]\n",
        "\n",
        "# Afficher les 100 mots les plus fréquents\n",
        "for word, freq in top_100_words:\n",
        "    print(word, ':', freq)\n"
      ]
    },
    {
      "cell_type": "code",
      "execution_count": 30,
      "metadata": {
        "id": "8OrlHVQiWoOQ"
      },
      "outputs": [],
      "source": [
        "# Liste des mots à exclure\n",
        "words_to_exclude = ['تبارك', 'شكرا', 'احسن','مبروك','تحياتي','زوين','رائع','تحية','التواضع','الخير','الحمد','برافو',\n",
        "'خير','مشاء','يحفظكم', 'ونعم', 'الوكيل', 'بزاف', 'ماشاء', 'حكومة', 'حسبي']  # Ajoutez les mots que vous souhaitez exclure ici\n",
        "\n",
        "# Filtrer les 100 premiers mots pour exclure les mots spécifiés\n",
        "top_100_words_excluded = [(word, freq) for word, freq in top_100_words if word not in words_to_exclude]"
      ]
    },
    {
      "cell_type": "code",
      "execution_count": 31,
      "metadata": {
        "colab": {
          "base_uri": "https://localhost:8080/"
        },
        "id": "4ng7AYK6Tqhe",
        "outputId": "c7cd3d34-7119-4f8f-90a0-6292f423573a"
      },
      "outputs": [
        {
          "name": "stdout",
          "output_type": "stream",
          "text": [
            "قصيتو المتقاعدين لايتجاوز معاشهم ونعم الوكيل مسؤول ظالم الشيء الايجابي صايب السنة مهرسة صل وسلم وبارك سيدنا محمد وعلى اله وصحبه اجمعين رضينا ربا وبالاسلام دينا وبمحمد صلى وسلم نبيا رسولا يسير تقدم وازدهار ونجاح كبير بفضل تعالى وبركاته عز وجل بفضل السياسة الحكيمة لصاحب الجلالة محمد السادس نصره أفضل ملك الوطن محد حكومة بنكيران كنتو نازلين بالكوميديا ودابا عاطينها لتطباااال ياوطني حكومةعزيزاخنوشحكومناجحة بامتازبكلمكوناتهالايعلىعليها حكومةناجحةبامتيازوبكلمكوناتهالايعلىعليها لذا نستنتج أنه يمكن الإصل\n"
          ]
        }
      ],
      "source": [
        "# Liste des mots à supprimer (y compris les mots exclus)\n",
        "words_to_remove = [word for word, _ in top_100_words_excluded]\n",
        "\n",
        "# Filtrer le texte pour ne garder que les mots qui ne sont pas dans la liste des mots à supprimer\n",
        "filtered_text = ' '.join([word for word in all_text.split() if word not in words_to_remove])\n",
        "\n",
        "# Afficher les premières lignes du texte filtré\n",
        "print(filtered_text[:500])  # Afficher seulement les 500 premiers caractères"
      ]
    },
    {
      "cell_type": "code",
      "execution_count": 32,
      "metadata": {
        "colab": {
          "base_uri": "https://localhost:8080/",
          "height": 206
        },
        "id": "RbMVqX5jYTST",
        "outputId": "992430d9-bc4c-42c8-f4f4-f83f627c10a7"
      },
      "outputs": [
        {
          "data": {
            "text/html": [
              "<div>\n",
              "<style scoped>\n",
              "    .dataframe tbody tr th:only-of-type {\n",
              "        vertical-align: middle;\n",
              "    }\n",
              "\n",
              "    .dataframe tbody tr th {\n",
              "        vertical-align: top;\n",
              "    }\n",
              "\n",
              "    .dataframe thead th {\n",
              "        text-align: right;\n",
              "    }\n",
              "</style>\n",
              "<table border=\"1\" class=\"dataframe\">\n",
              "  <thead>\n",
              "    <tr style=\"text-align: right;\">\n",
              "      <th></th>\n",
              "      <th>Comment_nettoye</th>\n",
              "      <th>Label</th>\n",
              "      <th>clean_text</th>\n",
              "    </tr>\n",
              "  </thead>\n",
              "  <tbody>\n",
              "    <tr>\n",
              "      <th>0</th>\n",
              "      <td>لماذا قصيتو المتقاعدين الذين لايتجاوز معاشهم  ...</td>\n",
              "      <td>negative</td>\n",
              "      <td>قصيتو المتقاعدين لايتجاوز معاشهم حسبنا الله ون...</td>\n",
              "    </tr>\n",
              "    <tr>\n",
              "      <th>1</th>\n",
              "      <td>الشيء الايجابي هو انه صايب ديك السنة اللي مهرسة</td>\n",
              "      <td>positive</td>\n",
              "      <td>الشيء الايجابي صايب السنة مهرسة</td>\n",
              "    </tr>\n",
              "    <tr>\n",
              "      <th>2</th>\n",
              "      <td>اللهم صل وسلم وبارك على سيدنا محمد وعلى اله وص...</td>\n",
              "      <td>positive</td>\n",
              "      <td>اللهم صل وسلم وبارك سيدنا محمد وعلى اله وصحبه ...</td>\n",
              "    </tr>\n",
              "    <tr>\n",
              "      <th>3</th>\n",
              "      <td>المغرب يسير في تقدم وازدهار ونجاح كبير بفضل ال...</td>\n",
              "      <td>positive</td>\n",
              "      <td>المغرب يسير تقدم وازدهار ونجاح كبير بفضل الله ...</td>\n",
              "    </tr>\n",
              "    <tr>\n",
              "      <th>4</th>\n",
              "      <td>محد حكومة بنكيران كنتو نازلين عليهم بالكوميديا...</td>\n",
              "      <td>negative</td>\n",
              "      <td>محد حكومة بنكيران كنتو نازلين عليهم بالكوميديا...</td>\n",
              "    </tr>\n",
              "  </tbody>\n",
              "</table>\n",
              "</div>"
            ],
            "text/plain": [
              "                                     Comment_nettoye     Label  \\\n",
              "0  لماذا قصيتو المتقاعدين الذين لايتجاوز معاشهم  ...  negative   \n",
              "1    الشيء الايجابي هو انه صايب ديك السنة اللي مهرسة  positive   \n",
              "2  اللهم صل وسلم وبارك على سيدنا محمد وعلى اله وص...  positive   \n",
              "3  المغرب يسير في تقدم وازدهار ونجاح كبير بفضل ال...  positive   \n",
              "4  محد حكومة بنكيران كنتو نازلين عليهم بالكوميديا...  negative   \n",
              "\n",
              "                                          clean_text  \n",
              "0  قصيتو المتقاعدين لايتجاوز معاشهم حسبنا الله ون...  \n",
              "1                    الشيء الايجابي صايب السنة مهرسة  \n",
              "2  اللهم صل وسلم وبارك سيدنا محمد وعلى اله وصحبه ...  \n",
              "3  المغرب يسير تقدم وازدهار ونجاح كبير بفضل الله ...  \n",
              "4  محد حكومة بنكيران كنتو نازلين عليهم بالكوميديا...  "
            ]
          },
          "execution_count": 32,
          "metadata": {},
          "output_type": "execute_result"
        }
      ],
      "source": [
        "data.head()"
      ]
    },
    {
      "cell_type": "code",
      "execution_count": 33,
      "metadata": {},
      "outputs": [],
      "source": [
        "# Supprimer toutes les colonnes sauf \"clean_text\" et \"Label\"\n",
        "data = data[['clean_text', 'Label']]"
      ]
    },
    {
      "cell_type": "code",
      "execution_count": 34,
      "metadata": {},
      "outputs": [
        {
          "data": {
            "text/html": [
              "<div>\n",
              "<style scoped>\n",
              "    .dataframe tbody tr th:only-of-type {\n",
              "        vertical-align: middle;\n",
              "    }\n",
              "\n",
              "    .dataframe tbody tr th {\n",
              "        vertical-align: top;\n",
              "    }\n",
              "\n",
              "    .dataframe thead th {\n",
              "        text-align: right;\n",
              "    }\n",
              "</style>\n",
              "<table border=\"1\" class=\"dataframe\">\n",
              "  <thead>\n",
              "    <tr style=\"text-align: right;\">\n",
              "      <th></th>\n",
              "      <th>clean_text</th>\n",
              "      <th>Label</th>\n",
              "    </tr>\n",
              "  </thead>\n",
              "  <tbody>\n",
              "    <tr>\n",
              "      <th>0</th>\n",
              "      <td>قصيتو المتقاعدين لايتجاوز معاشهم حسبنا الله ون...</td>\n",
              "      <td>negative</td>\n",
              "    </tr>\n",
              "    <tr>\n",
              "      <th>1</th>\n",
              "      <td>الشيء الايجابي صايب السنة مهرسة</td>\n",
              "      <td>positive</td>\n",
              "    </tr>\n",
              "    <tr>\n",
              "      <th>2</th>\n",
              "      <td>اللهم صل وسلم وبارك سيدنا محمد وعلى اله وصحبه ...</td>\n",
              "      <td>positive</td>\n",
              "    </tr>\n",
              "    <tr>\n",
              "      <th>3</th>\n",
              "      <td>المغرب يسير تقدم وازدهار ونجاح كبير بفضل الله ...</td>\n",
              "      <td>positive</td>\n",
              "    </tr>\n",
              "    <tr>\n",
              "      <th>4</th>\n",
              "      <td>محد حكومة بنكيران كنتو نازلين عليهم بالكوميديا...</td>\n",
              "      <td>negative</td>\n",
              "    </tr>\n",
              "    <tr>\n",
              "      <th>...</th>\n",
              "      <td>...</td>\n",
              "      <td>...</td>\n",
              "    </tr>\n",
              "    <tr>\n",
              "      <th>7391</th>\n",
              "      <td>بقى أجي يربني نمشي نتحر حسلي جبلية وافتخر شكون...</td>\n",
              "      <td>negative</td>\n",
              "    </tr>\n",
              "    <tr>\n",
              "      <th>7392</th>\n",
              "      <td>أنصح أخنوش بأنه إعادة تربية المغاربة سيخلق تخل...</td>\n",
              "      <td>negative</td>\n",
              "    </tr>\n",
              "    <tr>\n",
              "      <th>7393</th>\n",
              "      <td>فقرونا احنا وولادنا حسبيا الله ونعم الوكيل</td>\n",
              "      <td>negative</td>\n",
              "    </tr>\n",
              "    <tr>\n",
              "      <th>7394</th>\n",
              "      <td>راهم كايكذبو ألناس حسبنا الله ونعم الوكيل</td>\n",
              "      <td>negative</td>\n",
              "    </tr>\n",
              "    <tr>\n",
              "      <th>7395</th>\n",
              "      <td>الحكومة المغربية عملت ساعة فقط هادي حكومة غبية...</td>\n",
              "      <td>negative</td>\n",
              "    </tr>\n",
              "  </tbody>\n",
              "</table>\n",
              "<p>7396 rows × 2 columns</p>\n",
              "</div>"
            ],
            "text/plain": [
              "                                             clean_text     Label\n",
              "0     قصيتو المتقاعدين لايتجاوز معاشهم حسبنا الله ون...  negative\n",
              "1                       الشيء الايجابي صايب السنة مهرسة  positive\n",
              "2     اللهم صل وسلم وبارك سيدنا محمد وعلى اله وصحبه ...  positive\n",
              "3     المغرب يسير تقدم وازدهار ونجاح كبير بفضل الله ...  positive\n",
              "4     محد حكومة بنكيران كنتو نازلين عليهم بالكوميديا...  negative\n",
              "...                                                 ...       ...\n",
              "7391  بقى أجي يربني نمشي نتحر حسلي جبلية وافتخر شكون...  negative\n",
              "7392  أنصح أخنوش بأنه إعادة تربية المغاربة سيخلق تخل...  negative\n",
              "7393         فقرونا احنا وولادنا حسبيا الله ونعم الوكيل  negative\n",
              "7394          راهم كايكذبو ألناس حسبنا الله ونعم الوكيل  negative\n",
              "7395  الحكومة المغربية عملت ساعة فقط هادي حكومة غبية...  negative\n",
              "\n",
              "[7396 rows x 2 columns]"
            ]
          },
          "execution_count": 34,
          "metadata": {},
          "output_type": "execute_result"
        }
      ],
      "source": [
        "data"
      ]
    },
    {
      "cell_type": "code",
      "execution_count": 35,
      "metadata": {},
      "outputs": [
        {
          "name": "stdout",
          "output_type": "stream",
          "text": [
            "Mots communs significatifs à conserver: {'مالك', 'اودي', 'نشري', 'التقاعد', 'ذكر', 'براسو', 'لقد', 'حلقة', 'هدي', 'شكون', 'بالصحة', 'الأعمال', 'ارى', 'شوهة', 'جميلة', 'المخدرات', 'صحافي', 'الشفارة', 'الاحترام', 'بغاو', 'العام', 'لانكم', 'مسؤول', 'تريد', 'متواضع', 'كمية', 'مريض', 'الحمير', 'التعليم', 'الدم', 'ابنتي', 'خونا', 'يكونو', 'فيديو', 'أحسن', 'رفع', 'راسك', 'ونتوما', 'العرب', 'العلي', 'قتل', 'الغرب', 'البلاد', 'تخرج', 'طه', 'جيب', 'خاصها', 'غيرة', 'طاقة', 'قطر', 'الا', 'هدشي', 'للشعب', 'تبارك', 'رائع', 'ولاو', 'المواطنين', 'إيجابية', 'بسبب', 'الخونة', 'عباد', 'كرامة', 'وراء', 'يرجع', 'مشا', 'بالفلوس', 'ولات', 'مر', 'مزيدا', 'العيد', 'سيرو', 'ووو', 'الخاصة', 'الظالمين', 'بارك', 'حقوق', 'برافو', 'ونحن', 'مات', 'نتيجة', 'كريم', 'ياخذ', 'شاء', 'ستكون', 'مجرد', 'بغى', 'العالمي', 'كازا', 'التافهة', 'العدل', 'الواليد', 'واااعر', 'لى', 'الحرام', 'حكومة', 'تفو', 'ابدا', 'صندوق', 'درويش', 'هاذا', 'قوة', 'البوز', 'فيهم', 'حساب', 'للأسف', 'نناشد', 'التحتية', 'ارحم', 'كأس', 'واش', 'يشري', 'العامة', 'اخنوش', 'حرام', 'المخزن', 'لفلوس', 'الحركة', 'سمعت', 'حق', 'معه', 'دولة', 'عنها', 'اوروبا', 'يخدم', 'الجميلة', 'وحنا', 'واللي', 'عمك', 'مشاريع', 'يوم', 'البشر', 'خص', 'خارج', 'وغلاء', 'عاصمة', 'ربنا', 'عندها', 'الشكل', 'راس', 'القريب', 'معرفتش', 'الاجتماعية', 'قلة', 'ضحية', 'اللھ', 'سيدي', 'زيرو', 'واعرة', 'وهناك', 'إيسو', 'راسو', 'ونعم', 'الأب', 'مسلمين', 'قناة', 'هده', 'الهجرة', 'خطير', 'جميل', 'خرجتي', 'تاكل', 'زمن', 'تحقيق', 'خرجت', 'تزاد', 'لاحول', 'عالمي', 'ولاكن', 'زوين', 'شكرا', 'المعلومات', 'تخربيق', 'الفيديوهات', 'تهدر', 'تستاهل', 'الفقير', 'الجبابرة', 'قهرتونا', 'فخر', 'أب', 'كنتفرج', 'المبادرة', 'مال', 'الحكومي', 'القبول', 'المفسدين', 'يعد', 'خبر', 'الخبر', 'الحكومات', 'لايف', 'فرحانة', 'بلاد', 'مكيناش', 'يد', 'خرج', 'يطول', 'قالوا', 'الاضحية', 'أش', 'كفى', 'جاي', 'صعيب', 'امين', 'تحكم', 'الفقر', 'مامبا', 'التوفيق', 'فاشلة', 'حل', 'صاحبي', 'باين', 'تاعك', 'الرحمن', 'غي', 'الخصوم', 'الشرف', 'معهم', 'وانتم', 'يزيد', 'بزااف', 'نريد', 'الفرق', 'يرحم', 'الهدرة', 'الدعم', 'النجاح', 'نضالية', 'الطبقة', 'دوي', 'والعافية', 'ضريف', 'بدل', 'سكان', 'بش', 'فينا', 'بجوج', 'اش', 'ميلفايا', 'تولي', 'بناء', 'يعني', 'إنشاء', 'واعرين', 'ياسين', 'لايك', 'وليس', 'حسيت', 'باللغة', 'هذ', 'يخرج', 'مربي', 'العاجل', 'الوالد', 'وحب', 'المسكين', 'الكرة', 'كاينة', 'شركة', 'تحية', 'اصبح', 'متابعة', 'مشاكل', 'نجاح', 'باك', 'اللصوص', 'يفكر', 'نتفرج', 'المدينة', 'أولاد', 'السلم', 'اضعف', 'ياخد', 'الشعوب', 'حسبي', 'فائدة', 'أصبحت', 'المحتوى', 'غالية', 'ولايهمل', 'العمل', 'وشكون', 'الدولة', 'ايسو', 'نسمع', 'بهذا', 'تما', 'كلهم', 'خسر', 'الضحك', 'يستر', 'يفرحك', 'مزوجة', 'عليا', 'طيب', 'يعطينا', 'وتكون', 'هداك', 'تقدم', 'بنية', 'جدااا', 'نقاش', 'باغين', 'حفظك', 'تحقق', 'زعما', 'المدن', 'الظلم', 'نتا', 'راسي', 'اشنو', 'الحل', 'اهل', 'والراحة', 'وتحية', 'فديو', 'وياسين', 'تواضع', 'لقاء', 'الجوع', 'صرف', 'بلادي', 'هادشي', 'تحياتي', 'الكبرى', 'هههههههههههه', 'الفوز', 'شعبه', 'فعمرو', 'أفضل', 'الدين', 'الاستعمار', 'العار', 'اكتشاف', 'غادين', 'القناة', 'ثروات', 'ياك', 'فرنسا', 'وكذلك', 'والثقافة', 'أكبر', 'أتمنى', 'يهديهم', 'وزيد', 'تعليم', 'الوزراء', 'هادا', 'اجي', 'بيننا', 'زمان', 'الدي', 'الطاقة', 'ضحكت', 'عادي', 'دايرين', 'فرق', 'واخيرا', 'شعب', 'الأسئلة', 'كلامو', 'الرقي', 'الملايين', 'المؤسسات', 'الفديو', 'والنجاح', 'النظام', 'السكر', 'كين', 'الصورة', 'يجب', 'احسن', 'مربيين', 'يعطي', 'أخنوش', 'الحسن', 'مدرسة', 'طوب', 'ماشاء', 'فعل', 'راهم', 'برامج', 'الصحفي', 'اصحاب', 'كنتي', 'فصل', 'مقاطعة', 'حد', 'القيامة', 'الاولى', 'زوينة', 'نشوفو', 'يخليك', 'فحالكم', 'يتكلم', 'شعبية', 'تفهم', 'قاليك', 'مشاو', 'القدم', 'خدم', 'البرلمان', 'يحب', 'الشرائية', 'الفيديو', 'النهاري', 'حول', 'بصحتكم', 'دخل', 'دابا', 'عظيم', 'العياقة', 'حبيت', 'وليتو', 'وهما', 'فيكم', 'ايها', 'المشكل', 'لأنهم', 'إلغاء', 'ليهم', 'العالمية', 'الجميل', 'المواطن', 'المجهودات', 'عايش', 'الخاص', 'الضعفاء', 'رباكم', 'الحب', 'الحمدلله', 'زيادة', 'الشركات', 'خطيرة', 'نعيش', 'الحق', 'العقل', 'حقيقة', 'مشروع', 'يجازيك', 'غياب', 'تقول', 'بديت', 'اصلاح', 'انهم', 'يكمل', 'والوا', 'السبب', 'معلم', 'دابة', 'مش', 'وليدات', 'باب', 'إليه', 'حب', 'قريب', 'المعيشة', 'الزلزال', 'اهم', 'نرى', 'دم', 'المجتمع', 'رآه', 'القديمة', 'الشعب', 'محتوى', 'يمشي', 'غا', 'مكاين', 'تبقا', 'الانتخابات', 'يبارك', 'ونتا', 'التربية', 'الوطنية', 'وهذه', 'بشكل', 'الوكيل', 'يحفظك', 'نوع', 'الاضحى', 'كثير', 'قدرتك', 'اويلي', 'جاء', 'الوليد', 'علاه', 'لشعب', 'ومتواضع', 'الغاء', 'يقولو', 'الحكومة', 'جيتي', 'زيد', 'لحق', 'اليد', 'جلالة', 'والو', 'مبروك', 'والاخلاق', 'كيليميني', 'المال', 'الفساد', 'بنادم', 'لانه', 'الكفار', 'سؤال', 'الأمر', 'نفسك', 'اننا', 'ماشاءالله', 'المجالات', 'بداو', 'زادو', 'وجوه', 'حمام', 'ولم', 'البلد', 'الدولي', 'دعم', 'ينصر', 'كنتم', 'سنوات', 'الصرف', 'تدخل', 'مجتمع', 'لحرام', 'الشخص', 'تيفي', 'اقول', 'الفقراء', 'الغلاء', 'بالله', 'والملك', 'فكلشي', 'لان', 'طرف', 'المحترم', 'ريم', 'اطفال', 'مول', 'اصبحت', 'السوق', 'حقوقه', 'بحالكم', 'هاديك', 'باباك', 'الأخلاق', 'نهاية', 'المرض', 'يمهل', 'ناقص', 'عنك', 'الوحيدة', 'الحولي', 'العذاب', 'جزاك', 'بدا', 'حبيبتي', 'راسها', 'وووو', 'الواقع', 'وفقك'}\n",
            "Mots communs à supprimer: ['عليكوم', 'الاستقلال', 'والعدو', 'التسير', 'محب', 'النعاس', 'الأشخاص', 'الشيوخ', 'الثانية', 'الامزيغي', 'اخوتي', 'خبرة', 'الغني', 'قادمة', 'اطلب', 'الغذائية', 'الحيط', 'قليلة', 'بعيد', 'ماكاين', 'الجفاف', 'عزيز', 'داعي', 'صفحة', 'السابق', 'ايام', 'ويبقى', 'قدرة', 'العدو', 'فالشباب', 'التعاليق', 'امثالك', 'مقبولة', 'الصحي', 'احترام', 'قلبو', 'بينك', 'مجموعة', 'نتفق', 'بجميع', 'درجة', 'الملك', 'وقلة', 'مفيدة', 'واه', 'خلينا', 'رسالة', 'جمع', 'ماكانش', 'السياسية', 'وكما', 'كتلقا', 'لعندو', 'يدخل', 'الخلق', 'الافعال', 'الشباب', 'قصير', 'بعده', 'بدائي', 'هاذو', 'المعقول', 'عالمية', 'الاخرين', 'طلعات', 'يتزوجو', 'يوتوب', 'الفرنسي', 'الزمان', 'دراري', 'لعالم', 'محل', 'اجتماعيا', 'جارية', 'فريق', 'ويحفظ', 'قنوات', 'تولد', 'طالع', 'تعرضت', 'وعلاش', 'عمق', 'اقسم', 'الواليدين', 'ودايرين', 'وولاد', 'المسلمون', 'معاكم', 'مؤكدة', 'يتعدى', 'سلام', 'داءما', 'الدارجة', 'كيتكلم', 'إنجازات', 'افضل', 'نتمناو', 'راجلك', 'وامان', 'انا', 'والمعاصرة', 'كولها', 'متقاعد', 'بغات', 'حاجه', 'طهى', 'كنتمنى', 'الخضر', 'الابد', 'وغادي', 'امور', 'كانتمنى', 'كايقولو', 'خدام', 'بيهم', 'بوجود', 'لهجة', 'سلف', 'غادا', 'اشهد', 'وجل', 'كيد', 'فجر', 'استافدو', 'للواحد', 'بعقلك', 'فرقة', 'الوطني', 'الخزعبلات', 'سكر', 'لبنى', 'صف', 'حقيقية', 'هاهي', 'فحياتو', 'واصل', 'أحيانا', 'العلامة', 'عروسة', 'لداخل', 'لاصحاب', 'ناريييييي', 'الفريق', 'ياوطني', 'السياسي', 'عز', 'ليو', 'اعداء', 'كأنه', 'السلامه', 'اخواننا', 'كتيرا', 'اسمه', 'بني', 'بكيت', 'لله', 'أعلى', 'فراسك', 'الوحيد', 'منير', 'ابنادم', 'المشروع', 'حكيمي', 'سلعة', 'الشوكات', 'عجبوني', 'يااااا', 'العجوز', 'المغربيات', 'ملعب', 'زوجته', 'ولد', 'تقليد', 'وغيره', 'وهم', 'يديرو', 'يفرج', 'لعز', 'شوفوا', 'لأنه', 'القمر', 'وربي', 'يعلم', 'المرحلة', 'توريها', 'سمية', 'الجزائري', 'الرزاق', 'خليتي', 'تفاهة', 'باليمين', 'حفظه', 'المسلم', 'الصحيحة', 'تشوفو', 'اكثر', 'الكورة', 'لرئيس', 'زوهير', 'بناس', 'الجلالة', 'ويا', 'نشوف', 'سبحانك', 'وهل', 'ومال', 'الاستماع', 'البورجوازية', 'الضروف', 'هه', 'كثر', 'للجميع', 'مابغاوش', 'حولي', 'طيبوبة', 'الزنقة', 'تستاهلوا', 'مزان', 'ساهل', 'تكون', 'مني', 'رجل', 'البكية', 'بوانو', 'ويخليك', 'نكمل', 'واستغلال', 'الأروبي', 'معاقين', 'تتكرر', 'المبارك', 'هاكا', 'تعمل', 'لهاذ', 'هديك', 'تجتمع', 'اكتر', 'أجنبية', 'تقل', 'والجميل', 'مقابل', 'قيمة', 'خد', 'ميلفاية', 'يجيب', 'واخا', 'غربية', 'الافضل', 'بزاااااف', 'الاه', 'صداع', 'براكا', 'خير', 'الصفحة', 'رضا', 'وحدة', 'نزيد', 'فرح', 'ou', 'أنه', 'التجربة', 'الف', 'فشي', 'الفئة', 'كلامه', 'منهم', 'أعداء', 'شيء', 'سمعتو', 'وضع', 'عياو', 'للوصول', 'يصلح', 'باينة', 'دالك', 'زادت', 'لاش', 'عليهوم', 'قلال', 'كلشي', 'دعاء', 'عارف', 'الملة', 'وكل', 'صوب', 'فالزواج', 'در', 'الراقي', 'بأن', 'خرب', 'الغنى', 'نديرها', 'ضرب', 'العلاقات', 'الاكل', 'الأخت', 'رجليكم', 'قدره', 'واصبح', 'لاحظ', 'التفاهات', 'قطع', 'شيئ', 'تتقدم', 'السادس', 'التفاهة', 'درتو', 'الشفوي', 'السماء', 'جيش', 'القلب', 'معنا', 'اسبانيا', 'القبة', 'الاخرى', 'التغيير', 'يخلكم', 'البيضاوي', 'بنتك', 'أيادي', 'المسيرة', 'وماشي', 'الطبيعية', 'مقودة', 'الان', 'انشاءالله', 'جيل', 'خلاصة', 'الذنيا', 'المدارس', 'فيا', 'ايوا', 'يسمح', 'لكلاوي', 'الأضحى', 'ولن', 'المغربة', 'حبدا', 'قهوة', 'دينية', 'بالمحتوى', 'الارض', 'وبقات', 'اكون', 'وتنمية', 'راسنا', 'عهد', 'حياة', 'العلمي', 'يوفقكم', 'أكل', 'كتخرج', 'بتاتا', 'خاص', 'لهلا', 'تقدى', 'يسير', 'مها', 'بزوج', 'الأمراض', 'أمثالكم', 'الخوت', 'الأولى', 'الخليج', 'وجدة', 'ساعة', 'فالفيديو', 'محتاجة', 'جلسة', 'تربح', 'وهي', 'عطيهم', 'البطل', 'فاطمة', 'عار', 'بلغ', 'مستحيل', 'متافق', 'حكمها', 'جل', 'سبحانه', 'خارجين', 'نقطة', 'طريقة', 'اللعب', 'مولات', 'فكرة', 'كرة', 'اجتماعي', 'وهوا', 'يستغلون', 'هاي', 'الأمة', 'ريجيم', 'عقول', 'سراحهم', 'فالعالم', 'فلابد', 'كدخل', 'اخلاق', 'مابقا', 'والتنمية', 'وووووو', 'خروف', 'تدافع', 'هوارة', 'البنت', 'كيلعب', 'التحضر', 'الما', 'اخاي', 'يقوم', 'المبهر', 'باش', 'خاصنا', 'كنتو', 'ممكن', 'اراس', 'اين', 'تابكيت', 'رمضان', 'حاله', 'بفتح', 'اعتبار', 'يجمع', 'عاجلا', 'تركوا', 'اكمل', 'التعليق', 'يعتبر', 'اهلها', 'تشوف', 'اختي', 'الكاتب', 'الجبارة', 'دازت', 'تبا', 'بصحة', 'ماء', 'ههه', 'الخير', 'الحوت', 'الدور', 'دير', 'نثق', 'خلوق', 'التانية', 'فالتصوير', 'مند', 'تسكت', 'وتشوف', 'الامام', 'يخرجو', 'نفهمها', 'وقتي', 'آخر', 'نبدل', 'معاك', 'تؤخد', 'وناس', 'بأم', 'للفقير', 'اخويا', 'ابعد', 'يضحي', 'جلطات', 'كيكون', 'ماتت', 'الزواج', 'واسعة', 'الصامدة', 'وتعالى', 'كلاسيكو', 'الآخر', 'كيقول', 'محافظين', 'داخل', 'الفجار', 'كنا', 'عبارة', 'نجد', 'اديرو', 'اخرى', 'جواب', 'جيت', 'لمعرفة', 'ديالي', 'لكل', 'عائلة', 'الفاتحة', 'أمرك', 'مناطق', 'صدق', 'بوحدهم', 'الزوجية', 'كول', 'عيني', 'صورتك', 'الانجليزية', 'اسهل', 'أولي', 'داكشي', 'نوعه', 'اسمع', 'الراجل', 'عندما', 'شأن', 'ضمن', 'شاب', 'وكيفاش', 'نتاع', 'وصافي', 'جيدا', 'كيبغيو', 'عليها', 'صحراء', 'يعوض', 'بالخير', 'وع', 'بعين', 'خيرا', 'المحاسبة', 'حاولي', 'الضوء', 'تدكر', 'عمر', 'جوج', 'جاتك', 'جنة', 'ههههه', 'صامت', 'الحقيقه', 'صحيحة', 'انواع', 'اول', 'سبق', 'بحالي', 'عمليات', 'يذهب', 'علا', 'مكانش', 'لوكان', 'رونالدو', 'الكرام', 'يستمع', 'لوقت', 'نية', 'الحاجة', 'الثقافة', 'كيخرجو', 'حتال', 'الزحام', 'شخصيتها', 'أهم', 'كفاش', 'فسوق', 'براسك', 'دكشي', 'اعطيهم', 'الاخلاقية', 'بألف', 'ديالك', 'ديالنا', 'وكبرنا', 'طيلة', 'الامر', 'شيحاجة', 'زد', 'يكتر', 'تنفع', 'راقية', 'تقريبا', 'نتحاسبو', 'شاف', 'هذو', 'سلم', 'نسيتو', 'ليها', 'بلد', 'بالمعروف', 'وليتي', 'ينصرو', 'اسو', 'امثالكم', 'تلقاهم', 'حقوقهم', 'يبق', 'الحياء', 'كون', 'كيقولو', 'ناقصنا', 'وعد', 'يلاه', 'أنني', 'كانت', 'ياكل', 'الرياض', 'فوسط', 'فين', 'انصر', 'ودبا', 'ولادو', 'شخصيا', 'آمين', 'وكذا', 'هكدا', 'ديرو', 'قالها', 'وتظهر', 'فبلادنا', 'أبناء', 'الحمد', 'هاذي', 'لالا', 'الاصل', 'سيمو', 'تيكون', 'تشوفي', 'وكيف', 'اموال', 'بعدما', 'روحو', 'مختلف', 'لاي', 'ناقصة', 'لباك', 'الحقيقي', 'فهمت', 'وخلق', 'شجرة', 'هادوك', 'العالي', 'مرحبا', 'حشوما', 'العائلات', 'جديدة', 'يبقا', 'مثيل', 'السروال', 'حماية', 'الدماغ', 'الاساتذة', 'عزيزا', 'البحر', 'كنضن', 'الأضحية', 'نصر', 'ديالها', 'عينك', 'ومنطقي', 'بريئ', 'اطيب', 'وراه', 'نقول', 'ودابا', 'استفدنا', 'مره', 'ولله', 'العين', 'لمغاربة', 'اللخر', 'المساكين', 'رمز', 'المغريب', 'فلسطين', 'المقبلة', 'الفرحة', 'تبقاو', 'الدمار', 'تغلب', 'جايا', 'ونهار', 'رئيس', 'كتر', 'حتا', 'طبلة', 'اني', 'جمال', 'تعامل', 'وليت', 'لحكومة', 'داركم', 'للدار', 'ومسلم', 'دوزنا', 'سياسية', 'معا', 'خدامة', 'بداية', 'مدن', 'رحمه', 'السردين', 'كاشفة', 'العلم', 'بنكيران', 'بلدنا', 'يزيدو', 'ضحكني', 'امرأة', 'مدرب', 'اعود', 'لمحاربة', 'إزيد', 'العافية', 'أهل', 'ضلم', 'دارنا', 'تحيا', 'وغير', 'ادراك', 'تقيلة', 'الغربة', 'يسجل', 'طلع', 'كولو', 'الشيخ', 'مقدرتش', 'فبك', 'الوليدات', 'الوسخة', 'أللهم', 'أنك', 'الشان', 'لصالحه', 'ممتاز', 'فالتلفزة', 'القول', 'الحوايج', 'سنظل', 'روح', 'ديالوا', 'صعيبة', 'الاسلام', 'وبنادم', 'نحتاج', 'بالخصوص', 'سراح', 'اجل', 'درت', 'الاخر', 'يبقى', 'بيك', 'تبقي', 'الخاطر', 'تعيش', 'قلبهم', 'ولكل', 'كاع', 'الحمدالله', 'متعرف', 'الغيورين', 'عطاه', 'صالح', 'لعجب', 'يجعل', 'بلاما', 'ديرها', 'احنا', 'مبقاتش', 'قصر', 'العميم', 'جميعا', 'منو', 'قهروا', 'الوسط', 'شاسع', 'رزقه', 'برنامج', 'عقد', 'لاب', 'مالي', 'منيب', 'اداء', 'أودي', 'رغم', 'صناع', 'تتفكر', 'أنكم', 'ايجابي', 'ودود', 'لأن', 'مزوج', 'تعلم', 'بغض', 'با', 'الإحترام', 'وأنا', 'الحدودية', 'شو', 'اصعب', 'بالتنمية', 'ملايين', 'الفلوس', 'فالمغرب', 'وانت', 'كتابة', 'القضية', 'شنو', 'يدل', 'وملكي', 'دمتم', 'حكيما', 'حاليا', 'المعلم', 'مكانتك', 'وتركوا', 'نستاهلو', 'بكثير', 'ديالو', 'سمحو', 'أشرف', 'دخول', 'خوي', 'محضر', 'كيهضر', 'لحياة', 'يهتم', 'مسألة', 'الاتحاد', 'راكم', 'التشجيع', 'ارجع', 'طلقها', 'عقلي', 'جزء', 'بلاصتك', 'الوزير', 'فيديوهاتك', 'نشوفوه', 'مريم', 'الصور', 'حاملي', 'العبد', 'مضافة', 'بقي', 'انت', 'بقيمة', 'وصلاة', 'حاولو', 'كرامتهم', 'يدوم', 'حقكم', 'اصوت', 'احب', 'مدة', 'ضيفة', 'الي', 'سمحت', 'بزاف', 'يرحمكم', 'كاملين', 'لة', 'المقاومة', 'التطور', 'بينكم', 'بزااااااف', 'بلسان', 'للسياحة', 'سمح', 'شيئا', 'السنوات', 'اتاي', 'طبيعي', 'كاينين', 'وقدمت', 'تقطع', 'يدي', 'القرآن', 'القميص', 'المنازل', 'والسلام', 'تيهضر', 'خلق', 'حماق', 'تعلموا', 'امعاك', 'السنة', 'أقسم', 'هادفة', 'كبر', 'مشات', 'بن', 'ماكرون', 'بيكم', 'العرش', 'عرس', 'كاين', 'تسمى', 'قادر', 'دراوش', 'أنفسهم', 'وعندو', 'راية', 'ذكي', 'الكلمة', 'بيكوم', 'اسي', 'عشرات', 'ذوي', 'والتي', 'مكرهناش', 'فيديوهات', 'لهد', 'والله', 'الامانة', 'ولاد', 'التقدم', 'لديهم', 'بلدي', 'الدينية', 'النتيجة', 'وانما', 'النزيه', 'لدينا', 'فحياتك', 'عائلتك', 'زوج', 'بالعربية', 'ناجحة', 'اليومي', 'هذشي', 'العزيز', 'معها', 'براسي', 'والشان', 'والاحزاب', 'علينا', 'صوت', 'الفايسبوك', 'وزير', 'دروس', 'يجيد', 'طبقات', 'مهم', 'عذرا', 'كيدوي', 'شوفو', 'اجنبي', 'بلاصة', 'ورا', 'العملاء', 'ثمن', 'تضحيات', 'شفنا', 'مستمرة', 'بالإنجليزية', 'عربي', 'البلدي', 'صعبة', 'ستذهب', 'فالبرلمان', 'الهربة', 'لمن', 'اليوتوب', 'فالبلاد', 'السم', 'تضر', 'التخربيق', 'ورحمة', 'يلي', 'الجمهورية', 'سنكون', 'غيره', 'اي', 'بنك', 'كمغاربة', 'وكندا', 'الأفضل', 'عندي', 'عبد', 'لمغاربه', 'المسؤولية', 'باركة', 'بالف', 'يبانو', 'وعلى', 'الدائم', 'الماء', 'خاصني', 'كحلة', 'لغلا', 'الاردن', 'دعوه', 'يغلب', 'أمل', 'منكم', 'فطور', 'االله', 'كتاب', 'فهم', 'تختار', 'فيصل', 'شت', 'خسارة', 'الحوار', 'لذلك', 'متفتح', 'عمره', 'قريتي', 'يطلع', 'التقة', 'وام', 'معاق', 'خصو', 'الصلاة', 'الحالة', 'السوشل', 'ورعاك', 'لباس', 'مصيره', 'الباقيين', 'ضحايا', 'سيادتكم', 'ويزيد', 'معندو', 'مسيرة', 'شوية', 'رقم', 'تعالى', 'التجارية', 'مسكين', 'أضعف', 'تطور', 'الصحية', 'مناهج', 'يعطيه', 'لقدام', 'بصح', 'والبساطة', 'الحالية', 'لتشجيع', 'ليا', 'المغاربة', 'الاسرة', 'قلوبنا', 'بخونة', 'قلوب', 'تاهوا', 'وأب', 'الجماعات', 'لأ', 'السبت', 'كتبانو', 'باغة', 'فالزنقة', 'تريكة', 'معنى', 'مشكل', 'اوربا', 'الزعيم', 'معقول', 'اعطيك', 'ضوء', 'ايامك', 'الفنانة', 'طلعت', 'وقعو', 'بواحد', 'ضد', 'كتعوج', 'يستحق', 'يستطيع', 'باسبور', 'يبقاو', 'والى', 'ويطول', 'السليم', 'الحسد', 'جبتي', 'الموافقة', 'واحدة', 'الدنيا', 'وألف', 'الاطفال', 'منتهى', 'هاداك', 'كامل', 'العقلية', 'دري', 'عجيب', 'اخي', 'القادم', 'اللـه', 'يتقن', 'والدقيق', 'تؤدي', 'لقيت', 'نقي', 'بوصوفة', 'وتحياتي', 'فحال', 'لينا', 'لائحة', 'المواقف', 'كبير', 'تبان', 'كحل', 'رحمة', 'هاد', 'درتي', 'الرجال', 'روسيا', 'ثانية', 'اخواتي', 'لحال', 'معاها', 'شوي', 'فاش', 'فرصة', 'المناطق', 'مقال', 'السي', 'باباه', 'حدث', 'زينة', 'نوضو', 'دايما', 'لعبد', 'تباع', 'وحسن', 'كتعاني', 'رجلي', 'عمي', 'عدد', 'بجدارة', 'يحفظو', 'انجح', 'سليم', 'الشاب', 'بقات', 'الزوايا', 'محتواه', 'متشابهين', 'البرلمانيين', 'واخرة', 'غريبا', 'الشمس', 'بارد', 'يخص', 'اقدر', 'عمرك', 'ميمي', 'غادي', 'كولشي', 'مسكينة', 'فلوس', 'مزال', 'ادن', 'الانسان', 'الإشكال', 'ويستفيد', 'تنجح', 'وحفظ', 'مثلك', 'صغار', 'النظر', 'وسعادة', 'السب', 'فعمرهم', 'المنحة', 'خاصكم', 'المثقف', 'للمغرب', 'فل', 'عارفة', 'العالمين', 'اعطاءنا', 'ويلي', 'فيك', 'المؤمنين', 'حزب', 'إلينا', 'انشالله', 'سوني', 'مالكي', 'اشباه', 'مكينش', 'خرفان', 'وبزاف', 'عندكوم', 'لناس', 'مرة', 'مكاينش', 'الجزائر', 'اجتماعية', 'رجلا', 'اولا', 'خسرات', 'اما', 'الحامض', 'يقولون', 'حضاري', 'أفريقيا', 'يلقى', 'التقاء', 'de', 'وحكومة', 'هوا', 'تكوني', 'مرور', 'الأم', 'وفهاد', 'دقة', 'المئة', 'الدراري', 'كاملة', 'بالخارج', 'هاكذا', 'البرنامج', 'جشع', 'هاذه', 'الامة', 'الحليم', 'بوزبال', 'وخصوصا', 'والصغيرة', 'فرحان', 'القيام', 'وزة', 'حياتو', 'ايضا', 'شفتو', 'بنت', 'تبقى', 'نتي', 'ابناء', 'الأمل', 'لبزاف', 'عنيكم', 'اولاد', 'كندعي', 'ولدو', 'فله', 'فحالك', 'رب', 'روحي', 'عبر', 'ذالك', 'القوة', 'سر', 'طارو', 'جاك', 'لعب', 'رغما', 'يدخلو', 'الموسيقى', 'طاح', 'بعيني', 'العظيم', 'المستعان', 'شوف', 'اجر', 'ضخمة', 'حترامي', 'ونتمنى', 'زاكورة', 'تقديم', 'ألله', 'النطق', 'يحميه', 'يطيل', 'والعراق', 'راها', 'يتم', 'مرتاح', 'وخاف', 'اللله', 'فهذا', 'عصر', 'فتح', 'مت', 'الشتاء', 'مسلم', 'امال', 'يحارب', 'الطريقة', 'الجبار', 'دهب', 'الهضرة', 'أسمع', 'كتجي', 'المعنى', 'ناجح', 'وخاصة', 'ضعف', 'ماقدرتش', 'والناس', 'ههههههه', 'يتحقق', 'وفيه', 'حال', 'للحياة', 'طرطور', 'ملكنا', 'جهد', 'بصفة', 'تطوان', 'مسبقا', 'بغا', 'أخويا', 'صانع', 'النعناع', 'فرنسية', 'المملكة', 'اسود', 'لحد', 'صح', 'القدرة', 'الاطلس', 'الاجتماعي', 'موت', 'مرفوع', 'الرباعة', 'ماكس', 'يحفظنا', 'بغيتي', 'كبيرة', 'قالكم', 'دراجة', 'نحس', 'نيشان', 'إ', 'السرعة', 'سيبقى', 'يستفيد', 'هدر', 'ومع', 'الاشياء', 'سميت', 'اه', 'مثلا', 'الصعود', 'كيعرفوا', 'يلا', 'بلا', 'تهضر', 'سميتو', 'نعمة', 'الاخيرة', 'ملاحظة', 'البارح', 'تصبح', 'كيدير', 'معندوش', 'نهائيا', 'نخرج', 'الاول', 'ورغم', 'هد', 'سبيل', 'وان', 'دنيا', 'بعضهم', 'الموضوع', 'بدون', 'والحجز', 'يرث', 'بمغاربة', 'نتوما', 'دائما', 'دبا', 'زهر', 'اذن', 'بالصحراء', 'يحبون', 'القيمة', 'اللقاءات', 'القنوات', 'الغيرة', 'لازم', 'النار', 'متوسط', 'دوختو', 'المناصب', 'وسبحان', 'البشرية', 'الانبياء', 'والآخرة', 'الأطفال', 'يقرى', 'مؤخرا', 'الأول', 'نجي', 'خلقه', 'بيعهم', 'اغلب', 'كتيرة', 'امهم', 'الحكمة', 'غيكون', 'بالمغرب', 'جزاكم', 'اله', 'آلله', 'كيبان', 'متقف', 'ومربي', 'يعاود', 'ولي', 'المعيشه', 'يعيد', 'الذهبية', 'إسقاط', 'مغربنا', 'يمشو', 'هدو', 'تشبه', 'جزائري', 'عطاهم', 'كيكونو', 'يهدي', 'وأي', 'يعرف', 'تقولو', 'شرف', 'اكبر', 'خوية', 'الخضراء', 'الميساج', 'يحفظ', 'ينتهي', 'وباه', 'هوكا', 'ليل', 'وخليه', 'هموم', 'مخلفات', 'مستقبلا', 'الطعام', 'الجزيرة', 'جحيم', 'دوليا', 'والسياحة', 'والكبير', 'الكثير', 'شردمة', 'ونعمة', 'شمل', 'بربي', 'منظر', 'المتل', 'الأشرار', 'ثقافة', 'للنقاش', 'يرجعو', 'ضروف', 'المالية', 'الأمور', 'دام', 'الضيف', 'ختي', 'ابوك', 'لاعب', 'الأيام', 'اقليم', 'شيخ', 'طريقك', 'مايقول', 'المنكر', 'خلصنا', 'منى', 'عنده', 'احفظ', 'وصغيرة', 'وملي', 'الفكرة', 'كلنا', 'مثله', 'ادم', 'لامال', 'سويسرا', 'بطل', 'لاحظت', 'la', 'عندو', 'السفينة', 'ماكنتش', 'تعليق', 'كبار', 'لدرجة', 'علمه', 'داير', 'ويكون', 'العباد', 'ملحد', 'بنو', 'يخطي', 'واقع', 'البروتوكولات', 'القيم', 'مراكش', 'ربي', 'دقيقة', 'نصل', 'بدات', 'خيب', 'يعطيك', 'امل', 'تجيب', 'الرئيس', 'قواعد', 'يشيد', 'يهديكم', 'تاع', 'انتم', 'الكريم', 'واحلين', 'الداخلي', 'فالحياة', 'الحفلات', 'مونديال', 'الأفكار', 'الإسلامية', 'وحديث', 'الضو', 'اعطيه', 'الهدف', 'مفاجئة', 'غريبه', 'التعليقات', 'متفق', 'معاقة', 'خويا', 'فينك', 'الأسود', 'سيدنا', 'المعرفة', 'سير', 'بإذن', 'لدنيا', 'مخلوع', 'ربك', 'الأبيض', 'الاستثناء', 'خصنا', 'انشاء', 'سورة', 'العربية', 'الأخير', 'فقط', 'صعب', 'تا', 'أنواع', 'اغنى', 'غاية', 'مستوى', 'استغفر', 'يشوفو', 'فوقاش', 'نكون', 'راكوم', 'اليوسفي', 'سخط', 'فقرات', 'وقت', 'يخفى', 'الحد', 'واولاد', 'كثيرة', 'وبركة', 'فاتت', 'الصناعة', 'الحلقة', 'معظم', 'راجل', 'كيما', 'وبالأخص', 'المغربيه', 'حرة', 'الصحافي', 'صعود', 'ناس', 'سوء', 'افراح', 'ورسوله', 'ملكية', 'كتير', 'مزيانة', 'والمبادئ', 'نهار', 'جلدته', 'تستحق', 'را', 'انجاز', 'أكيد', 'ياخدوا', 'تعيشي', 'بمحاسبة', 'واعي', 'غلى', 'قدر', 'كانوا', 'السيدة', 'الفرج', 'الماكلة', 'جيتو', 'شلل', 'ولما', 'صغيرة', 'قرب', 'الصلاه', 'اعظم', 'تبدل', 'ضعيفة', 'تجارب', 'مسليم', 'العضيم', 'دخلتو', 'نعيدو', 'امك', 'وصلتي', 'والوزراء', 'عندكم', 'عنوان', 'الثقة', 'لبنات', 'الكل', 'عايشين', 'تصريح', 'نعاود', 'الآخرة', 'رئاسة', 'نسكن', 'سن', 'مقطع', 'للمدينة', 'الفلسطينية', 'موضوع', 'ألمانيا', 'الحدادي', 'ننسى', 'العالم', 'يقدر', 'المستوى', 'الجاية', 'الناس', 'والهم', 'ترضى', 'وزراء', 'البال', 'فريد', 'جات', 'الحال', 'العماري', 'الصراحة', 'تجي', 'اعيش', 'اسم', 'خاصو', 'الصحراء', 'نستفيد', 'بنفسه', 'سنة', 'ويديرو', 'الصحة', 'سنبقى', 'فقير', 'نتكلم', 'موقع', 'جداااااا', 'النقاش', 'نتبع', 'شي', 'ولادك', 'الاحزاب', 'تكونو', 'نقص', 'نت', 'الغرور', 'لأنها', 'دارها', 'مو', 'ليكم', 'أعطيك', 'يعطيكم', 'معكم', 'باقية', 'أسي', 'تمثيل', 'البسيط', 'كدوز', 'وأن', 'الخدمة', 'عمرو', 'اللذي', 'ملأ', 'يهدينا', 'مرتاحين', 'الأستاذ', 'أمر', 'مصلحة', 'انها', 'وباقي', 'خالي', 'وجوههم', 'إعمرها', 'انقلبت', 'تركيا', 'الاعلامي', 'تحترم', 'آية', 'عرف', 'بالكم', 'عدة', 'أمين', 'تنا', 'ناش', 'يقين', 'وثالث', 'خاي', 'كنشوفو', 'غد', 'نساء', 'وهذا', 'ميدوز', 'يسالي', 'كلام', 'بمعنى', 'وقد', 'وطني', 'عودة', 'صدقت', 'ولادهم', 'لامة', 'الخرفان', 'حاول', 'اشرف', 'وحق', 'سياسي', 'صديق', 'قالت', 'وتخليه', 'فی', 'جاب', 'ترجع', 'مايمكنش', 'زين', 'فهاذ', 'حيت', 'لعيلات', 'نتما', 'اشهار', 'ومات', 'فضلك', 'العينين', 'اتقو', 'عواشر', 'الباطل', 'ضرني', 'وجه', 'الموقف', 'حياتك', 'العكس', 'انتظار', 'اللغة', 'شر', 'سخون', 'دليل', 'متقدر', 'منطقي', 'العز', 'لهاد', 'الجانب', 'اللقاء', 'سيري', 'اللدي', 'معندناش', 'كنسمع', 'مدينة', 'يعمرها', 'صحية', 'شجاعة', 'الاساسية', 'يرحمهم', 'حياتهم', 'نفسية', 'اللهم', 'بعضنا', 'كليميني', 'آميييين', 'التأهل', 'الذهب', 'والرديح', 'تسمع', 'السلعة', 'لاننا', 'قمر', 'كيدخلو', 'للمغاربة', 'بانهم', 'السوشيال', 'كيهدر', 'السعيدة', 'عامين', 'المغربي', 'طفل', 'قلت', 'راجلي', 'ليه', 'الامل', 'بالنسبة', 'والف', 'شغلو', 'ابني', 'فحدث', 'ترجعون', 'وراك', 'فإنها', 'الولد', 'يسخر', 'بيت', 'بنيتنا', 'قاريين', 'معانا', 'جانب', 'لهدا', 'بيها', 'الجودة', 'دورة', 'قلب', 'تنقول', 'الكريمة', 'يربي', 'عيون', 'خطاء', 'ثانيا', 'حسن', 'حراسة', 'الاساسيات', 'فضله', 'أنظار', 'وصلت', 'ريحت', 'إكون', 'الصبر', 'سيكون', 'مستقبلهم', 'دافع', 'فماذا', 'العلمية', 'عالم', 'فديك', 'واي', 'وحد', 'نتمنا', 'الجديد', 'عطيو', 'قدوة', 'الاحرار', 'تشوه', 'تربية', 'الشجاع', 'صراحه', 'حاقد', 'دك', 'ميقدرش', 'تنشر', 'يتزوج', 'يليق', 'شخص', 'مجهود', 'وخاصو', 'رحيم', 'عام', 'فقراء', 'هرب', 'أشراف', 'نفرحو', 'شهر', 'لكبير', 'راجع', 'الجزاء', 'باعو', 'بقدر', 'نفسي', 'صحي', 'فكل', 'الرحمة', 'راني', 'تتشجع', 'لمغرب', 'الشيء', 'عندهم', 'اخلي', 'فالحقيقة', 'أمة', 'وكفى', 'متعة', 'اساس', 'جاو', 'الدارالبيضاء', 'الدراسة', 'فلن', 'الراحمين', 'ايتها', 'محمود', 'الأدب', 'صلاة', 'داخلين', 'ليك', 'الشريفة', 'الأغاني', 'قليل', 'التاريخ', 'هادي', 'لجميع', 'ولادنا', 'ادير', 'طنجة', 'يشهد', 'تماما', 'يبعد', 'صورة', 'الشهر', 'شماتة', 'شوفي', 'بانت', 'الماضية', 'وهده', 'العيون', 'الصغار', 'الى', 'إنسان', 'ماشا', 'الراقية', 'منك', 'قريبة', 'مغرب', 'كنشوف', 'الحبيبة', 'إنها', 'الحياة', 'وخا', 'طرح', 'الجميع', 'تدوم', 'عامر', 'الكبيرة', 'ذرة', 'اخرين', 'دخلت', 'بغينا', 'الفوق', 'نصره', 'اسير', 'كترت', 'تزادينا', 'اخر', 'وباغي', 'العريس', 'بكل', 'انني', 'مكان', 'واقعنا', 'فالناس', 'الثروات', 'فيلم', 'يستاهل', 'قدم', 'وحدين', 'ضروري', 'بطريقة', 'المتابعة', 'الاشتراك', 'وين', 'تفرح', 'اسقي', 'نبقاو', 'مزيد', 'كنت', 'المشرفين', 'اوى', 'الصوت', 'ديال', 'حصيلة', 'السياسة', 'حذاري', 'أية', 'لشهر', 'كتبيع', 'الإنسان', 'عمري', 'القدس', 'حينها', 'البسطاء', 'التعامل', 'للمواطن', 'يقول', 'سم', 'برحمتك', 'كيشد', 'اللاعبين', 'وكثر', 'قولي', 'وعاد', 'كتعرف', 'والعكس', 'تاني', 'ديالووا', 'القدير', 'المعيشي', 'واليوم', 'الواحد', 'فبلاد', 'الأخيرة', 'أعظم', 'الأسرة', 'تستافد', 'لاصق', 'وحتى', 'نشالله', 'كال', 'حديد', 'جهدو', 'يمكن', 'نص', 'سياحية', 'بالدارجة', 'الإنجاز', 'قالك', 'فرحة', 'حنا', 'لكرة', 'رجال', 'وخليكم', 'الاب', 'وجهك', 'تعودنا', 'ومشي', 'سمعته', 'وافضل', 'المحترمة', 'جيد', 'للي', 'مسؤولون', 'الأشياء', 'وسي', 'المنتوج', 'وصحة', 'الطبية', 'الوداد', 'صاحب', 'ويقول', 'يزيدك', 'كانو', 'القهوة', 'دين', 'وآلله', 'فتنة', 'نهج', 'عمركم', 'وكولشي', 'إنهم', 'اخوانا', 'القوي', 'شخصية', 'طاير', 'عاجبهم', 'يلمع', 'الاقل', 'اسمك', 'هوم', 'يتمم', 'تصل', 'ضحكوا', 'والعباد', 'الجبل', 'ملايير', 'حاجة', 'اسواق', 'الناظور', 'يااخي', 'مصر', 'كيجيني', 'الحر', 'والاقتصادية', 'يحدث', 'ويخرج', 'عرسك', 'بابا', 'كثرة', 'إسمي', 'والمسلمين', 'وأنت', 'خلاها', 'انسان', 'كيفاش', 'المشاهدة', 'والاعلام', 'طبعا', 'وديك', 'ندير', 'غيصوت', 'حالة', 'الخبيثات', 'هدا', 'مفلسين', 'النفس', 'بهاد', 'واكيد', 'الليل', 'يقدم', 'شئ', 'سرق', 'تديرو', 'برعاية', 'جدا', 'أخي', 'اعلى', 'أننا', 'يطالب', 'صلى', 'قولوا', 'يشاهدون', 'توضع', 'دخلو', 'الحقيقية', 'ااناس', 'تعاليق', 'ترابي', 'مغاربة', 'ملك', 'وافتخر', 'الطفل', 'ببساطة', 'الدار', 'توجد', 'خدمة', 'الفجر', 'مغربي', 'مفيد', 'والكبيرة', 'سنين', 'حقك', 'اراد', 'وبركاته', 'والبحر', 'مازالت', 'بزاااف', 'الشعارات', 'المستقبل', 'خرجة', 'ضالم', 'دعوة', 'دوك', 'يفوتو', 'وداد', 'نزيدو', 'نصف', 'لحل', 'الكلام', 'للبلاد', 'الجيل', 'فهو', 'حرية', 'نصائح', 'صاحبة', 'وكلامك', 'يوما', 'شباب', 'وبكل', 'تسرق', 'مبغاش', 'لراسك', 'يتصرف', 'لبنت', 'الخيرات', 'تغني', 'أشكركم', 'مليون', 'شمايت', 'بامتياز', 'الاحسن', 'وفاق', 'كلوا', 'لزنقة', 'للطبيب', 'المكان', 'المفسدون', 'قصة', 'نفعل', 'سواء', 'والكرم', 'فحرب', 'كيوت', 'الباب', 'الاستقرار', 'القادمة', 'خاصك', 'ديالكم', 'اللغات', 'حصل', 'البحث', 'مقاومة', 'قدمت', 'الحاقدين', 'بحالو', 'الحقد', 'الصباح', 'نظر', 'عمل', 'وشكرا', 'كيران', 'والديه', 'وقفتلي', 'العبيد', 'الدرجة', 'وقلوب', 'جديد', 'اعتذر', 'قناتك', 'رخيص', 'اجعل', 'قادرين', 'لغات', 'الفرصة', 'البر', 'مشاهدة', 'عطاك', 'الشتا', 'برا', 'وابدا', 'قوتك', 'كوني', 'وحده', 'انفسهم', 'مشى', 'وحزب', 'شعور', 'ولاش', 'وايضا', 'الطبيعة', 'يديروها', 'كتبقى', 'ابو', 'كترة', 'الورقة', 'تنوض', 'مفاهمين', 'يرفع', 'الحكام', 'بعيدا', 'وهاد', 'كلمات', 'بيني', 'تحرمنا', 'لاعبين', 'فساعة', 'يخافون', 'رأيي', 'منين', 'والنزيه', 'تغري', 'فالدنيا', 'يااااااارب', 'القناعة', 'وزن', 'طلب', 'نبيلة', 'نقدر', 'عرق', 'بقا', 'غيرها', 'خلال', 'ارض', 'قادرة', 'المروك', 'الاستفادة', 'سوريا', 'لسي', 'الحزب', 'الاسلامية', 'ابن', 'كلمو', 'خارجية', 'هكا', 'واجب', 'الغالي', 'هضر', 'اشوف', 'لواحد', 'تزوج', 'تزيد', 'تستمر', 'يحسن', 'بغيتهوم', 'اللحظة', 'والانجازات', 'المعربي', 'مشي', 'تستفيد', 'إفريقيا', 'فانت', 'للعدالة', 'وعمك', 'بساطة', 'منتشرة', 'بحيت', 'تاريخ', 'الجنة', 'وقبل', 'راه', 'البطون', 'اخوكم', 'الوجه', 'احترافية', 'الميكا', 'قلبك', 'فانية', 'وعيش', 'وتاني', 'ولينا', 'عطات', 'التواصل', 'تحس', 'الفلسطيني', 'كلك', 'ياحبيبي', 'الشريف', 'مشترك', 'الشخصية', 'الوساطة', 'الحبيب', 'الزريعة', 'تعرفو', 'واخلاق', 'فهاد', 'شفو', 'خايبة', 'المهمة', 'باه', 'السلطة', 'تحراميات', 'حامض', 'الريف', 'بالكرة', 'خدمتي', 'وغدي', 'كتشد', 'يعلمون', 'الادب', 'دور', 'علاقة', 'وابنه', 'اللعبة', 'والصحة', 'يوسف', 'علی', 'تعرابت', 'فالمجتمع', 'les', 'بلادهم', 'بابها', 'خيرات', 'مناظر', 'دكتور', 'هاهوما', 'السبع', 'أحبه', 'لسوق', 'المحاكم', 'اتمنى', 'أخرى', 'الفايد', 'راتب', 'دار', 'تجربة', 'استمر', 'ويرحم', 'وطنهم', 'والباقي', 'اختك', 'خصوصا', 'راسهم', 'رسولا', 'جايبين', 'هههه', 'كيعرفو', 'ناحية', 'عينا', 'رحمتك', 'باقي', 'يعيش', 'المداخلة', 'بحالك', 'والدين', 'صقر', 'إعطيك', 'المنافسة', 'ياريت', 'كايهضرو', 'الاثمنة', 'العصير', 'ماماك', 'ود', 'عاديين', 'بهكذا', 'معمر', 'تيديرو', 'يقوي', 'المتبادل', 'نشر', 'كلثوم', 'التلاميد', 'المغرب', 'بنتها', 'الاحتلال', 'قادم', 'راك', 'الحشمة', 'جتي', 'تربوي', 'المشروبات', 'مايكونش', 'وعقلانية', 'قسما', 'شخصيتو', 'بالواجب', 'القطاع', 'دعيوة', 'الخالق', 'ديري', 'عونكم', 'معلومات', 'الاخوان', 'امة', 'يالله', 'بسم', 'نصيحة', 'ورجع', 'وحسبي', 'تمت', 'الحلال', 'ديما', 'بيه', 'عامرين', 'خصك', 'أليس', 'مجال', 'فنفس', 'المغربية', 'كانتفرج', 'يشتري', 'النية', 'ظن', 'يملكون', 'الغزال', 'الظروف', 'شفت', 'أكتر', 'الصعب', 'الخاوية', 'الطيب', 'عليهم', 'النفوس', 'لكان', 'انسانة', 'معرفة', 'محافظة', 'نقابات', 'تعميم', 'لهذا', 'فى', 'البيضاء', 'طويل', 'معاهم', 'حياتي', 'بلجيكا', 'يهمني', 'الامم', 'مملكتنا', 'استاذة', 'شعيرة', 'جمهور', 'والدنيا', 'فكولشي', 'مختلفة', 'وانا', 'غتكون', 'عادات', 'تنظيم', 'الشي', 'كتقول', 'قلبه', 'ادا', 'باللي', 'مكنقدرش', 'الهادف', 'المادية', 'الشرفاء', 'للجزائر', 'نتمنى', 'كا', 'انك', 'علاش', 'جد', 'وسلم', 'وتحيا', 'بيدك', 'قدامي', 'محمد', 'فعلا', 'لانك', 'السماسرية', 'عبادك', 'الإسلام', 'جا', 'اكيد', 'للشباب', 'بنات', 'عليكم', 'تم', 'الفنان', 'الصغيرة', 'des', 'كله', 'بناتي', 'ناري', 'سي', 'النعمة', 'بخير', 'بزززاف', 'تعبت', 'تتبع', 'يشاهد', 'مقارنة', 'ايكون', 'الدستور', 'تنضيم', 'تحب', 'عرفتي', 'باقا', 'الجمعة', 'الإنجازات', 'رحم', 'ليوم', 'الاخلاق', 'المزيد', 'التوب', 'لهذه', 'عساس', 'التلفاز', 'الام', 'لخوت', 'يكون', 'الثاني', 'افريقيا', 'ميمتك', 'ديني', 'سيد', 'اصلح', 'فالاخير', 'راحة', 'حمد', 'المنتخب', 'يتعلم', 'عندوا', 'صفر', 'أرضي', 'صغير', 'مثال', 'جي', 'والمغربي', 'الزوج', 'الأحرار', 'غذا', 'سيصوت', 'بالاخص', 'الساحر', 'انتي', 'مستقبل', 'قمة', 'شان', 'يحفض', 'فما', 'انتا', 'ضحك', 'وطنية', 'الاعب', 'البيض', 'السلبية', 'قلبي', 'صحاب', 'معاه', 'محترف', 'سند', 'البنات', 'مهمة', 'صالحين', 'لغة', 'يشوف', 'القدام', 'ساهم', 'الله', 'وفق', 'ربما', 'بان', 'مابين', 'وسدد', 'بسيط', 'داك', 'العهد', 'فرحنا', 'يرحمه', 'اليتامى', 'بحال', 'الإنتخابات', 'كملو', 'اطلع', 'القمة', 'كنكتب', 'كلامك', 'قالو', 'اليوم', 'فقمة', 'بصاح', 'نعرف', 'المقاييس', 'تلقاه', 'عالي', 'لبلاد', 'الامازيغية', 'الحرية', 'صلاح', 'انتوما', 'مابقيت', 'امها', 'نافعا', 'للاسف', 'تضرب', 'اليوتيوب', 'المستشار', 'وفين', 'فعلآ', 'لهيه', 'عذاب', 'هدوك', 'تغير', 'الاحتياجات', 'الصميم', 'عتبة', 'تانية', 'المقال', 'الساعة', 'المنطقة', 'رأي', 'وصورة', 'حمر', 'كتحترم', 'عاش', 'تنتهي', 'يكفي', 'إلي', 'السيد', 'أنها', 'الهمام', 'ورعاه', 'يحمي', 'العربي', 'بكترت', 'لاغير', 'للمنتخب', 'كلمة', 'كتعرفو', 'تقدر', 'أردنا', 'واشهد', 'الاجانب', 'إشهار', 'عيد', 'خاطرو', 'عمى', 'التوابل', 'قلتي', 'والمغاربة', 'بقوة', 'ولدنا', 'البحري', 'ثقيلة', 'طول', 'بالراحة', 'حرج', 'الأعلى', 'الوالدين', 'أولا', 'ولى', 'خلقك', 'الزمن', 'اجمعين', 'ظروف', 'بالعكس', 'طحن', 'هوما', 'عاما', 'أسلوب', 'كيقولك', 'مزيان', 'علي', 'حي', 'dh', 'نخلي', 'الإلاه', 'إخواني', 'شملت', 'سيماهم', 'الأصل', 'دارت', 'الأمطار', 'وباش', 'ماعرفتش', 'وبالاخص', 'اليك', 'شيخنا', 'حديقة', 'بولاد', 'مدريد', 'ومزال', 'ولادي', 'كبرو', 'كلها', 'ودير', 'يوصل', 'بدع', 'باغي', 'بريء', 'تعطيك', 'المهم', 'هضرتها', 'يرحمو', 'قولو', 'ماكاينش', 'بقاو', 'وليست', 'وسط', 'بحالا', 'صدقوا', 'عربية', 'النوع', 'المغاربه', 'مستمر', 'خبراء', 'للبرلمان', 'الأقل', 'راكي', 'ابسط', 'اذا', 'حوار', 'يريد', 'المصداقية', 'ملي', 'دعمه', 'كيستافد', 'العائلة', 'وخى', 'فالفلوس', 'طريق', 'تزادت', 'الوطن', 'يخسر', 'ذكية', 'واطلب', 'دماغية', 'العموم', 'جيدة', 'نسخة', 'واهلها', 'كيل', 'كنتمنا', 'احترم', 'شكر', 'قريبا', 'شحال', 'وجميع', 'بأننا', 'ظل', 'نفاق', 'مرات', 'وقال', 'الصح', 'عكس', 'نضتي', 'وآخرة', 'دوماج', 'يبان', 'يتحدث', 'الابتدائي', 'يتعرف', 'بصراحة', 'خدينا', 'صحتي', 'والمشاكل', 'اخرة', 'تبادل', 'والميوعة', 'يلعب', 'نتاعو', 'اختها', 'مواضيع', 'زال', 'قويا', 'تحمل', 'عدل', 'الخيرية', 'لابد', 'اتق', 'نعاس', 'صافي', 'أنهم', 'المسلمين', 'كبرى', 'اسيدي', 'العمر', 'ابي', 'الحقيقة', 'الراس', 'لشباب', 'الخضرة', 'الأرض', 'فاهم', 'مجاني', 'الوقت', 'الشطيح', 'الفكر', 'كيبقى', 'العزيزة', 'النهار', 'الموت', 'أرحم', 'حر', 'عمرني', 'عقل', 'ميديا', 'ديالهم', 'منتوج', 'وشوف', 'وعافية', 'طويلة', 'ام', 'صحة', 'البنية', 'العادة', 'خصهوم', 'الثلوج', 'قال', 'الدولارات', 'الجزائريين', 'خليوه', 'كتشوف', 'ودني', 'أناس', 'الزاكي', 'نيتك', 'يتوكل', 'كنعرف', 'هههههههه', 'اغلبية', 'دغيا', 'يفرق', 'هاذ', 'الحمراء', 'الصغير', 'النهاية', 'معك', 'غني', 'أصحاب', 'الأصدقاء', 'للناس', 'تدوز', 'غاع', 'المعزة', 'ماش', 'باكية', 'كلاس', 'حتي', 'الاخ', 'شبابي', 'الراميد', 'ميسورين', 'سوق', 'عمرها', 'كلو', 'جملة', 'فالمستقبل', 'قوله', 'مشكيل', 'تافهين', 'الخيال', 'الكبير', 'مغاربه', 'بزااااف', 'يفيد', 'موجود', 'يوصلو', 'مغربية', 'نطلبو', 'أغلبية', 'البادرة', 'اب', 'العراق', 'بغيت', 'الوعي', 'التاني', 'الاغاني', 'الكحلة', 'اخيرا', 'الكبار', 'تقوم', 'خفيف', 'الفن', 'جاية', 'استعمال', 'تحليل', 'المرأة', 'بلادنا', 'ومحمد', 'اعلم', 'لأنني', 'واكبر', 'القاطع', 'يدير', 'نسى', 'عاشوا', 'للفساد', 'محاولة', 'بالكذوب', 'صحيح', 'بعدو', 'العدالة', 'بكية', 'الاسئلة', 'عاىلة', 'لولاد', 'اختار', 'استفدت', 'قديمة', 'يخاف', 'فالله', 'المراة', 'استمرو', 'حكومته', 'ياربي', 'المراكز', 'هادو', 'ارحموا', 'كبرات', 'صنع', 'مالو', 'المليون', 'يبيعو', 'حلوة', 'معي', 'يكن', 'عايشة', 'ختار', 'بحثا', 'لرجل', 'النعم', 'المسؤولين', 'طها', 'تلقى', 'تقع', 'ماضاع', 'إحساس', 'عيط', 'خيالية', 'ماما', 'لقى', 'الرسول', 'ومكاين', 'التنمية', 'صور', 'الكلمات', 'خطاه', 'الرجل', 'نعمه', 'والكل', 'بلي', 'اقل', 'وفي', 'قوم', 'تمر', 'العديد', 'اربع', 'الاعتبار', 'حضر', 'يارب', 'خلي', 'العلاقة', 'بنتي', 'زاد', 'عرفت', 'الكتير', 'اولى', 'ظاهرة', 'لأنك', 'عندنا', 'صعوبة', 'تكبر', 'الشغل', 'عاءلة', 'هههههه', 'لاسيادكم', 'اللسان', 'شوارع', 'عرفنا', 'مجموعين', 'عندك', 'رخيصة', 'منا', 'اللاعب', 'تقرير', 'حيد', 'والحمد', 'داز', 'ماكان', 'قمت', 'السلام', 'ماشي', 'وحيث', 'سعاد', 'المضمون', 'زايد', 'ظلم', 'لقاري']\n",
            "                                          clean_text\n",
            "0  قصيتو المتقاعدين لايتجاوز معاشهم حسبنا ونعم ال...\n",
            "1                                الايجابي صايب مهرسة\n",
            "2  صل وبارك وصحبه رضينا بالله ربا وبالاسلام دينا ...\n",
            "3    تقدم وازدهار ونجاح بفضل بفضل الحكيمة لصاحب أفضل\n",
            "4      محد حكومة نازلين بالكوميديا عاطينها لتطباااال\n"
          ]
        },
        {
          "name": "stderr",
          "output_type": "stream",
          "text": [
            "C:\\Users\\asus\\AppData\\Local\\Temp\\ipykernel_8080\\4290115840.py:49: SettingWithCopyWarning: \n",
            "A value is trying to be set on a copy of a slice from a DataFrame.\n",
            "Try using .loc[row_indexer,col_indexer] = value instead\n",
            "\n",
            "See the caveats in the documentation: https://pandas.pydata.org/pandas-docs/stable/user_guide/indexing.html#returning-a-view-versus-a-copy\n",
            "  data['clean_text'] = data['clean_text'].apply(remove_non_significant_common_words)\n"
          ]
        }
      ],
      "source": [
        "from collections import Counter\n",
        "\n",
        "# Fonction pour obtenir une liste de tous les mots présents dans un sous-ensemble de données\n",
        "def get_word_list(data, column):\n",
        "    word_list = []\n",
        "    for text in data[column]:\n",
        "        words = text.split()\n",
        "        word_list.extend(words)\n",
        "    return word_list\n",
        "\n",
        "# Diviser le jeu de données en sous-ensembles pour les sentiments positifs et négatifs\n",
        "positive_data = data[data['Label'] == 'positive']\n",
        "negative_data = data[data['Label'] == 'negative']\n",
        "\n",
        "# Obtenir les listes de mots pour les sentiments positifs et négatifs\n",
        "positive_words = get_word_list(positive_data, 'clean_text')\n",
        "negative_words = get_word_list(negative_data, 'clean_text')\n",
        "\n",
        "# Calculer la fréquence des mots dans chaque sentiment\n",
        "positive_freq = Counter(positive_words)\n",
        "negative_freq = Counter(negative_words)\n",
        "\n",
        "# Trouver l'intersection des mots entre les deux ensembles\n",
        "common_words = set(positive_freq.keys()).intersection(set(negative_freq.keys()))\n",
        "\n",
        "# Définir un seuil de fréquence relative pour considérer un mot comme significatif\n",
        "threshold_ratio = 5  # Vous pouvez ajuster ce ratio\n",
        "\n",
        "# Identifier les mots communs significatifs à conserver\n",
        "significant_words = set()\n",
        "for word in common_words:\n",
        "    if (positive_freq[word] >= threshold_ratio * negative_freq[word]) or (negative_freq[word] >= threshold_ratio * positive_freq[word]):\n",
        "        significant_words.add(word)\n",
        "\n",
        "# Liste des mots communs à supprimer (ceux qui ne sont pas significatifs)\n",
        "common_words_list = [word for word in common_words if word not in significant_words]\n",
        "\n",
        "# Afficher les mots communs significatifs et ceux à supprimer\n",
        "print(\"Mots communs significatifs à conserver:\", significant_words)\n",
        "print(\"Mots communs à supprimer:\", common_words_list)\n",
        "\n",
        "# Fonction pour filtrer le texte et supprimer les mots communs non significatifs\n",
        "def remove_non_significant_common_words(text):\n",
        "    words = text.split()\n",
        "    filtered_words = [word for word in words if word not in common_words_list]\n",
        "    return ' '.join(filtered_words)\n",
        "\n",
        "# Appliquer la fonction de suppression des mots communs non significatifs aux données\n",
        "data['clean_text'] = data['clean_text'].apply(remove_non_significant_common_words)\n",
        "\n",
        "# Afficher les premières lignes pour vérifier le résultat\n",
        "print(data[['clean_text']].head())\n"
      ]
    },
    {
      "cell_type": "code",
      "execution_count": 36,
      "metadata": {},
      "outputs": [
        {
          "data": {
            "text/html": [
              "<div>\n",
              "<style scoped>\n",
              "    .dataframe tbody tr th:only-of-type {\n",
              "        vertical-align: middle;\n",
              "    }\n",
              "\n",
              "    .dataframe tbody tr th {\n",
              "        vertical-align: top;\n",
              "    }\n",
              "\n",
              "    .dataframe thead th {\n",
              "        text-align: right;\n",
              "    }\n",
              "</style>\n",
              "<table border=\"1\" class=\"dataframe\">\n",
              "  <thead>\n",
              "    <tr style=\"text-align: right;\">\n",
              "      <th></th>\n",
              "      <th>clean_text</th>\n",
              "      <th>Label</th>\n",
              "    </tr>\n",
              "  </thead>\n",
              "  <tbody>\n",
              "    <tr>\n",
              "      <th>0</th>\n",
              "      <td>قصيتو المتقاعدين لايتجاوز معاشهم حسبنا ونعم ال...</td>\n",
              "      <td>negative</td>\n",
              "    </tr>\n",
              "    <tr>\n",
              "      <th>1</th>\n",
              "      <td>الايجابي صايب مهرسة</td>\n",
              "      <td>positive</td>\n",
              "    </tr>\n",
              "    <tr>\n",
              "      <th>2</th>\n",
              "      <td>صل وبارك وصحبه رضينا بالله ربا وبالاسلام دينا ...</td>\n",
              "      <td>positive</td>\n",
              "    </tr>\n",
              "    <tr>\n",
              "      <th>3</th>\n",
              "      <td>تقدم وازدهار ونجاح بفضل بفضل الحكيمة لصاحب أفضل</td>\n",
              "      <td>positive</td>\n",
              "    </tr>\n",
              "    <tr>\n",
              "      <th>4</th>\n",
              "      <td>محد حكومة نازلين بالكوميديا عاطينها لتطباااال</td>\n",
              "      <td>negative</td>\n",
              "    </tr>\n",
              "  </tbody>\n",
              "</table>\n",
              "</div>"
            ],
            "text/plain": [
              "                                          clean_text     Label\n",
              "0  قصيتو المتقاعدين لايتجاوز معاشهم حسبنا ونعم ال...  negative\n",
              "1                                الايجابي صايب مهرسة  positive\n",
              "2  صل وبارك وصحبه رضينا بالله ربا وبالاسلام دينا ...  positive\n",
              "3    تقدم وازدهار ونجاح بفضل بفضل الحكيمة لصاحب أفضل  positive\n",
              "4      محد حكومة نازلين بالكوميديا عاطينها لتطباااال  negative"
            ]
          },
          "execution_count": 36,
          "metadata": {},
          "output_type": "execute_result"
        }
      ],
      "source": [
        "data.head()"
      ]
    },
    {
      "cell_type": "code",
      "execution_count": 37,
      "metadata": {},
      "outputs": [
        {
          "name": "stderr",
          "output_type": "stream",
          "text": [
            "C:\\Users\\asus\\AppData\\Local\\Temp\\ipykernel_8080\\3889396446.py:14: SettingWithCopyWarning: \n",
            "A value is trying to be set on a copy of a slice from a DataFrame.\n",
            "Try using .loc[row_indexer,col_indexer] = value instead\n",
            "\n",
            "See the caveats in the documentation: https://pandas.pydata.org/pandas-docs/stable/user_guide/indexing.html#returning-a-view-versus-a-copy\n",
            "  data['clean_text'] = data['clean_text'].apply(remove_repeated_letters_in_text)\n"
          ]
        }
      ],
      "source": [
        "import re\n",
        "\n",
        "# Fonction pour supprimer les lettres répétées successivement dans un mot\n",
        "def remove_repeated_letters(word):\n",
        "    return re.sub(r'(.)\\1+', r'\\1', word)\n",
        "\n",
        "# Appliquer la fonction à chaque mot dans une chaîne de texte\n",
        "def remove_repeated_letters_in_text(text):\n",
        "    words = text.split()\n",
        "    cleaned_words = [remove_repeated_letters(word) for word in words]\n",
        "    return ' '.join(cleaned_words)\n",
        "\n",
        "# Appliquer la fonction de nettoyage au texte dans la colonne 'clean_text' du DataFrame\n",
        "data['clean_text'] = data['clean_text'].apply(remove_repeated_letters_in_text)\n"
      ]
    },
    {
      "cell_type": "code",
      "execution_count": 38,
      "metadata": {},
      "outputs": [],
      "source": [
        "# Conserver une copie de la colonne d'origine\n",
        "data['original_text'] = data['clean_text']\n",
        "\n",
        "# Appliquer la fonction de nettoyage au texte dans la colonne 'clean_text' du DataFrame\n",
        "data['clean_text'] = data['clean_text'].apply(remove_repeated_letters_in_text)\n",
        "\n",
        "# Comparer les deux colonnes et afficher les lignes qui ont changé\n",
        "changed_rows = data[data['original_text'] != data['clean_text']]\n",
        "\n",
        "# Afficher les lignes avant et après\n",
        "for index, row in changed_rows.iterrows():\n",
        "    print(f\"Ligne {index} avant : {row['original_text']}\")\n",
        "    print(f\"Ligne {index} après : {row['clean_text']}\\n\")"
      ]
    },
    {
      "cell_type": "code",
      "execution_count": 39,
      "metadata": {},
      "outputs": [],
      "source": [
        "# Fonction pour supprimer les mots contenant une seule lettre ou deux lettres\n",
        "def remove_short_words(text):\n",
        "    words = text.split()\n",
        "    filtered_words = [word for word in words if len(word) > 2]  # Supprimer les mots avec moins de trois lettres\n",
        "    return ' '.join(filtered_words)\n",
        "\n",
        "# Appliquer la fonction de suppression aux données\n",
        "data['clean_text'] = data['clean_text'].apply(remove_short_words)"
      ]
    },
    {
      "cell_type": "code",
      "execution_count": 40,
      "metadata": {},
      "outputs": [
        {
          "data": {
            "text/html": [
              "<div>\n",
              "<style scoped>\n",
              "    .dataframe tbody tr th:only-of-type {\n",
              "        vertical-align: middle;\n",
              "    }\n",
              "\n",
              "    .dataframe tbody tr th {\n",
              "        vertical-align: top;\n",
              "    }\n",
              "\n",
              "    .dataframe thead th {\n",
              "        text-align: right;\n",
              "    }\n",
              "</style>\n",
              "<table border=\"1\" class=\"dataframe\">\n",
              "  <thead>\n",
              "    <tr style=\"text-align: right;\">\n",
              "      <th></th>\n",
              "      <th>clean_text</th>\n",
              "      <th>Label</th>\n",
              "      <th>original_text</th>\n",
              "    </tr>\n",
              "  </thead>\n",
              "  <tbody>\n",
              "    <tr>\n",
              "      <th>0</th>\n",
              "      <td>قصيتو المتقاعدين لايتجاوز معاشهم حسبنا ونعم ال...</td>\n",
              "      <td>negative</td>\n",
              "      <td>قصيتو المتقاعدين لايتجاوز معاشهم حسبنا ونعم ال...</td>\n",
              "    </tr>\n",
              "    <tr>\n",
              "      <th>1</th>\n",
              "      <td>الايجابي صايب مهرسة</td>\n",
              "      <td>positive</td>\n",
              "      <td>الايجابي صايب مهرسة</td>\n",
              "    </tr>\n",
              "    <tr>\n",
              "      <th>2</th>\n",
              "      <td>وبارك وصحبه رضينا باله ربا وبالاسلام دينا وبمح...</td>\n",
              "      <td>positive</td>\n",
              "      <td>صل وبارك وصحبه رضينا باله ربا وبالاسلام دينا و...</td>\n",
              "    </tr>\n",
              "    <tr>\n",
              "      <th>3</th>\n",
              "      <td>تقدم وازدهار ونجاح بفضل بفضل الحكيمة لصاحب أفضل</td>\n",
              "      <td>positive</td>\n",
              "      <td>تقدم وازدهار ونجاح بفضل بفضل الحكيمة لصاحب أفضل</td>\n",
              "    </tr>\n",
              "    <tr>\n",
              "      <th>4</th>\n",
              "      <td>محد حكومة نازلين بالكوميديا عاطينها لتطبال</td>\n",
              "      <td>negative</td>\n",
              "      <td>محد حكومة نازلين بالكوميديا عاطينها لتطبال</td>\n",
              "    </tr>\n",
              "  </tbody>\n",
              "</table>\n",
              "</div>"
            ],
            "text/plain": [
              "                                          clean_text     Label  \\\n",
              "0  قصيتو المتقاعدين لايتجاوز معاشهم حسبنا ونعم ال...  negative   \n",
              "1                                الايجابي صايب مهرسة  positive   \n",
              "2  وبارك وصحبه رضينا باله ربا وبالاسلام دينا وبمح...  positive   \n",
              "3    تقدم وازدهار ونجاح بفضل بفضل الحكيمة لصاحب أفضل  positive   \n",
              "4         محد حكومة نازلين بالكوميديا عاطينها لتطبال  negative   \n",
              "\n",
              "                                       original_text  \n",
              "0  قصيتو المتقاعدين لايتجاوز معاشهم حسبنا ونعم ال...  \n",
              "1                                الايجابي صايب مهرسة  \n",
              "2  صل وبارك وصحبه رضينا باله ربا وبالاسلام دينا و...  \n",
              "3    تقدم وازدهار ونجاح بفضل بفضل الحكيمة لصاحب أفضل  \n",
              "4         محد حكومة نازلين بالكوميديا عاطينها لتطبال  "
            ]
          },
          "execution_count": 40,
          "metadata": {},
          "output_type": "execute_result"
        }
      ],
      "source": [
        "data.head()"
      ]
    },
    {
      "cell_type": "code",
      "execution_count": 41,
      "metadata": {},
      "outputs": [],
      "source": [
        "# Supprimer toutes les colonnes sauf \"clean_text\" et \"Label\"\n",
        "data = data[['clean_text', 'Label']]"
      ]
    },
    {
      "cell_type": "code",
      "execution_count": 42,
      "metadata": {},
      "outputs": [
        {
          "data": {
            "text/html": [
              "<div>\n",
              "<style scoped>\n",
              "    .dataframe tbody tr th:only-of-type {\n",
              "        vertical-align: middle;\n",
              "    }\n",
              "\n",
              "    .dataframe tbody tr th {\n",
              "        vertical-align: top;\n",
              "    }\n",
              "\n",
              "    .dataframe thead th {\n",
              "        text-align: right;\n",
              "    }\n",
              "</style>\n",
              "<table border=\"1\" class=\"dataframe\">\n",
              "  <thead>\n",
              "    <tr style=\"text-align: right;\">\n",
              "      <th></th>\n",
              "      <th>clean_text</th>\n",
              "      <th>Label</th>\n",
              "    </tr>\n",
              "  </thead>\n",
              "  <tbody>\n",
              "    <tr>\n",
              "      <th>0</th>\n",
              "      <td>قصيتو المتقاعدين لايتجاوز معاشهم حسبنا ونعم ال...</td>\n",
              "      <td>negative</td>\n",
              "    </tr>\n",
              "    <tr>\n",
              "      <th>1</th>\n",
              "      <td>الايجابي صايب مهرسة</td>\n",
              "      <td>positive</td>\n",
              "    </tr>\n",
              "    <tr>\n",
              "      <th>2</th>\n",
              "      <td>وبارك وصحبه رضينا باله ربا وبالاسلام دينا وبمح...</td>\n",
              "      <td>positive</td>\n",
              "    </tr>\n",
              "    <tr>\n",
              "      <th>3</th>\n",
              "      <td>تقدم وازدهار ونجاح بفضل بفضل الحكيمة لصاحب أفضل</td>\n",
              "      <td>positive</td>\n",
              "    </tr>\n",
              "    <tr>\n",
              "      <th>4</th>\n",
              "      <td>محد حكومة نازلين بالكوميديا عاطينها لتطبال</td>\n",
              "      <td>negative</td>\n",
              "    </tr>\n",
              "    <tr>\n",
              "      <th>...</th>\n",
              "      <td>...</td>\n",
              "      <td>...</td>\n",
              "    </tr>\n",
              "    <tr>\n",
              "      <th>7391</th>\n",
              "      <td>بقى أجي يربني نمشي نتحر حسلي جبلية شكون دها عارفو</td>\n",
              "      <td>negative</td>\n",
              "    </tr>\n",
              "    <tr>\n",
              "      <th>7392</th>\n",
              "      <td>أنصح أخنوش بأنه إعادة سيخلق تخلفا واسعا وسيكثر...</td>\n",
              "      <td>negative</td>\n",
              "    </tr>\n",
              "    <tr>\n",
              "      <th>7393</th>\n",
              "      <td>فقرونا ولادنا حسبيا ونعم الوكيل</td>\n",
              "      <td>negative</td>\n",
              "    </tr>\n",
              "    <tr>\n",
              "      <th>7394</th>\n",
              "      <td>راهم كايكذبو ألناس حسبنا ونعم الوكيل</td>\n",
              "      <td>negative</td>\n",
              "    </tr>\n",
              "    <tr>\n",
              "      <th>7395</th>\n",
              "      <td>الحكومة عملت حكومة غبية مكن سوتشي ومعمرني عادي...</td>\n",
              "      <td>negative</td>\n",
              "    </tr>\n",
              "  </tbody>\n",
              "</table>\n",
              "<p>7396 rows × 2 columns</p>\n",
              "</div>"
            ],
            "text/plain": [
              "                                             clean_text     Label\n",
              "0     قصيتو المتقاعدين لايتجاوز معاشهم حسبنا ونعم ال...  negative\n",
              "1                                   الايجابي صايب مهرسة  positive\n",
              "2     وبارك وصحبه رضينا باله ربا وبالاسلام دينا وبمح...  positive\n",
              "3       تقدم وازدهار ونجاح بفضل بفضل الحكيمة لصاحب أفضل  positive\n",
              "4            محد حكومة نازلين بالكوميديا عاطينها لتطبال  negative\n",
              "...                                                 ...       ...\n",
              "7391  بقى أجي يربني نمشي نتحر حسلي جبلية شكون دها عارفو  negative\n",
              "7392  أنصح أخنوش بأنه إعادة سيخلق تخلفا واسعا وسيكثر...  negative\n",
              "7393                    فقرونا ولادنا حسبيا ونعم الوكيل  negative\n",
              "7394               راهم كايكذبو ألناس حسبنا ونعم الوكيل  negative\n",
              "7395  الحكومة عملت حكومة غبية مكن سوتشي ومعمرني عادي...  negative\n",
              "\n",
              "[7396 rows x 2 columns]"
            ]
          },
          "execution_count": 42,
          "metadata": {},
          "output_type": "execute_result"
        }
      ],
      "source": [
        "data"
      ]
    },
    {
      "cell_type": "code",
      "execution_count": 43,
      "metadata": {},
      "outputs": [
        {
          "name": "stdout",
          "output_type": "stream",
          "text": [
            "Requirement already satisfied: scikit-learn in c:\\users\\asus\\appdata\\local\\programs\\python\\python312\\lib\\site-packages (1.5.0)\n",
            "Requirement already satisfied: numpy>=1.19.5 in c:\\users\\asus\\appdata\\local\\programs\\python\\python312\\lib\\site-packages (from scikit-learn) (1.26.4)\n",
            "Requirement already satisfied: scipy>=1.6.0 in c:\\users\\asus\\appdata\\local\\programs\\python\\python312\\lib\\site-packages (from scikit-learn) (1.13.1)\n",
            "Requirement already satisfied: joblib>=1.2.0 in c:\\users\\asus\\appdata\\local\\programs\\python\\python312\\lib\\site-packages (from scikit-learn) (1.4.2)\n",
            "Requirement already satisfied: threadpoolctl>=3.1.0 in c:\\users\\asus\\appdata\\local\\programs\\python\\python312\\lib\\site-packages (from scikit-learn) (3.5.0)\n",
            "Note: you may need to restart the kernel to use updated packages.\n"
          ]
        }
      ],
      "source": [
        "pip install scikit-learn"
      ]
    },
    {
      "cell_type": "code",
      "execution_count": 44,
      "metadata": {},
      "outputs": [
        {
          "name": "stdout",
          "output_type": "stream",
          "text": [
            "Requirement already satisfied: numpy in c:\\users\\asus\\appdata\\local\\programs\\python\\python312\\lib\\site-packages (1.26.4)Note: you may need to restart the kernel to use updated packages.\n",
            "\n"
          ]
        }
      ],
      "source": [
        "pip install numpy"
      ]
    },
    {
      "cell_type": "code",
      "execution_count": 45,
      "metadata": {},
      "outputs": [],
      "source": [
        "import numpy as np\n",
        "import pandas as pd\n",
        "from sklearn.feature_extraction.text import TfidfVectorizer\n",
        "from sklearn.model_selection import train_test_split\n",
        "\n",
        "# Définir les stop words personnalisés\n",
        "custom_stop_words1 = ['باباك', 'يخد', 'اصلا', 'عليا', 'يسرى', 'القاح', 'معطيات', 'التحقيق', \n",
        "                      'تايلاند', 'نجوى', 'اسئلة', 'صحافة']\n",
        "\n",
        "# Vectorisation TF-IDF\n",
        "vectorizer = TfidfVectorizer(min_df=2, max_df=0.8, stop_words=custom_stop_words1)\n",
        "X = vectorizer.fit_transform(data['clean_text'])\n",
        "y = data['Label']\n",
        "\n",
        "\n",
        "# Division des données\n",
        "X_train, X_test, y_train, y_test = train_test_split(X, y, test_size=0.2, random_state=42)\n"
      ]
    },
    {
      "cell_type": "markdown",
      "metadata": {},
      "source": [
        "Algorithme Logistic Regression :"
      ]
    },
    {
      "cell_type": "code",
      "execution_count": 46,
      "metadata": {},
      "outputs": [
        {
          "name": "stdout",
          "output_type": "stream",
          "text": [
            "Classification Report:\n",
            "              precision    recall  f1-score   support\n",
            "\n",
            "    negative       0.95      0.92      0.93       862\n",
            "    positive       0.89      0.93      0.91       618\n",
            "\n",
            "    accuracy                           0.92      1480\n",
            "   macro avg       0.92      0.92      0.92      1480\n",
            "weighted avg       0.92      0.92      0.92      1480\n",
            "\n",
            "Cross-validation scores: [0.80675676 0.85665991 0.90939824 0.93509128 0.87423935]\n",
            "Mean cross-validation score: 0.8764291065913783\n",
            "\n",
            "Termes les mieux pondérés pour la classe positive :\n",
            "يحفظك 2.1536338077215977\n",
            "يحفظكم 2.156929052227002\n",
            "الفيديو 2.1796775652560965\n",
            "رائعة 2.234041951899082\n",
            "لقاء 2.2363156009918708\n",
            "التواضع 2.4195191931457236\n",
            "احسن 2.4887569074062412\n",
            "مشاء 2.5249030430735906\n",
            "زوين 2.5553871737821754\n",
            "بارك 2.5682611846626893\n",
            "رائع 2.6671052957527754\n",
            "تحية 2.754829509657663\n",
            "تحياتي 2.7557502334157697\n",
            "ياسين 2.935239083767362\n",
            "شاء 2.9600410533527426\n",
            "فيديو 3.0275321785385136\n",
            "مبروك 3.2342061683033543\n",
            "ماشاء 3.5822187644356966\n",
            "شكرا 4.233312880144359\n",
            "تبارك 4.9262556069427506\n",
            "\n",
            "Termes les mieux pondérés pour la classe négative :\n",
            "الوكيل -2.9562821787668465\n",
            "الشعب -2.4955576244139897\n",
            "الحق -2.450671524543932\n",
            "حكومة -2.2483828599722715\n",
            "حسبنا -2.055634091726057\n",
            "ياخد -1.9525163687731197\n",
            "والو -1.9270492945997937\n",
            "باله -1.8239160446834957\n",
            "أخنوش -1.698949312891552\n",
            "اخنوش -1.6682962014472866\n",
            "حشومة -1.6405682741804093\n",
            "تفو -1.5814285897044444\n",
            "القناة -1.5679089714987193\n",
            "فيهم -1.517093864400142\n",
            "لعنة -1.5057352077841344\n",
            "قوة -1.4956787921827013\n",
            "المشكل -1.4834898372747005\n",
            "الفساد -1.464144771470289\n",
            "حرام -1.4639326160042603\n",
            "المقاطعة -1.4375869517047302\n"
          ]
        }
      ],
      "source": [
        "from sklearn.model_selection import cross_val_score\n",
        "from sklearn.linear_model import LogisticRegression\n",
        "from sklearn.metrics import classification_report, precision_recall_curve\n",
        "\n",
        "\n",
        "# Entraînement du modèle Logistic Regression avec l'ajustement des hyperparamètres\n",
        "lg_model = LogisticRegression(max_iter=100, class_weight='balanced')  # Utilisation de 'balanced' pour le poids des classes\n",
        "\n",
        "# Entraîner le modèle\n",
        "lg_model.fit(X_train, y_train)\n",
        "\n",
        "# Prédiction des probabilités\n",
        "y_proba = lg_model.predict_proba(X_test)\n",
        "\n",
        "# Calcul des scores de précision et de rappel pour différents seuils\n",
        "precision, recall, thresholds = precision_recall_curve(y_test, y_proba[:, 1], pos_label='positive')\n",
        "\n",
        "# Calcul des scores F1 pour différents seuils\n",
        "f1_scores = 2 * (precision * recall) / (precision + recall)\n",
        "\n",
        "# Sélection automatique du meilleur seuil\n",
        "best_threshold = thresholds[np.argmax(f1_scores)]\n",
        "\n",
        "# Classification basée sur le seuil sélectionné\n",
        "y_pred_adjusted = (y_proba[:, 1] >= best_threshold).astype(int)\n",
        "\n",
        "# Convertir les étiquettes prédites en chaînes de caractères\n",
        "y_unique = y.unique()\n",
        "y_pred_strings = np.array([y.unique()[i] for i in y_pred_adjusted])\n",
        "\n",
        "# Évaluation des performances\n",
        "print(\"Classification Report:\")\n",
        "print(classification_report(y_test, y_pred_strings))\n",
        "\n",
        "# Validation croisée\n",
        "scores = cross_val_score(lg_model, X, y, cv=5)\n",
        "print(f\"Cross-validation scores: {scores}\")\n",
        "print(f\"Mean cross-validation score: {scores.mean()}\")\n",
        "\n",
        "# Affichage des termes les mieux pondérés\n",
        "coef = lg_model.coef_[0]\n",
        "terms = vectorizer.get_feature_names_out()\n",
        "term_coef = sorted(zip(coef, terms))\n",
        "\n",
        "print(\"\\nTermes les mieux pondérés pour la classe positive :\")\n",
        "for coef, term in term_coef[-20:]:\n",
        "    print(term, coef)\n",
        "\n",
        "print(\"\\nTermes les mieux pondérés pour la classe négative :\")\n",
        "for coef, term in term_coef[:20]:\n",
        "    print(term, coef)"
      ]
    },
    {
      "cell_type": "code",
      "execution_count": 47,
      "metadata": {},
      "outputs": [
        {
          "data": {
            "text/html": [
              "<div>\n",
              "<style scoped>\n",
              "    .dataframe tbody tr th:only-of-type {\n",
              "        vertical-align: middle;\n",
              "    }\n",
              "\n",
              "    .dataframe tbody tr th {\n",
              "        vertical-align: top;\n",
              "    }\n",
              "\n",
              "    .dataframe thead th {\n",
              "        text-align: right;\n",
              "    }\n",
              "</style>\n",
              "<table border=\"1\" class=\"dataframe\">\n",
              "  <thead>\n",
              "    <tr style=\"text-align: right;\">\n",
              "      <th></th>\n",
              "      <th>clean_text</th>\n",
              "      <th>Label</th>\n",
              "    </tr>\n",
              "  </thead>\n",
              "  <tbody>\n",
              "    <tr>\n",
              "      <th>0</th>\n",
              "      <td>قصيتو المتقاعدين لايتجاوز معاشهم حسبنا ونعم ال...</td>\n",
              "      <td>negative</td>\n",
              "    </tr>\n",
              "    <tr>\n",
              "      <th>1</th>\n",
              "      <td>الايجابي صايب مهرسة</td>\n",
              "      <td>positive</td>\n",
              "    </tr>\n",
              "    <tr>\n",
              "      <th>2</th>\n",
              "      <td>وبارك وصحبه رضينا باله ربا وبالاسلام دينا وبمح...</td>\n",
              "      <td>positive</td>\n",
              "    </tr>\n",
              "    <tr>\n",
              "      <th>3</th>\n",
              "      <td>تقدم وازدهار ونجاح بفضل بفضل الحكيمة لصاحب أفضل</td>\n",
              "      <td>positive</td>\n",
              "    </tr>\n",
              "    <tr>\n",
              "      <th>4</th>\n",
              "      <td>محد حكومة نازلين بالكوميديا عاطينها لتطبال</td>\n",
              "      <td>negative</td>\n",
              "    </tr>\n",
              "    <tr>\n",
              "      <th>...</th>\n",
              "      <td>...</td>\n",
              "      <td>...</td>\n",
              "    </tr>\n",
              "    <tr>\n",
              "      <th>7391</th>\n",
              "      <td>بقى أجي يربني نمشي نتحر حسلي جبلية شكون دها عارفو</td>\n",
              "      <td>negative</td>\n",
              "    </tr>\n",
              "    <tr>\n",
              "      <th>7392</th>\n",
              "      <td>أنصح أخنوش بأنه إعادة سيخلق تخلفا واسعا وسيكثر...</td>\n",
              "      <td>negative</td>\n",
              "    </tr>\n",
              "    <tr>\n",
              "      <th>7393</th>\n",
              "      <td>فقرونا ولادنا حسبيا ونعم الوكيل</td>\n",
              "      <td>negative</td>\n",
              "    </tr>\n",
              "    <tr>\n",
              "      <th>7394</th>\n",
              "      <td>راهم كايكذبو ألناس حسبنا ونعم الوكيل</td>\n",
              "      <td>negative</td>\n",
              "    </tr>\n",
              "    <tr>\n",
              "      <th>7395</th>\n",
              "      <td>الحكومة عملت حكومة غبية مكن سوتشي ومعمرني عادي...</td>\n",
              "      <td>negative</td>\n",
              "    </tr>\n",
              "  </tbody>\n",
              "</table>\n",
              "<p>7396 rows × 2 columns</p>\n",
              "</div>"
            ],
            "text/plain": [
              "                                             clean_text     Label\n",
              "0     قصيتو المتقاعدين لايتجاوز معاشهم حسبنا ونعم ال...  negative\n",
              "1                                   الايجابي صايب مهرسة  positive\n",
              "2     وبارك وصحبه رضينا باله ربا وبالاسلام دينا وبمح...  positive\n",
              "3       تقدم وازدهار ونجاح بفضل بفضل الحكيمة لصاحب أفضل  positive\n",
              "4            محد حكومة نازلين بالكوميديا عاطينها لتطبال  negative\n",
              "...                                                 ...       ...\n",
              "7391  بقى أجي يربني نمشي نتحر حسلي جبلية شكون دها عارفو  negative\n",
              "7392  أنصح أخنوش بأنه إعادة سيخلق تخلفا واسعا وسيكثر...  negative\n",
              "7393                    فقرونا ولادنا حسبيا ونعم الوكيل  negative\n",
              "7394               راهم كايكذبو ألناس حسبنا ونعم الوكيل  negative\n",
              "7395  الحكومة عملت حكومة غبية مكن سوتشي ومعمرني عادي...  negative\n",
              "\n",
              "[7396 rows x 2 columns]"
            ]
          },
          "execution_count": 47,
          "metadata": {},
          "output_type": "execute_result"
        }
      ],
      "source": [
        "data"
      ]
    },
    {
      "cell_type": "code",
      "execution_count": 48,
      "metadata": {},
      "outputs": [],
      "source": [
        "# Fonction pour nettoyer un commentaire en utilisant toutes les fonctions de nettoyage\n",
        "def clean_comment(commentaire):\n",
        "    print(\"Commentaire avant nettoyage :\", commentaire)\n",
        "    \n",
        "    # Appliquer la fonction pour nettoyer le commentaire\n",
        "    commentaire = nettoyer_commentaire(commentaire)\n",
        "    print(\"Après nettoyage des chiffres, de la ponctuation et des liens web :\", commentaire)\n",
        "    \n",
        "    # Appliquer la fonction pour nettoyer le texte\n",
        "    commentaire = clean_text(commentaire)\n",
        "    print(\"Après nettoyage du texte :\", commentaire)\n",
        "    \n",
        "    # Appliquer la fonction pour supprimer les mots communs non significatifs\n",
        "    commentaire = remove_non_significant_common_words(commentaire)\n",
        "    print(\"Après suppression des mots communs non significatifs :\", commentaire)\n",
        "    \n",
        "    # Appliquer la fonction pour supprimer les lettres répétées dans les mots\n",
        "    commentaire = remove_repeated_letters_in_text(commentaire)\n",
        "    print(\"Après suppression des lettres répétées :\", commentaire)\n",
        "    \n",
        "    # Appliquer la fonction pour supprimer les mots courts\n",
        "    commentaire = remove_short_words(commentaire)\n",
        "    print(\"Après suppression des mots courts :\", commentaire)\n",
        "    \n",
        "    # Supprimer les mots des listes de stopwords\n",
        "    commentaire = ' '.join([word for word in commentaire.split() if word not in custom_stop_words1])\n",
        "    commentaire = ' '.join([word for word in commentaire.split() if word not in top_100_words_excluded])\n",
        "    \n",
        "    print(\"Commentaire après suppression des stopwords :\", commentaire)\n",
        "    \n",
        "    return commentaire\n"
      ]
    },
    {
      "cell_type": "code",
      "execution_count": 49,
      "metadata": {},
      "outputs": [
        {
          "name": "stdout",
          "output_type": "stream",
          "text": [
            "Commentaire avant nettoyage : هاد الفيديو هو احسن فيديو لقيتو في يوتيوب\n",
            "Après nettoyage des chiffres, de la ponctuation et des liens web : هاد الفيديو هو احسن فيديو لقيتو في يوتيوب\n",
            "Après nettoyage du texte : هاد الفيديو احسن فيديو لقيتو يوتيوب\n",
            "Après suppression des mots communs non significatifs : الفيديو احسن فيديو لقيتو يوتيوب\n",
            "Après suppression des lettres répétées : الفيديو احسن فيديو لقيتو يوتيوب\n",
            "Après suppression des mots courts : الفيديو احسن فيديو لقيتو يوتيوب\n",
            "Commentaire après suppression des stopwords : الفيديو احسن فيديو لقيتو يوتيوب\n",
            "Le commentaire 'هاد الفيديو هو احسن فيديو لقيتو في يوتيوب' est classifié comme 'positive'\n"
          ]
        }
      ],
      "source": [
        "# Nouveau commentaire à classifier\n",
        "nouveau_commentaire = \"هاد الفيديو هو احسن فيديو لقيتو في يوتيوب\"\n",
        "\n",
        "# Prétraitement du nouveau commentaire\n",
        "clean_nouveau_commentaire = clean_comment(nouveau_commentaire)\n",
        "\n",
        "# Vectorisation du nouveau commentaire\n",
        "vectorised_nouveau_commentaire = vectorizer.transform([clean_nouveau_commentaire])\n",
        "\n",
        "# Prédiction des probabilités pour le nouveau commentaire\n",
        "nouveau_proba = lg_model.predict_proba(vectorised_nouveau_commentaire)\n",
        "\n",
        "# Classification basée sur le seuil sélectionné pour le nouveau commentaire\n",
        "nouveau_pred_adjusted = (nouveau_proba[:, 1] >= best_threshold).astype(int)\n",
        "\n",
        "# Convertir l'étiquette prédite en chaîne de caractères\n",
        "nouveau_pred_string = y_unique[nouveau_pred_adjusted[0]]\n",
        "\n",
        "print(f\"Le commentaire '{nouveau_commentaire}' est classifié comme '{nouveau_pred_string}'\")"
      ]
    },
    {
      "cell_type": "markdown",
      "metadata": {},
      "source": [
        "Algorithme Naive Bayes :"
      ]
    },
    {
      "cell_type": "code",
      "execution_count": 50,
      "metadata": {},
      "outputs": [
        {
          "name": "stdout",
          "output_type": "stream",
          "text": [
            "Classification Report:\n",
            "              precision    recall  f1-score   support\n",
            "\n",
            "    negative       0.95      0.91      0.93       862\n",
            "    positive       0.88      0.94      0.91       618\n",
            "\n",
            "    accuracy                           0.92      1480\n",
            "   macro avg       0.92      0.92      0.92      1480\n",
            "weighted avg       0.92      0.92      0.92      1480\n",
            "\n",
            "Cross-validation scores: [0.83310811 0.87423935 0.90466531 0.94726166 0.89317106]\n",
            "Mean cross-validation score: 0.8904890996473146\n",
            "\n",
            "Termes les mieux pondérés pour la classe positive :\n",
            "زوينة 2.8371536201497456\n",
            "تحية 2.8543877340763544\n",
            "بلادي 2.8609662118291226\n",
            "سعد 2.8705419529567147\n",
            "أحسن 2.921819804414447\n",
            "تحياتي 2.9339078385644353\n",
            "رائعة 2.9626156927358984\n",
            "فيديو 2.9645829770322365\n",
            "يحفظك 3.034889172542881\n",
            "زوين 3.143627142288759\n",
            "يحفظكم 3.2031818230693077\n",
            "بالتوفيق 3.283241470490127\n",
            "مشاء 3.413374313858549\n",
            "التواضع 3.5057203757109114\n",
            "مبروك 3.5535529357498365\n",
            "ياسين 3.579880012633053\n",
            "رائع 3.6654536042168164\n",
            "شكرا 3.765145557651243\n",
            "ماشاء 4.104599750326215\n",
            "تبارك 4.86742542289836\n",
            "\n",
            "Termes les mieux pondérés pour la classe négative :\n",
            "حسبنا -3.7567501989947054\n",
            "الوكيل -3.6929855780032783\n",
            "حسبي -2.9154743955253064\n",
            "ياخد -2.8947283181846437\n",
            "قوة -2.6557271152356012\n",
            "الحق -2.4263309201628243\n",
            "المقاطعة -2.378215011007452\n",
            "حشومة -2.3092203206718116\n",
            "البوطة -2.297020178062434\n",
            "حول -2.292433565467462\n",
            "لعنة -2.2821364937713104\n",
            "الزيادة -2.227728970971336\n",
            "حكومة -2.218522966507707\n",
            "المشكل -2.1817845377537832\n",
            "ولاقوة -2.0700511325995095\n",
            "ونعم -2.066887061119174\n",
            "ياخذ -2.0463153493466537\n",
            "حرام -2.0460569882349526\n",
            "أخنوش -2.040052195044856\n",
            "تفو -2.031806001918861\n"
          ]
        }
      ],
      "source": [
        "from sklearn.model_selection import cross_val_score\n",
        "from sklearn.naive_bayes import MultinomialNB\n",
        "from sklearn.metrics import classification_report, precision_recall_curve\n",
        "\n",
        "\n",
        "# Initialiser et entraîner le modèle Naive Bayes\n",
        "nb_model = MultinomialNB()\n",
        "nb_model.fit(X_train, y_train)\n",
        "\n",
        "# Prédiction des probabilités\n",
        "y_proba = nb_model.predict_proba(X_test)\n",
        "\n",
        "# Calcul des scores de précision et de rappel pour différents seuils\n",
        "precision, recall, thresholds = precision_recall_curve(y_test, y_proba[:, 1], pos_label='positive')\n",
        "\n",
        "# Calcul des scores F1 pour différents seuils\n",
        "f1_scores = 2 * (precision * recall) / (precision + recall)\n",
        "\n",
        "# Sélection automatique du meilleur seuil\n",
        "best_threshold = thresholds[np.argmax(f1_scores)]\n",
        "\n",
        "# Classification basée sur le seuil sélectionné\n",
        "y_pred_adjusted = (y_proba[:, 1] >= best_threshold).astype(int)\n",
        "\n",
        "# Convertir les étiquettes prédites en chaînes de caractères\n",
        "y_unique = y.unique()\n",
        "y_pred_strings = np.array([y_unique[i] for i in y_pred_adjusted])\n",
        "\n",
        "# Évaluation des performances\n",
        "print(\"Classification Report:\")\n",
        "print(classification_report(y_test, y_pred_strings))\n",
        "\n",
        "# Validation croisée\n",
        "scores = cross_val_score(nb_model, X, y, cv=5)\n",
        "print(f\"Cross-validation scores: {scores}\")\n",
        "print(f\"Mean cross-validation score: {scores.mean()}\")\n",
        "\n",
        "# Affichage des termes les mieux pondérés pour Naive Bayes\n",
        "coef = nb_model.feature_log_prob_[1] - nb_model.feature_log_prob_[0]\n",
        "terms = vectorizer.get_feature_names_out()\n",
        "term_coef = sorted(zip(coef, terms))\n",
        "\n",
        "print(\"\\nTermes les mieux pondérés pour la classe positive :\")\n",
        "for coef, term in term_coef[-20:]:\n",
        "    print(term, coef)\n",
        "\n",
        "print(\"\\nTermes les mieux pondérés pour la classe négative :\")\n",
        "for coef, term in term_coef[:20]:\n",
        "    print(term, coef)"
      ]
    },
    {
      "cell_type": "code",
      "execution_count": 51,
      "metadata": {},
      "outputs": [
        {
          "name": "stdout",
          "output_type": "stream",
          "text": [
            "Classification Report (adjusted threshold) - Naive Bayes:\n",
            "              precision    recall  f1-score   support\n",
            "\n",
            "    negative       0.97      0.92      0.95      4092\n",
            "    positive       0.91      0.96      0.94      3304\n",
            "\n",
            "    accuracy                           0.94      7396\n",
            "   macro avg       0.94      0.94      0.94      7396\n",
            "weighted avg       0.94      0.94      0.94      7396\n",
            "\n"
          ]
        }
      ],
      "source": [
        "import numpy as np\n",
        "import pandas as pd\n",
        "from sklearn.feature_extraction.text import TfidfVectorizer\n",
        "from sklearn.naive_bayes import MultinomialNB\n",
        "from sklearn.metrics import precision_recall_curve\n",
        "from sklearn.preprocessing import label_binarize\n",
        "import joblib\n",
        "\n",
        "\n",
        "# Définir les features et les étiquettes\n",
        "X = data['clean_text']\n",
        "y = data['Label']\n",
        "\n",
        "# Vectorisation TF-IDF\n",
        "vectorizer = TfidfVectorizer(min_df=2, max_df=0.8)\n",
        "X = vectorizer.fit_transform(X)\n",
        "\n",
        "# Initialiser et entraîner le modèle Naive Bayes\n",
        "nb_model = MultinomialNB()\n",
        "nb_model.fit(X, y)\n",
        "\n",
        "# Prédiction des probabilités\n",
        "y_proba = nb_model.predict_proba(X)\n",
        "\n",
        "# Binariser les étiquettes pour utiliser avec precision_recall_curve\n",
        "unique_classes = np.unique(y)\n",
        "y_binarized = label_binarize(y, classes=unique_classes)[:, 0]\n",
        "\n",
        "# Calcul des scores de précision et de rappel pour différents seuils\n",
        "precision, recall, thresholds = precision_recall_curve(y_binarized, y_proba[:, 1], pos_label=1)\n",
        "\n",
        "# Calcul des scores F1 pour différents seuils\n",
        "f1_scores = 2 * (precision * recall) / (precision + recall)\n",
        "\n",
        "# Sélection automatique du meilleur seuil\n",
        "best_threshold = thresholds[np.argmax(f1_scores)]\n",
        "\n",
        "# Sauvegarder le modèle, le vectorizer et le meilleur seuil\n",
        "joblib.dump(nb_model, 'nb_model.pkl')\n",
        "joblib.dump(vectorizer, 'tfidf_vectorizer.pkl')\n",
        "joblib.dump(best_threshold, 'best_threshold.pkl')\n",
        "\n",
        "# Afficher les performances\n",
        "y_pred_adjusted = (y_proba[:, 1] >= best_threshold).astype(int)\n",
        "y_pred_strings = np.array([unique_classes[i] for i in y_pred_adjusted])\n",
        "print(\"Classification Report (adjusted threshold) - Naive Bayes:\")\n",
        "print(classification_report(y, y_pred_strings))\n"
      ]
    },
    {
      "cell_type": "code",
      "execution_count": 52,
      "metadata": {},
      "outputs": [
        {
          "name": "stdout",
          "output_type": "stream",
          "text": [
            "Commentaire avant nettoyage : الأسعار كترت بزاف والناس ما بقاتش قادرة تشري حتى الحوايج الضرورية\n",
            "Après nettoyage des chiffres, de la ponctuation et des liens web : الأسعار كترت بزاف والناس ما بقاتش قادرة تشري حتى الحوايج الضرورية\n",
            "Après nettoyage du texte : الأسعار كترت بزاف والناس بقاتش قادرة تشري الحوايج الضرورية\n",
            "Après suppression des mots communs non significatifs : الأسعار بقاتش تشري الضرورية\n",
            "Après suppression des lettres répétées : الأسعار بقاتش تشري الضرورية\n",
            "Après suppression des mots courts : الأسعار بقاتش تشري الضرورية\n",
            "Commentaire après suppression des stopwords : الأسعار بقاتش تشري الضرورية\n",
            "Le commentaire 'الأسعار كترت بزاف والناس ما بقاتش قادرة تشري حتى الحوايج الضرورية' est classifié comme 'negative'\n"
          ]
        }
      ],
      "source": [
        "# Nouveau commentaire à classifier\n",
        "nouveau_commentaire = \"الأسعار كترت بزاف والناس ما بقاتش قادرة تشري حتى الحوايج الضرورية\"\n",
        "# Prétraitement du nouveau commentaire\n",
        "clean_nouveau_commentaire = clean_comment(nouveau_commentaire)\n",
        "\n",
        "# Vectorisation du nouveau commentaire\n",
        "vectorised_nouveau_commentaire = vectorizer.transform([clean_nouveau_commentaire])\n",
        "\n",
        "# Prédiction des probabilités pour le nouveau commentaire\n",
        "nouveau_proba = nb_model.predict_proba(vectorised_nouveau_commentaire)\n",
        "\n",
        "# Classification basée sur le seuil sélectionné pour le nouveau commentaire\n",
        "nouveau_pred_adjusted = (nouveau_proba[:, 1] >= best_threshold).astype(int)\n",
        "\n",
        "# Convertir l'étiquette prédite en chaîne de caractères\n",
        "nouveau_pred_string = y_unique[nouveau_pred_adjusted[0]]\n",
        "\n",
        "print(f\"Le commentaire '{nouveau_commentaire}' est classifié comme '{nouveau_pred_string}'\")\n"
      ]
    },
    {
      "cell_type": "markdown",
      "metadata": {},
      "source": [
        "Algorithme SVM"
      ]
    },
    {
      "cell_type": "code",
      "execution_count": 53,
      "metadata": {},
      "outputs": [
        {
          "name": "stdout",
          "output_type": "stream",
          "text": [
            "Classification Report (adjusted threshold):\n",
            "              precision    recall  f1-score   support\n",
            "\n",
            "    negative       0.96      0.90      0.93       862\n",
            "    positive       0.87      0.94      0.90       618\n",
            "\n",
            "    accuracy                           0.92      1480\n",
            "   macro avg       0.91      0.92      0.91      1480\n",
            "weighted avg       0.92      0.92      0.92      1480\n",
            "\n",
            "Cross-validation scores: [0.80945946 0.8586883  0.90466531 0.93441515 0.88370521]\n",
            "Mean cross-validation score: 0.8781866856714726\n"
          ]
        }
      ],
      "source": [
        "import numpy as np\n",
        "from sklearn.model_selection import cross_val_score\n",
        "from sklearn.svm import SVC\n",
        "from sklearn.metrics import classification_report, precision_recall_curve\n",
        "from sklearn.preprocessing import label_binarize\n",
        "\n",
        "\n",
        "# Initialiser et entraîner le modèle SVM\n",
        "model = SVC(kernel='linear', probability=True)\n",
        "model.fit(X_train, y_train)\n",
        "\n",
        "# Prédiction des probabilités\n",
        "y_proba = model.predict_proba(X_test)\n",
        "\n",
        "# Vérifier la présence des deux classes dans y_test\n",
        "unique_classes = np.unique(y_test)\n",
        "if len(unique_classes) < 2:\n",
        "    raise ValueError(\"y_test doit contenir au moins deux classes différentes pour calculer les scores de précision et de rappel.\")\n",
        "\n",
        "# Binariser les étiquettes de test pour utiliser avec precision_recall_curve\n",
        "y_test_binarized = label_binarize(y_test, classes=unique_classes)[:, 0] if model.classes_[1] == unique_classes[1] else label_binarize(y_test, classes=unique_classes)[:, 1]\n",
        "\n",
        "# Calcul des scores de précision et de rappel pour différents seuils\n",
        "precision, recall, thresholds = precision_recall_curve(y_test_binarized, y_proba[:, 1], pos_label=1)\n",
        "\n",
        "# Calcul des scores F1 pour différents seuils\n",
        "f1_scores = 2 * (precision * recall) / (precision + recall)\n",
        "\n",
        "# Sélection automatique du meilleur seuil\n",
        "best_threshold = thresholds[np.argmax(f1_scores)]\n",
        "\n",
        "# Classification basée sur le seuil sélectionné\n",
        "y_pred_adjusted = (y_proba[:, 1] >= best_threshold).astype(int)\n",
        "\n",
        "# Convertir les étiquettes prédites en chaînes de caractères\n",
        "y_unique = model.classes_\n",
        "y_pred_strings = np.array([y_unique[i] for i in y_pred_adjusted])\n",
        "\n",
        "# Évaluation des performances\n",
        "print(\"Classification Report (adjusted threshold):\")\n",
        "print(classification_report(y_test, y_pred_strings))\n",
        "\n",
        "# Validation croisée\n",
        "scores = cross_val_score(model, X, y, cv=5)\n",
        "print(f\"Cross-validation scores: {scores}\")\n",
        "print(f\"Mean cross-validation score: {scores.mean()}\")\n",
        "\n"
      ]
    },
    {
      "cell_type": "code",
      "execution_count": 54,
      "metadata": {},
      "outputs": [
        {
          "name": "stdout",
          "output_type": "stream",
          "text": [
            "Classification Report (adjusted threshold) - Kernel RBF:\n",
            "              precision    recall  f1-score   support\n",
            "\n",
            "    negative       0.95      0.92      0.94       862\n",
            "    positive       0.90      0.94      0.92       618\n",
            "\n",
            "    accuracy                           0.93      1480\n",
            "   macro avg       0.93      0.93      0.93      1480\n",
            "weighted avg       0.93      0.93      0.93      1480\n",
            "\n",
            "Cross-validation scores (RBF kernel): [0.82027027 0.84922245 0.8918188  0.91548343 0.90466531]\n",
            "Mean cross-validation score (RBF kernel): 0.876292052701789\n"
          ]
        }
      ],
      "source": [
        "import numpy as np\n",
        "from sklearn.model_selection import cross_val_score\n",
        "from sklearn.svm import SVC\n",
        "from sklearn.metrics import classification_report, precision_recall_curve\n",
        "from sklearn.preprocessing import label_binarize\n",
        "\n",
        "\n",
        "# Initialiser et entraîner le modèle SVM avec kernel RBF\n",
        "model_rbf = SVC(kernel='rbf', probability=True)\n",
        "model_rbf.fit(X_train, y_train)\n",
        "\n",
        "# Prédiction des probabilités\n",
        "y_proba_rbf = model_rbf.predict_proba(X_test)\n",
        "\n",
        "# Vérifier la présence des deux classes dans y_test\n",
        "unique_classes = np.unique(y_test)\n",
        "if len(unique_classes) < 2:\n",
        "    raise ValueError(\"y_test doit contenir au moins deux classes différentes pour calculer les scores de précision et de rappel.\")\n",
        "\n",
        "# Binariser les étiquettes de test pour utiliser avec precision_recall_curve\n",
        "y_test_binarized = label_binarize(y_test, classes=unique_classes)[:, 0] if model_rbf.classes_[1] == unique_classes[1] else label_binarize(y_test, classes=unique_classes)[:, 1]\n",
        "\n",
        "# Calcul des scores de précision et de rappel pour différents seuils\n",
        "precision, recall, thresholds = precision_recall_curve(y_test_binarized, y_proba_rbf[:, 1], pos_label=1)\n",
        "\n",
        "# Calcul des scores F1 pour différents seuils\n",
        "f1_scores = 2 * (precision * recall) / (precision + recall)\n",
        "\n",
        "# Sélection automatique du meilleur seuil\n",
        "best_threshold = thresholds[np.argmax(f1_scores)]\n",
        "\n",
        "# Classification basée sur le seuil sélectionné\n",
        "y_pred_adjusted = (y_proba_rbf[:, 1] >= best_threshold).astype(int)\n",
        "\n",
        "# Convertir les étiquettes prédites en chaînes de caractères\n",
        "y_unique = model_rbf.classes_\n",
        "y_pred_strings = np.array([y_unique[i] for i in y_pred_adjusted])\n",
        "\n",
        "# Évaluation des performances\n",
        "print(\"Classification Report (adjusted threshold) - Kernel RBF:\")\n",
        "print(classification_report(y_test, y_pred_strings))\n",
        "\n",
        "# Validation croisée\n",
        "scores_rbf = cross_val_score(model_rbf, X, y, cv=5)\n",
        "print(f\"Cross-validation scores (RBF kernel): {scores_rbf}\")\n",
        "print(f\"Mean cross-validation score (RBF kernel): {scores_rbf.mean()}\")\n"
      ]
    },
    {
      "cell_type": "code",
      "execution_count": 55,
      "metadata": {},
      "outputs": [
        {
          "name": "stdout",
          "output_type": "stream",
          "text": [
            "Classification Report (adjusted threshold) - Kernel Polynomial:\n",
            "              precision    recall  f1-score   support\n",
            "\n",
            "    negative       0.96      0.89      0.92       862\n",
            "    positive       0.86      0.95      0.90       618\n",
            "\n",
            "    accuracy                           0.92      1480\n",
            "   macro avg       0.91      0.92      0.91      1480\n",
            "weighted avg       0.92      0.92      0.92      1480\n",
            "\n",
            "Cross-validation scores (Polynomial kernel): [0.72635135 0.8086545  0.82623394 0.85665991 0.83975659]\n",
            "Mean cross-validation score (Polynomial kernel): 0.8115312574237523\n"
          ]
        }
      ],
      "source": [
        "# Initialiser et entraîner le modèle SVM avec kernel polynomial\n",
        "model_poly = SVC(kernel='poly', probability=True)\n",
        "model_poly.fit(X_train, y_train)\n",
        "\n",
        "# Prédiction des probabilités\n",
        "y_proba_poly = model_poly.predict_proba(X_test)\n",
        "\n",
        "# Vérifier la présence des deux classes dans y_test\n",
        "unique_classes = np.unique(y_test)\n",
        "if len(unique_classes) < 2:\n",
        "    raise ValueError(\"y_test doit contenir au moins deux classes différentes pour calculer les scores de précision et de rappel.\")\n",
        "\n",
        "# Binariser les étiquettes de test pour utiliser avec precision_recall_curve\n",
        "y_test_binarized = label_binarize(y_test, classes=unique_classes)[:, 0] if model_poly.classes_[1] == unique_classes[1] else label_binarize(y_test, classes=unique_classes)[:, 1]\n",
        "\n",
        "# Calcul des scores de précision et de rappel pour différents seuils\n",
        "precision, recall, thresholds = precision_recall_curve(y_test_binarized, y_proba_poly[:, 1], pos_label=1)\n",
        "\n",
        "# Calcul des scores F1 pour différents seuils\n",
        "f1_scores = 2 * (precision * recall) / (precision + recall)\n",
        "\n",
        "# Sélection automatique du meilleur seuil\n",
        "best_threshold = thresholds[np.argmax(f1_scores)]\n",
        "\n",
        "# Classification basée sur le seuil sélectionné\n",
        "y_pred_adjusted = (y_proba_poly[:, 1] >= best_threshold).astype(int)\n",
        "\n",
        "# Convertir les étiquettes prédites en chaînes de caractères\n",
        "y_unique = model_poly.classes_\n",
        "y_pred_strings = np.array([y_unique[i] for i in y_pred_adjusted])\n",
        "\n",
        "# Évaluation des performances\n",
        "print(\"Classification Report (adjusted threshold) - Kernel Polynomial:\")\n",
        "print(classification_report(y_test, y_pred_strings))\n",
        "\n",
        "# Validation croisée\n",
        "scores_poly = cross_val_score(model_poly, X, y, cv=5)\n",
        "print(f\"Cross-validation scores (Polynomial kernel): {scores_poly}\")\n",
        "print(f\"Mean cross-validation score (Polynomial kernel): {scores_poly.mean()}\")\n"
      ]
    },
    {
      "cell_type": "code",
      "execution_count": 56,
      "metadata": {},
      "outputs": [
        {
          "data": {
            "image/png": "[encoded data removed]",
            "text/plain": [
              "<Figure size 640x480 with 1 Axes>"
            ]
          },
          "metadata": {},
          "output_type": "display_data"
        },
        {
          "data": {
            "image/png": "[encoded data removed]",
            "text/plain": [
              "<Figure size 640x480 with 1 Axes>"
            ]
          },
          "metadata": {},
          "output_type": "display_data"
        },
        {
          "data": {
            "image/png": "[encoded data removed]",
            "text/plain": [
              "<Figure size 640x480 with 1 Axes>"
            ]
          },
          "metadata": {},
          "output_type": "display_data"
        }
      ],
      "source": [
        "from sklearn.model_selection import learning_curve\n",
        "\n",
        "# Définir les kernels à utiliser\n",
        "kernels = ['linear', 'rbf', 'poly']\n",
        "\n",
        "# Fonction pour tracer la courbe d'apprentissage\n",
        "def plot_learning_curve(estimator, title, X, y, cv, n_jobs=-1, train_sizes=np.linspace(.1, 1.0, 10)):\n",
        "    plt.figure()\n",
        "    plt.title(title)\n",
        "    plt.xlabel(\"Training examples\")\n",
        "    plt.ylabel(\"Score\")\n",
        "    \n",
        "    train_sizes, train_scores, test_scores = learning_curve(estimator, X, y, cv=cv, n_jobs=n_jobs, train_sizes=train_sizes)\n",
        "    train_scores_mean = np.mean(train_scores, axis=1)\n",
        "    train_scores_std = np.std(train_scores, axis=1)\n",
        "    test_scores_mean = np.mean(test_scores, axis=1)\n",
        "    test_scores_std = np.std(test_scores, axis=1)\n",
        "    \n",
        "    plt.grid()\n",
        "    \n",
        "    plt.fill_between(train_sizes, train_scores_mean - train_scores_std, train_scores_mean + train_scores_std, alpha=0.1, color=\"r\")\n",
        "    plt.fill_between(train_sizes, test_scores_mean - test_scores_std, test_scores_mean + test_scores_std, alpha=0.1, color=\"g\")\n",
        "    \n",
        "    plt.plot(train_sizes, train_scores_mean, 'o-', color=\"r\", label=\"Training score\")\n",
        "    plt.plot(train_sizes, test_scores_mean, 'o-', color=\"g\", label=\"Cross-validation score\")\n",
        "    \n",
        "    plt.legend(loc=\"best\")\n",
        "    return plt\n",
        "\n",
        "# Tracer les courbes d'apprentissage pour chaque kernel\n",
        "cv = 5  # Par exemple, utiliser une validation croisée à 5 plis\n",
        "for kernel in kernels:\n",
        "    model = SVC(kernel=kernel, probability=True)\n",
        "    plot_learning_curve(model, f\"Learning Curve (SVM, {kernel} kernel)\", X, y, cv=cv)\n",
        "\n",
        "plt.show()\n"
      ]
    },
    {
      "cell_type": "markdown",
      "metadata": {},
      "source": [
        "Algorithme Random Forest"
      ]
    },
    {
      "cell_type": "code",
      "execution_count": 57,
      "metadata": {},
      "outputs": [
        {
          "name": "stdout",
          "output_type": "stream",
          "text": [
            "Meilleurs paramètres trouvés: {'bootstrap': True, 'max_depth': None, 'min_samples_leaf': 1, 'min_samples_split': 10, 'n_estimators': 100}\n",
            "Meilleur score de validation croisée: 0.85\n",
            "Précision: 0.84\n",
            "Matrice de Confusion:\n",
            "[[676 186]\n",
            " [ 46 572]]\n",
            "Rapport de Classification:\n",
            "              precision    recall  f1-score   support\n",
            "\n",
            "    negative       0.94      0.78      0.85       862\n",
            "    positive       0.75      0.93      0.83       618\n",
            "\n",
            "    accuracy                           0.84      1480\n",
            "   macro avg       0.85      0.85      0.84      1480\n",
            "weighted avg       0.86      0.84      0.84      1480\n",
            "\n"
          ]
        }
      ],
      "source": [
        "import pandas as pd\n",
        "from sklearn.model_selection import GridSearchCV, StratifiedKFold\n",
        "from sklearn.ensemble import RandomForestClassifier\n",
        "from sklearn.metrics import accuracy_score, confusion_matrix, classification_report\n",
        "\n",
        "\n",
        "# Paramètres pour la recherche par grille\n",
        "param_grid = {\n",
        "    'n_estimators': [100, 200, 300],\n",
        "    'max_depth': [None, 10, 20, 30],\n",
        "    'min_samples_split': [2, 5, 10],\n",
        "    'min_samples_leaf': [1, 2, 4],\n",
        "    'bootstrap': [True, False]\n",
        "}\n",
        "\n",
        "# Initialiser le classifieur RandomForest\n",
        "rf_classifier = RandomForestClassifier(random_state=42)\n",
        "\n",
        "# Stratified K-Fold Cross Validation pour une meilleure répartition des classes\n",
        "cv_stratified = StratifiedKFold(n_splits=5, shuffle=True, random_state=42)\n",
        "\n",
        "# Recherche par grille\n",
        "grid_search = GridSearchCV(rf_classifier, param_grid, cv=cv_stratified, n_jobs=-1, scoring='accuracy')\n",
        "grid_search.fit(X_train, y_train)\n",
        "\n",
        "# Meilleurs paramètres\n",
        "print(f'Meilleurs paramètres trouvés: {grid_search.best_params_}')\n",
        "print(f'Meilleur score de validation croisée: {grid_search.best_score_:.2f}')\n",
        "\n",
        "# Prédictions sur l'ensemble de test avec les meilleurs paramètres\n",
        "best_model = grid_search.best_estimator_\n",
        "y_pred = best_model.predict(X_test)\n",
        "\n",
        "# Calcul de la précision\n",
        "accuracy = accuracy_score(y_test, y_pred)\n",
        "print(f'Précision: {accuracy:.2f}')\n",
        "\n",
        "# Matrice de confusion\n",
        "conf_matrix = confusion_matrix(y_test, y_pred)\n",
        "print('Matrice de Confusion:')\n",
        "print(conf_matrix)\n",
        "\n",
        "# Rapport de classification\n",
        "class_report = classification_report(y_test, y_pred)\n",
        "print('Rapport de Classification:')\n",
        "print(class_report)\n"
      ]
    },
    {
      "cell_type": "markdown",
      "metadata": {},
      "source": [
        "Gradient Boosting Machines (GBM) :"
      ]
    },
    {
      "cell_type": "code",
      "execution_count": 58,
      "metadata": {},
      "outputs": [
        {
          "name": "stdout",
          "output_type": "stream",
          "text": [
            "Meilleurs paramètres trouvés: {'learning_rate': 0.3, 'max_depth': 5, 'min_samples_leaf': 1, 'min_samples_split': 7, 'n_estimators': 500}\n",
            "Meilleur score de validation croisée: 0.85\n",
            "Précision: 0.85\n",
            "Matrice de Confusion:\n",
            "[[837  25]\n",
            " [196 422]]\n",
            "Rapport de Classification:\n",
            "              precision    recall  f1-score   support\n",
            "\n",
            "    negative       0.81      0.97      0.88       862\n",
            "    positive       0.94      0.68      0.79       618\n",
            "\n",
            "    accuracy                           0.85      1480\n",
            "   macro avg       0.88      0.83      0.84      1480\n",
            "weighted avg       0.87      0.85      0.85      1480\n",
            "\n"
          ]
        }
      ],
      "source": [
        "import pandas as pd\n",
        "from sklearn.model_selection import GridSearchCV, StratifiedKFold\n",
        "from sklearn.ensemble import GradientBoostingClassifier\n",
        "from sklearn.metrics import accuracy_score, confusion_matrix, classification_report\n",
        "import matplotlib.pyplot as plt\n",
        "\n",
        "# Paramètres pour la recherche par grille élargie\n",
        "param_grid = {\n",
        "    'n_estimators': [400, 500],\n",
        "    'learning_rate': [0.2, 0.3],\n",
        "    'max_depth': [5, 6],\n",
        "    'min_samples_split': [5, 7],\n",
        "    'min_samples_leaf': [1, 2]\n",
        "}\n",
        "\n",
        "# Initialiser le classifieur Gradient Boosting\n",
        "gbm_classifier = GradientBoostingClassifier(random_state=42)\n",
        "\n",
        "# Stratified K-Fold Cross Validation pour une meilleure répartition des classes\n",
        "cv_stratified = StratifiedKFold(n_splits=5, shuffle=True, random_state=42)\n",
        "\n",
        "# Recherche par grille\n",
        "grid_search = GridSearchCV(gbm_classifier, param_grid, cv=cv_stratified, n_jobs=-1, scoring='accuracy')\n",
        "grid_search.fit(X_train, y_train)\n",
        "\n",
        "# Meilleurs paramètres\n",
        "print(f'Meilleurs paramètres trouvés: {grid_search.best_params_}')\n",
        "print(f'Meilleur score de validation croisée: {grid_search.best_score_:.2f}')\n",
        "\n",
        "# Prédictions sur l'ensemble de test avec les meilleurs paramètres\n",
        "best_model = grid_search.best_estimator_\n",
        "y_pred = best_model.predict(X_test)\n",
        "\n",
        "# Calcul de la précision\n",
        "accuracy = accuracy_score(y_test, y_pred)\n",
        "print(f'Précision: {accuracy:.2f}')\n",
        "\n",
        "# Matrice de confusion\n",
        "conf_matrix = confusion_matrix(y_test, y_pred)\n",
        "print('Matrice de Confusion:')\n",
        "print(conf_matrix)\n",
        "\n",
        "# Rapport de classification\n",
        "class_report = classification_report(y_test, y_pred)\n",
        "print('Rapport de Classification:')\n",
        "print(class_report)\n"
      ]
    },
    {
      "cell_type": "code",
      "execution_count": 59,
      "metadata": {},
      "outputs": [
        {
          "data": {
            "image/png": "[encoded data removed]",
            "text/plain": [
              "<Figure size 1300x1300 with 1 Axes>"
            ]
          },
          "metadata": {},
          "output_type": "display_data"
        }
      ],
      "source": [
        "# Tracer les courbes de performance\n",
        "results = pd.DataFrame(grid_search.cv_results_)\n",
        "plt.figure(figsize=(13, 13))\n",
        "\n",
        "# Obtenir les paramètres pour l'affichage\n",
        "n_estimators_values = param_grid['n_estimators']\n",
        "learning_rate_values = param_grid['learning_rate']\n",
        "\n",
        "# Itérer sur les valeurs des hyperparamètres pour tracer les scores\n",
        "for lr in learning_rate_values:\n",
        "    subset = results[results['param_learning_rate'] == lr]\n",
        "    mean_test_scores = subset.pivot_table(index='param_n_estimators', columns='param_max_depth', values='mean_test_score', aggfunc='mean')\n",
        "\n",
        "    for col in mean_test_scores.columns:\n",
        "        plt.plot(n_estimators_values, mean_test_scores[col], label=f'learning_rate={lr}, max_depth={col}')\n",
        "\n",
        "# Ajouter des étiquettes et une légende\n",
        "plt.xlabel('Nombre d\\'estimators')\n",
        "plt.ylabel('Score moyen de validation croisée')\n",
        "plt.title('Performance du Gradient Boosting en fonction des hyperparamètres')\n",
        "plt.legend()\n",
        "plt.show()\n"
      ]
    },
    {
      "cell_type": "markdown",
      "metadata": {},
      "source": [
        "Modèle Voting Classifier combinant SVM (RBF Kernel), Random Forest et Naive Bayes :"
      ]
    },
    {
      "cell_type": "code",
      "execution_count": 60,
      "metadata": {},
      "outputs": [
        {
          "name": "stdout",
          "output_type": "stream",
          "text": [
            "Précision: 0.92\n",
            "Matrice de Confusion:\n",
            "[[801  61]\n",
            " [ 55 563]]\n",
            "Rapport de Classification:\n",
            "              precision    recall  f1-score   support\n",
            "\n",
            "    negative       0.94      0.93      0.93       862\n",
            "    positive       0.90      0.91      0.91       618\n",
            "\n",
            "    accuracy                           0.92      1480\n",
            "   macro avg       0.92      0.92      0.92      1480\n",
            "weighted avg       0.92      0.92      0.92      1480\n",
            "\n",
            "Scores de validation croisée: [0.90540541 0.91546915 0.89687236 0.89180051 0.91546915]\n",
            "Moyenne des scores de validation croisée: 0.91\n",
            "Écart-type des scores de validation croisée: 0.01\n"
          ]
        }
      ],
      "source": [
        "import pandas as pd\n",
        "from sklearn.model_selection import GridSearchCV, StratifiedKFold, cross_val_score\n",
        "from sklearn.ensemble import VotingClassifier\n",
        "from sklearn.metrics import accuracy_score, confusion_matrix, classification_report\n",
        "import matplotlib.pyplot as plt\n",
        "\n",
        "\n",
        "# Initialiser le Voting Classifier avec le vote doux\n",
        "voting_classifier = VotingClassifier(estimators=[('svm', model_rbf), ('rf', rf_classifier), ('nb', nb_model)], voting='soft')\n",
        "\n",
        "# Entraîner le Voting Classifier sur les données d'entraînement\n",
        "voting_classifier.fit(X_train, y_train)\n",
        "\n",
        "# Faire des prédictions sur les données de test\n",
        "y_pred = voting_classifier.predict(X_test)\n",
        "\n",
        "# Calculer la précision\n",
        "accuracy = accuracy_score(y_test, y_pred)\n",
        "print(f'Précision: {accuracy:.2f}')\n",
        "\n",
        "# Matrice de confusion\n",
        "conf_matrix = confusion_matrix(y_test, y_pred)\n",
        "print('Matrice de Confusion:')\n",
        "print(conf_matrix)\n",
        "\n",
        "# Rapport de classification\n",
        "class_report = classification_report(y_test, y_pred)\n",
        "print('Rapport de Classification:')\n",
        "print(class_report)\n",
        "\n",
        "# Cross-validation pour évaluer le modèle VotingClassifier\n",
        "cv_stratified = StratifiedKFold(n_splits=5, shuffle=True, random_state=42)\n",
        "cv_scores = cross_val_score(voting_classifier, X_train, y_train, cv=cv_stratified, scoring='accuracy')\n",
        "\n",
        "# Afficher les scores de validation croisée\n",
        "print(f'Scores de validation croisée: {cv_scores}')\n",
        "print(f'Moyenne des scores de validation croisée: {cv_scores.mean():.2f}')\n",
        "print(f'Écart-type des scores de validation croisée: {cv_scores.std():.2f}')\n"
      ]
    },
    {
      "cell_type": "markdown",
      "metadata": {},
      "source": [
        "Neural Network"
      ]
    },
    {
      "cell_type": "code",
      "execution_count": 61,
      "metadata": {},
      "outputs": [
        {
          "name": "stderr",
          "output_type": "stream",
          "text": [
            "c:\\Users\\asus\\AppData\\Local\\Programs\\Python\\Python312\\Lib\\site-packages\\keras\\src\\layers\\core\\embedding.py:90: UserWarning: Argument `input_length` is deprecated. Just remove it.\n",
            "  warnings.warn(\n"
          ]
        },
        {
          "name": "stdout",
          "output_type": "stream",
          "text": [
            "Epoch 1/10\n",
            "\u001b[1m185/185\u001b[0m \u001b[32m━━━━━━━━━━━━━━━━━━━━\u001b[0m\u001b[37m\u001b[0m \u001b[1m33s\u001b[0m 97ms/step - accuracy: 0.6404 - loss: 0.5987 - val_accuracy: 0.8939 - val_loss: 0.2675\n",
            "Epoch 2/10\n",
            "\u001b[1m185/185\u001b[0m \u001b[32m━━━━━━━━━━━━━━━━━━━━\u001b[0m\u001b[37m\u001b[0m \u001b[1m13s\u001b[0m 67ms/step - accuracy: 0.9686 - loss: 0.1147 - val_accuracy: 0.9236 - val_loss: 0.2068\n",
            "Epoch 3/10\n",
            "\u001b[1m185/185\u001b[0m \u001b[32m━━━━━━━━━━━━━━━━━━━━\u001b[0m\u001b[37m\u001b[0m \u001b[1m11s\u001b[0m 60ms/step - accuracy: 0.9891 - loss: 0.0283 - val_accuracy: 0.9243 - val_loss: 0.2083\n",
            "Epoch 4/10\n",
            "\u001b[1m185/185\u001b[0m \u001b[32m━━━━━━━━━━━━━━━━━━━━\u001b[0m\u001b[37m\u001b[0m \u001b[1m11s\u001b[0m 59ms/step - accuracy: 0.9947 - loss: 0.0161 - val_accuracy: 0.9236 - val_loss: 0.2104\n",
            "Epoch 5/10\n",
            "\u001b[1m185/185\u001b[0m \u001b[32m━━━━━━━━━━━━━━━━━━━━\u001b[0m\u001b[37m\u001b[0m \u001b[1m11s\u001b[0m 60ms/step - accuracy: 0.9937 - loss: 0.0131 - val_accuracy: 0.9196 - val_loss: 0.2268\n",
            "Epoch 6/10\n",
            "\u001b[1m185/185\u001b[0m \u001b[32m━━━━━━━━━━━━━━━━━━━━\u001b[0m\u001b[37m\u001b[0m \u001b[1m11s\u001b[0m 60ms/step - accuracy: 0.9955 - loss: 0.0112 - val_accuracy: 0.9203 - val_loss: 0.2217\n",
            "Epoch 7/10\n",
            "\u001b[1m185/185\u001b[0m \u001b[32m━━━━━━━━━━━━━━━━━━━━\u001b[0m\u001b[37m\u001b[0m \u001b[1m11s\u001b[0m 60ms/step - accuracy: 0.9946 - loss: 0.0144 - val_accuracy: 0.9209 - val_loss: 0.2266\n",
            "Epoch 8/10\n",
            "\u001b[1m185/185\u001b[0m \u001b[32m━━━━━━━━━━━━━━━━━━━━\u001b[0m\u001b[37m\u001b[0m \u001b[1m11s\u001b[0m 59ms/step - accuracy: 0.9959 - loss: 0.0116 - val_accuracy: 0.9223 - val_loss: 0.2241\n",
            "Epoch 9/10\n",
            "\u001b[1m185/185\u001b[0m \u001b[32m━━━━━━━━━━━━━━━━━━━━\u001b[0m\u001b[37m\u001b[0m \u001b[1m11s\u001b[0m 60ms/step - accuracy: 0.9960 - loss: 0.0111 - val_accuracy: 0.9162 - val_loss: 0.2289\n",
            "Epoch 10/10\n",
            "\u001b[1m185/185\u001b[0m \u001b[32m━━━━━━━━━━━━━━━━━━━━\u001b[0m\u001b[37m\u001b[0m \u001b[1m11s\u001b[0m 60ms/step - accuracy: 0.9956 - loss: 0.0105 - val_accuracy: 0.9203 - val_loss: 0.2275\n",
            "\u001b[1m47/47\u001b[0m \u001b[32m━━━━━━━━━━━━━━━━━━━━\u001b[0m\u001b[37m\u001b[0m \u001b[1m0s\u001b[0m 3ms/step - accuracy: 0.9249 - loss: 0.2161\n",
            "Loss: 0.22747647762298584, Accuracy: 0.9202702641487122\n"
          ]
        }
      ],
      "source": [
        "import pandas as pd\n",
        "import numpy as np\n",
        "from sklearn.model_selection import train_test_split\n",
        "from sklearn.preprocessing import LabelEncoder\n",
        "from tensorflow.keras.preprocessing.text import Tokenizer\n",
        "from tensorflow.keras.preprocessing.sequence import pad_sequences\n",
        "from tensorflow.keras.models import Sequential\n",
        "from tensorflow.keras.layers import Embedding, Flatten, Dense\n",
        "\n",
        "\n",
        "comments = data['clean_text'].values\n",
        "labels = data['Label'].values\n",
        "\n",
        "# Prétraitement des étiquettes (si nécessaire)\n",
        "label_encoder = LabelEncoder()\n",
        "labels = label_encoder.fit_transform(labels)\n",
        "\n",
        "# Tokenization des commentaires\n",
        "tokenizer = Tokenizer()\n",
        "tokenizer.fit_on_texts(comments)\n",
        "sequences = tokenizer.texts_to_sequences(comments)\n",
        "\n",
        "# Padding des séquences\n",
        "max_length = max([len(seq) for seq in sequences])\n",
        "padded_sequences = pad_sequences(sequences, maxlen=max_length, padding='post')\n",
        "\n",
        "# Création du modèle\n",
        "vocab_size = len(tokenizer.word_index) + 1\n",
        "embedding_dim = 100\n",
        "\n",
        "model = Sequential([\n",
        "    Embedding(vocab_size, embedding_dim, input_length=max_length),\n",
        "    Flatten(),\n",
        "    Dense(64, activation='relu'),\n",
        "    Dense(1, activation='sigmoid')  # Couche de sortie pour la classification binaire\n",
        "])\n",
        "\n",
        "# Compilation du modèle\n",
        "model.compile(optimizer='adam', loss='binary_crossentropy', metrics=['accuracy'])\n",
        "\n",
        "# Division des données en ensembles d'entraînement et de test\n",
        "X_train, X_test, y_train, y_test = train_test_split(padded_sequences, labels, test_size=0.2, random_state=42)\n",
        "\n",
        "# Entraînement du modèle\n",
        "model.fit(X_train, y_train, epochs=10, batch_size=32, validation_data=(X_test, y_test))\n",
        "\n",
        "# Évaluation du modèle\n",
        "loss, accuracy = model.evaluate(X_test, y_test)\n",
        "print(f'Loss: {loss}, Accuracy: {accuracy}')\n"
      ]
    }
  ],
  "metadata": {
    "colab": {
      "provenance": []
    },
    "kernelspec": {
      "display_name": "Python 3",
      "name": "python3"
    },
    "language_info": {
      "codemirror_mode": {
        "name": "ipython",
        "version": 3
      },
      "file_extension": ".py",
      "mimetype": "text/x-python",
      "name": "python",
      "nbconvert_exporter": "python",
      "pygments_lexer": "ipython3",
      "version": "3.12.3"
    }
  },
  "nbformat": 4,
  "nbformat_minor": 0
}
